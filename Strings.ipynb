{
 "cells": [
  {
   "cell_type": "code",
   "execution_count": 2,
   "metadata": {},
   "outputs": [
    {
     "name": "stdout",
     "output_type": "stream",
     "text": [
      "this is a unicode string\n",
      "this is a raw string\n"
     ]
    }
   ],
   "source": [
    "# Strings\n",
    "a ='this is a string'\n",
    "b =\"this is a string\"\n",
    "c = '''this is  a string\n",
    "with two lines'''\n",
    "d=b'this is a byte string' # unicode string\n",
    "f = r'this is a raw string' #raw string\n",
    "e =u'this is a unicode string' # unicode string\n",
    "print(e)\n",
    "print(f)\n"
   ]
  },
  {
   "cell_type": "code",
   "execution_count": 4,
   "metadata": {},
   "outputs": [
    {
     "name": "stdout",
     "output_type": "stream",
     "text": [
      "C:\\Users\\user\\OneDrive\\Documents\\Python data science\\t2.py\n"
     ]
    }
   ],
   "source": [
    "path = r'C:\\Users\\user\\OneDrive\\Documents\\Python data science\\t2.py'\n",
    "print(path) # raw input is used to print the exact path of any file"
   ]
  },
  {
   "cell_type": "code",
   "execution_count": 5,
   "metadata": {},
   "outputs": [
    {
     "name": "stdout",
     "output_type": "stream",
     "text": [
      "10\n"
     ]
    }
   ],
   "source": [
    "x = 10\n",
    "x =str(x)# converted to string\n",
    "print(x)\n"
   ]
  },
  {
   "cell_type": "code",
   "execution_count": 2,
   "metadata": {},
   "outputs": [
    {
     "name": "stdout",
     "output_type": "stream",
     "text": [
      "str= digipodium\n",
      "str[0]= d\n",
      "str[1]= i\n",
      "str[-1]= m\n",
      "str[-2]= u\n"
     ]
    }
   ],
   "source": [
    "str = 'digipodium'\n",
    "print('str=',str)\n",
    "\n",
    "#first character\n",
    "print('str[0]=',str[0])# negative indexing allowed in python\n",
    "#second character\n",
    "print('str[1]=',str[1])\n",
    "\n",
    "#last character\n",
    "print('str[-1]=',str[-1])\n",
    "\n",
    "#second last character\n",
    "print('str[-2]=',str[-2])"
   ]
  },
  {
   "cell_type": "code",
   "execution_count": 4,
   "metadata": {},
   "outputs": [
    {
     "name": "stdout",
     "output_type": "stream",
     "text": [
      "art\n"
     ]
    }
   ],
   "source": [
    "s = 'La Martiniere'\n",
    "slice1 = s[4:7]  #slicing concept \n",
    "print(slice1)"
   ]
  },
  {
   "cell_type": "code",
   "execution_count": 7,
   "metadata": {},
   "outputs": [
    {
     "name": "stdout",
     "output_type": "stream",
     "text": [
      "Vijay\n"
     ]
    }
   ],
   "source": [
    "name = 'Vijay Deenanath Chauhan'\n",
    "#slice2 = name[0:5]\n",
    "slice2 = name[:5]\n",
    "print(slice2)"
   ]
  },
  {
   "cell_type": "code",
   "execution_count": 11,
   "metadata": {},
   "outputs": [
    {
     "data": {
      "text/plain": [
       "'Chauhan'"
      ]
     },
     "execution_count": 11,
     "metadata": {},
     "output_type": "execute_result"
    }
   ],
   "source": [
    "name[-7:len(name)]"
   ]
  },
  {
   "cell_type": "code",
   "execution_count": 13,
   "metadata": {},
   "outputs": [
    {
     "data": {
      "text/plain": [
       "'Deenanath '"
      ]
     },
     "execution_count": 13,
     "metadata": {},
     "output_type": "execute_result"
    }
   ],
   "source": [
    "name[6:16]"
   ]
  },
  {
   "cell_type": "code",
   "execution_count": 15,
   "metadata": {},
   "outputs": [
    {
     "name": "stdout",
     "output_type": "stream",
     "text": [
      "Vijay\n",
      "Chauhan\n"
     ]
    }
   ],
   "source": [
    "fname = name[:5]\n",
    "lname = name[-7:]\n",
    "print(fname)\n",
    "print(lname)"
   ]
  },
  {
   "cell_type": "code",
   "execution_count": 16,
   "metadata": {},
   "outputs": [
    {
     "data": {
      "text/plain": [
       "'VjyDeaahCahn'"
      ]
     },
     "execution_count": 16,
     "metadata": {},
     "output_type": "execute_result"
    }
   ],
   "source": [
    "name[::2]"
   ]
  },
  {
   "cell_type": "code",
   "execution_count": 17,
   "metadata": {},
   "outputs": [
    {
     "data": {
      "text/plain": [
       "'nahuahC htananeeD yajiV'"
      ]
     },
     "execution_count": 17,
     "metadata": {},
     "output_type": "execute_result"
    }
   ],
   "source": [
    "name[::-1] # reverse the string"
   ]
  },
  {
   "cell_type": "code",
   "execution_count": null,
   "metadata": {},
   "outputs": [],
   "source": []
  },
  {
   "attachments": {},
   "cell_type": "markdown",
   "metadata": {},
   "source": [
    "String  methods\n",
    "    -  validation methods \n",
    "     -isalpha\n",
    "     -isnumeric\n",
    "     -isalnum\n",
    "     -isspace\n",
    "     -isupper\n",
    "     -islower\n",
    "     -istitle\n",
    "     -startswith\n",
    "     -endswith\n",
    "     returns output in the form of true or false\n",
    "- formattting methods\n",
    "    - upper\n",
    "    -lower\n",
    "    -title\n",
    "    -swapcase\n",
    "    -capitalize\n",
    "    -casefold\n",
    "- utility methods-\n",
    "    - count\n",
    "    - find\n",
    "    - replace\n",
    "    - split\n",
    "    - join\n",
    "    - strip"
   ]
  },
  {
   "cell_type": "code",
   "execution_count": 19,
   "metadata": {},
   "outputs": [
    {
     "name": "stdout",
     "output_type": "stream",
     "text": [
      "Invalid input\n"
     ]
    }
   ],
   "source": [
    "x = input('Enter then number:')\n",
    "if x.isnumeric():\n",
    "    x = int(x)\n",
    "    print(x)\n",
    "else:\n",
    "    print(\"Invalid input\")"
   ]
  },
  {
   "cell_type": "code",
   "execution_count": 21,
   "metadata": {},
   "outputs": [
    {
     "name": "stdout",
     "output_type": "stream",
     "text": [
      "Hello alex006\n"
     ]
    }
   ],
   "source": [
    "uname = input('Enter your name:')\n",
    "if uname.isalnum():\n",
    "    print('Hello',uname)\n",
    "else:\n",
    "    print(\"Invalid input\")"
   ]
  },
  {
   "cell_type": "code",
   "execution_count": 25,
   "metadata": {},
   "outputs": [
    {
     "name": "stdout",
     "output_type": "stream",
     "text": [
      "Invalid input\n"
     ]
    }
   ],
   "source": [
    "uname = input('Enter the string:')\n",
    "if uname.startswith('Chandresh'):\n",
    "    print(\"Hello\",uname)\n",
    "else:\n",
    "    print('Invalid input')"
   ]
  },
  {
   "cell_type": "code",
   "execution_count": 26,
   "metadata": {},
   "outputs": [
    {
     "name": "stdout",
     "output_type": "stream",
     "text": [
      "Welcome Mr.Anand\n",
      "Welcome Mrs.Vijay\n",
      "Welcome Mrs.Ravi\n",
      "You are not invited Er.Rajesh\n"
     ]
    }
   ],
   "source": [
    "names =['Mr.Anand','Mrs.Vijay','Mrs.Ravi','Er.Rajesh']\n",
    "for name in names:\n",
    "    if name.startswith('Mr') or name.startswith('Mrs.'):\n",
    "        print(f'Welcome {name}')\n",
    "    else:\n",
    "        print(f'You are not invited {name}')"
   ]
  },
  {
   "cell_type": "code",
   "execution_count": 27,
   "metadata": {},
   "outputs": [
    {
     "name": "stdout",
     "output_type": "stream",
     "text": [
      "abc.txt    text file\n",
      "xyz.doc    unknown file type\n",
      "pqr.py     python file\n",
      "mno.py     python file\n",
      "def.txt    text file\n"
     ]
    }
   ],
   "source": [
    "files = ['abc.txt','xyz.doc','pqr.py','mno.py','def.txt']\n",
    "for item in files:\n",
    "    if item.endswith('.txt'):\n",
    "        print(f'{item:10} text file')\n",
    "    elif item.endswith('.py'):\n",
    "        print(f'{item:10} python file')\n",
    "    else:\n",
    "        print(f'{item:10} unknown file type')"
   ]
  },
  {
   "cell_type": "code",
   "execution_count": 32,
   "metadata": {},
   "outputs": [
    {
     "name": "stdout",
     "output_type": "stream",
     "text": [
      "JOURNEY BEFORE DESTINATION\n",
      "journey before destination\n",
      "Journey Before Destination\n",
      "Journey before destination\n",
      "jOURNEY BEFORE DESTINATION\n",
      "journey before destination\n"
     ]
    }
   ],
   "source": [
    "name = \"Journey before destination\"\n",
    "print(name.upper())\n",
    "print(name.lower())\n",
    "print(name.title())\n",
    "print(name.capitalize())\n",
    "print(name.swapcase())\n",
    "print(name.casefold()) #--> get the characters in the lowercase"
   ]
  },
  {
   "cell_type": "code",
   "execution_count": 38,
   "metadata": {},
   "outputs": [
    {
     "name": "stdout",
     "output_type": "stream",
     "text": [
      "4\n",
      "4\n",
      "The vowels are: 13\n"
     ]
    }
   ],
   "source": [
    "#utility functions -\n",
    "s = 'this is an example string , this is a simple string'\n",
    "print(s.count('is'))\n",
    "print(s.count('t'))\n",
    "tv = s.count('a') + s.count('e') + s.count('i') +s.count('o') + s.count('u')\n",
    "print(\"The vowels are:\",tv)\n"
   ]
  },
  {
   "cell_type": "code",
   "execution_count": 41,
   "metadata": {},
   "outputs": [
    {
     "name": "stdout",
     "output_type": "stream",
     "text": [
      "11\n",
      "5\n"
     ]
    }
   ],
   "source": [
    "print(s.find('example')) # first index of example word 'e'\n",
    "print(s.find('is',3)) # rfind is used for reverse serching"
   ]
  },
  {
   "cell_type": "code",
   "execution_count": 42,
   "metadata": {},
   "outputs": [
    {
     "data": {
      "text/plain": [
       "'thwas was an example string , thwas was a simple string'"
      ]
     },
     "execution_count": 42,
     "metadata": {},
     "output_type": "execute_result"
    }
   ],
   "source": [
    "s.replace('is','was')"
   ]
  },
  {
   "cell_type": "code",
   "execution_count": 43,
   "metadata": {},
   "outputs": [
    {
     "data": {
      "text/plain": [
       "'this was an example string , this was a simple string'"
      ]
     },
     "execution_count": 43,
     "metadata": {},
     "output_type": "execute_result"
    }
   ],
   "source": [
    "s.replace(' is ',' was ') # replace only the word 'is'"
   ]
  },
  {
   "cell_type": "code",
   "execution_count": 45,
   "metadata": {},
   "outputs": [
    {
     "name": "stdout",
     "output_type": "stream",
     "text": [
      "['this', 'is', 'an', 'example', 'string', ',', 'this', 'is', 'a', 'simple', 'string']\n"
     ]
    }
   ],
   "source": [
    "words = s.split()\n",
    "print(words)"
   ]
  },
  {
   "cell_type": "code",
   "execution_count": 46,
   "metadata": {},
   "outputs": [
    {
     "data": {
      "text/plain": [
       "['this is an example string ', ' this is a simple string']"
      ]
     },
     "execution_count": 46,
     "metadata": {},
     "output_type": "execute_result"
    }
   ],
   "source": [
    "s.split(',')"
   ]
  },
  {
   "cell_type": "code",
   "execution_count": 48,
   "metadata": {},
   "outputs": [
    {
     "data": {
      "text/plain": [
       "'One--Two--Three--Four'"
      ]
     },
     "execution_count": 48,
     "metadata": {},
     "output_type": "execute_result"
    }
   ],
   "source": [
    "words = ['One','Two','Three','Four']\n",
    "\"--\".join(words)"
   ]
  },
  {
   "cell_type": "code",
   "execution_count": 50,
   "metadata": {},
   "outputs": [
    {
     "name": "stdout",
     "output_type": "stream",
     "text": [
      "Aryan\n"
     ]
    }
   ],
   "source": [
    "x = ' Aryan \\n\\n'# uselful in data cleaning and data mining\n",
    "print(x.strip()) # to remove the space"
   ]
  },
  {
   "cell_type": "code",
   "execution_count": null,
   "metadata": {},
   "outputs": [],
   "source": []
  }
 ],
 "metadata": {
  "kernelspec": {
   "display_name": "base",
   "language": "python",
   "name": "python3"
  },
  "language_info": {
   "codemirror_mode": {
    "name": "ipython",
    "version": 3
   },
   "file_extension": ".py",
   "mimetype": "text/x-python",
   "name": "python",
   "nbconvert_exporter": "python",
   "pygments_lexer": "ipython3",
   "version": "3.10.10"
  },
  "orig_nbformat": 4
 },
 "nbformat": 4,
 "nbformat_minor": 2
}
