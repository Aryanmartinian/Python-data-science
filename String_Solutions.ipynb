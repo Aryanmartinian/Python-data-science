{
 "cells": [
  {
   "cell_type": "code",
   "execution_count": 14,
   "metadata": {},
   "outputs": [
    {
     "name": "stdout",
     "output_type": "stream",
     "text": [
      "Samrat  Prithviraj "
     ]
    }
   ],
   "source": [
    "fname =\"Samrat\"\n",
    "lname = \"Prithviraj\"\n",
    "print(fname,\"\",lname,end=\" \")\n"
   ]
  },
  {
   "cell_type": "code",
   "execution_count": 16,
   "metadata": {},
   "outputs": [
    {
     "name": "stdout",
     "output_type": "stream",
     "text": [
      "Rocketry\n",
      "8\n"
     ]
    }
   ],
   "source": [
    "name = input(\"Enter the name of the movie based on the greatest indian Scientist:\")\n",
    "print(name)\n",
    "print(len(name))"
   ]
  },
  {
   "cell_type": "code",
   "execution_count": 22,
   "metadata": {},
   "outputs": [
    {
     "name": "stdout",
     "output_type": "stream",
     "text": [
      "great\n"
     ]
    }
   ],
   "source": [
    "name2 = 'Python is great'\n",
    "print(name2[10:15])"
   ]
  },
  {
   "cell_type": "code",
   "execution_count": 26,
   "metadata": {},
   "outputs": [
    {
     "name": "stdout",
     "output_type": "stream",
     "text": [
      " Python \n",
      " Python is \n",
      " Python is everywhere \n"
     ]
    }
   ],
   "source": [
    "quote = 'Python is everywhere'\n",
    "x = quote.split()\n",
    "newitem = ' '\n",
    "for item in x:\n",
    "    newitem+='{} '.format(item)\n",
    "    print('{}'.format(newitem))\n"
   ]
  },
  {
   "cell_type": "code",
   "execution_count": 34,
   "metadata": {},
   "outputs": [
    {
     "name": "stdout",
     "output_type": "stream",
     "text": [
      "dlroW olleH\n"
     ]
    }
   ],
   "source": [
    "name4 = 'Hello World'\n",
    "print(name4[::-1]) #reverse the string\n"
   ]
  },
  {
   "cell_type": "code",
   "execution_count": 35,
   "metadata": {},
   "outputs": [
    {
     "name": "stdout",
     "output_type": "stream",
     "text": [
      "HOW ARE YOU ?\n"
     ]
    }
   ],
   "source": [
    "quote2 = 'How are you ?'\n",
    "print(quote2.upper())"
   ]
  },
  {
   "cell_type": "code",
   "execution_count": 36,
   "metadata": {},
   "outputs": [
    {
     "name": "stdout",
     "output_type": "stream",
     "text": [
      "how is it going ?\n"
     ]
    }
   ],
   "source": [
    "quote3 = 'HOW IS IT GOING ?'\n",
    "print(quote3.lower())"
   ]
  },
  {
   "cell_type": "code",
   "execution_count": 44,
   "metadata": {},
   "outputs": [
    {
     "name": "stdout",
     "output_type": "stream",
     "text": [
      "Journey before destination Stay in home while everybody is out "
     ]
    }
   ],
   "source": [
    "string1 = 'Journey before destination'\n",
    "string2 = 'Stay in home while everybody is out'\n",
    "print(string1,string2,end=\" \")"
   ]
  },
  {
   "cell_type": "code",
   "execution_count": 46,
   "metadata": {},
   "outputs": [
    {
     "name": "stdout",
     "output_type": "stream",
     "text": [
      "the variable is 15\n"
     ]
    }
   ],
   "source": [
    "x = input('Enter the string:')\n",
    "print(x)"
   ]
  },
  {
   "cell_type": "code",
   "execution_count": 49,
   "metadata": {},
   "outputs": [
    {
     "name": "stdout",
     "output_type": "stream",
     "text": [
      "Python is great\n",
      "Python,is,great\n"
     ]
    }
   ],
   "source": [
    "s1 = 'Python'\n",
    "s2 = 'is'\n",
    "s3 = 'great'\n",
    "print(s1,s2,s3,end=\"\\n\")\n",
    "print(s1,s2,s3,sep=\",\")"
   ]
  },
  {
   "cell_type": "code",
   "execution_count": 59,
   "metadata": {},
   "outputs": [
    {
     "name": "stdout",
     "output_type": "stream",
     "text": [
      "1 .\n",
      "2 .\n",
      "3 .\n",
      "4 .\n",
      "5 .\n",
      "6 .\n",
      "7 .\n",
      "8 .\n",
      "9 .\n"
     ]
    }
   ],
   "source": [
    "for i in range(1,10):\n",
    "    print(i,'.',sep=\" \")"
   ]
  },
  {
   "cell_type": "code",
   "execution_count": 60,
   "metadata": {},
   "outputs": [
    {
     "name": "stdout",
     "output_type": "stream",
     "text": [
      "True\n"
     ]
    }
   ],
   "source": [
    "quote4 = 'How are you ?'\n",
    "print(quote4.endswith('?'))"
   ]
  },
  {
   "cell_type": "code",
   "execution_count": 61,
   "metadata": {},
   "outputs": [
    {
     "name": "stdout",
     "output_type": "stream",
     "text": [
      "2\n"
     ]
    }
   ],
   "source": [
    "name5 ='Hello how are you'\n",
    "print(name5.count('e'))"
   ]
  },
  {
   "cell_type": "code",
   "execution_count": 64,
   "metadata": {},
   "outputs": [
    {
     "name": "stdout",
     "output_type": "stream",
     "text": [
      "The alphabet appears: 1\n"
     ]
    }
   ],
   "source": [
    "# counting alphabet using loops concepts-\n",
    "name6 = input('Enter the String:')\n",
    "count =0\n",
    "for i in name6:\n",
    "    if i == 'e':\n",
    "        count+=1\n",
    "print(\"The alphabet appears:\",count)"
   ]
  },
  {
   "cell_type": "code",
   "execution_count": 68,
   "metadata": {},
   "outputs": [],
   "source": [
    "name7 = input('Enter the string:')\n",
    "result = True\n",
    "for i in name7:\n",
    "    if i.upper() == result:\n",
    "        print(\"the uppercase in the string is:\",i)\n",
    "\n"
   ]
  },
  {
   "cell_type": "code",
   "execution_count": 69,
   "metadata": {},
   "outputs": [
    {
     "name": "stdout",
     "output_type": "stream",
     "text": [
      "['J', 'o', 'e', ',', ' ', 'D', 'a', 'v', 'i', 'd', ',', ' ', 'M', 'a', 'r', 'k', ',', ' ', 'T', 'o', 'm', ',', ' ', 'C', 'h', 'r', 'i', 's', ',', ' ', 'R', 'o', 'b', 'e', 'r', 't']\n"
     ]
    }
   ],
   "source": [
    "names = 'Joe, David, Mark, Tom, Chris, Robert'\n",
    "print(list(names))"
   ]
  },
  {
   "cell_type": "code",
   "execution_count": null,
   "metadata": {},
   "outputs": [],
   "source": [
    "\n"
   ]
  }
 ],
 "metadata": {
  "kernelspec": {
   "display_name": "base",
   "language": "python",
   "name": "python3"
  },
  "language_info": {
   "codemirror_mode": {
    "name": "ipython",
    "version": 3
   },
   "file_extension": ".py",
   "mimetype": "text/x-python",
   "name": "python",
   "nbconvert_exporter": "python",
   "pygments_lexer": "ipython3",
   "version": "3.10.10"
  },
  "orig_nbformat": 4
 },
 "nbformat": 4,
 "nbformat_minor": 2
}
