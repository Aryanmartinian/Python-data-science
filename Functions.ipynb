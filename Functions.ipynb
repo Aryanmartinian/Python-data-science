{
 "cells": [
  {
   "cell_type": "code",
   "execution_count": 5,
   "metadata": {},
   "outputs": [
    {
     "name": "stdout",
     "output_type": "stream",
     "text": [
      "Rakesh chandra\n"
     ]
    }
   ],
   "source": [
    "def name(n): # parameterized parameter\n",
    "    return n\n",
    "print(name('Rakesh chandra'))"
   ]
  },
  {
   "cell_type": "code",
   "execution_count": 6,
   "metadata": {},
   "outputs": [],
   "source": [
    "def kuchbhi():\n",
    "    pass  "
   ]
  },
  {
   "cell_type": "code",
   "execution_count": 8,
   "metadata": {},
   "outputs": [
    {
     "name": "stdout",
     "output_type": "stream",
     "text": [
      "output is 35\n"
     ]
    }
   ],
   "source": [
    "def add5():\n",
    "    x = int(input('Enter the first number:'))\n",
    "    y = int(input('Enter the second number:'))\n",
    "    z = int(input('Enter the third number:'))\n",
    "    a = int(input(\"Enter the fourth number:\"))\n",
    "    b = int(input('Enter the fifth number:'))\n",
    "    print(f'output is {x+y+z+a+b}')  # non-returning function ( no return value)\n",
    "add5()\n"
   ]
  },
  {
   "cell_type": "code",
   "execution_count": 10,
   "metadata": {},
   "outputs": [
    {
     "data": {
      "text/plain": [
       "30"
      ]
     },
     "execution_count": 10,
     "metadata": {},
     "output_type": "execute_result"
    }
   ],
   "source": [
    "def add5(a,b,c,d,e):\n",
    "    return a+b+c+d+e\n",
    "add5(4,5,6,7,8)"
   ]
  },
  {
   "cell_type": "code",
   "execution_count": 11,
   "metadata": {},
   "outputs": [
    {
     "name": "stdout",
     "output_type": "stream",
     "text": [
      "15\n"
     ]
    }
   ],
   "source": [
    "ans = add5(1,2,3,4,5)\n",
    "print(ans)"
   ]
  },
  {
   "cell_type": "code",
   "execution_count": 12,
   "metadata": {},
   "outputs": [],
   "source": [
    "# fibonacci series\n",
    "def fib10():\n",
    "    x =[0,1]\n",
    "    for _ in range(8):\n",
    "        x.append(x[-1]+x[-2])\n",
    "    return x"
   ]
  },
  {
   "cell_type": "code",
   "execution_count": 13,
   "metadata": {},
   "outputs": [
    {
     "data": {
      "text/plain": [
       "[0, 1, 1, 2, 3, 5, 8, 13, 21, 34]"
      ]
     },
     "execution_count": 13,
     "metadata": {},
     "output_type": "execute_result"
    }
   ],
   "source": [
    "fib10()"
   ]
  },
  {
   "cell_type": "code",
   "execution_count": null,
   "metadata": {},
   "outputs": [],
   "source": [
    "def fib_extreme(first,second,size):\n",
    "    x = [first,second]\n",
    "    for _ in range(size-2):\n",
    "        x.append(x[-1]+x[-2])\n",
    "    return x"
   ]
  },
  {
   "attachments": {},
   "cell_type": "markdown",
   "metadata": {},
   "source": [
    "Types of Functions in python on basis of parameter-\n",
    "1. Required argument function\n",
    "2. keyword argument function\n",
    "3. Default argument function\n",
    "4. Variable length argument function --\n",
    "      *args(variable length argument),\n",
    "      **kwargs(variable length keyword argument)"
   ]
  },
  {
   "cell_type": "code",
   "execution_count": 1,
   "metadata": {},
   "outputs": [],
   "source": [
    "def multiplier(x,y):\n",
    "    return x*y"
   ]
  },
  {
   "cell_type": "code",
   "execution_count": 4,
   "metadata": {},
   "outputs": [
    {
     "name": "stdout",
     "output_type": "stream",
     "text": [
      "6\n",
      "396\n",
      "2\n"
     ]
    }
   ],
   "source": [
    "print(multiplier(2,3))\n",
    "print(multiplier(12,33))\n",
    "print(multiplier(2,1))"
   ]
  },
  {
   "cell_type": "code",
   "execution_count": 5,
   "metadata": {},
   "outputs": [],
   "source": [
    "def si(p,r,t):\n",
    "    return p*r*t/100"
   ]
  },
  {
   "cell_type": "code",
   "execution_count": 8,
   "metadata": {},
   "outputs": [
    {
     "name": "stdout",
     "output_type": "stream",
     "text": [
      "100.0\n",
      "10.0\n"
     ]
    }
   ],
   "source": [
    "print(si(1000,10,1))\n",
    "print(si(p=100,r=10,t=1))"
   ]
  },
  {
   "cell_type": "code",
   "execution_count": 10,
   "metadata": {},
   "outputs": [
    {
     "name": "stdout",
     "output_type": "stream",
     "text": [
      "10.0\n",
      "100.0\n"
     ]
    }
   ],
   "source": [
    "print(si(10,100,1))\n",
    "print(si(t=1,r=10,p=1000)) # positional arguments"
   ]
  },
  {
   "cell_type": "code",
   "execution_count": 22,
   "metadata": {},
   "outputs": [],
   "source": [
    "def multiplierv2(x=1,y=1,z=1): # z is default arguments(values are given at the initialization)\n",
    "    return x*y*z"
   ]
  },
  {
   "cell_type": "code",
   "execution_count": 23,
   "metadata": {},
   "outputs": [
    {
     "name": "stdout",
     "output_type": "stream",
     "text": [
      "8\n",
      "80\n",
      "80\n",
      "2000\n",
      "1\n",
      "12\n",
      "12\n",
      "2400\n"
     ]
    }
   ],
   "source": [
    "print(multiplierv2(2,4)) # Exmple of polymorphism\n",
    "print(multiplierv2(2,4,10))\n",
    "print(multiplierv2(2,4,z=10))\n",
    "print(multiplierv2(x=2,z=10,y=100))\n",
    "print(multiplierv2())\n",
    "print(multiplierv2(12))\n",
    "print(multiplierv2(z=12))\n",
    "print(multiplierv2(z=12,x=200))"
   ]
  },
  {
   "cell_type": "code",
   "execution_count": 24,
   "metadata": {},
   "outputs": [],
   "source": [
    "# Variable length arguments -\n",
    "def mean(*numbers): # another form can be *args\n",
    "    print(numbers)\n",
    "    print(type(numbers))"
   ]
  },
  {
   "cell_type": "code",
   "execution_count": 25,
   "metadata": {},
   "outputs": [
    {
     "name": "stdout",
     "output_type": "stream",
     "text": [
      "(1, 2, 3, 4, 5, 6, 7, 8, 9, 10)\n",
      "<class 'tuple'>\n"
     ]
    }
   ],
   "source": [
    "mean(1,2,3,4,5,6,7,8,9,10)\n"
   ]
  },
  {
   "cell_type": "code",
   "execution_count": 26,
   "metadata": {},
   "outputs": [],
   "source": [
    "def mean(*numbers):\n",
    "    return sum(numbers)/len(numbers)"
   ]
  },
  {
   "cell_type": "code",
   "execution_count": 27,
   "metadata": {},
   "outputs": [
    {
     "data": {
      "text/plain": [
       "5.5"
      ]
     },
     "execution_count": 27,
     "metadata": {},
     "output_type": "execute_result"
    }
   ],
   "source": [
    "mean(1,2,3,4,5,6,7,8,9,10)"
   ]
  },
  {
   "cell_type": "code",
   "execution_count": 28,
   "metadata": {},
   "outputs": [
    {
     "name": "stdout",
     "output_type": "stream",
     "text": [
      "from turtle import *\n",
      "speed('fastest')\n",
      "angle = 360/6\n",
      "distance = 100\n",
      "sides = 6\n",
      "for i in range(sides):\n",
      "    pencolor('red') # to change the color of pen\n",
      "    fd(distance)\n",
      "    rt(360/sides)\n",
      "    circle(distance/2)\n",
      "    for i in range(sides):\n",
      "        fd(distance/2)\n",
      "        rt(360/sides)\n",
      "        dot(10)\n",
      "        write(i)\n",
      "        for i in range(sides):\n",
      "            pencolor('blue')\n",
      "            fd(distance/4)\n",
      "            rt(360/sides)\n",
      "hideturtle()#360/6 to get the angle\n",
      "mainloop() # to keep the window open\n"
     ]
    }
   ],
   "source": [
    "# read a file in python\n",
    "with open('t1.py') as f:\n",
    "    print(f.read())"
   ]
  },
  {
   "cell_type": "code",
   "execution_count": 29,
   "metadata": {},
   "outputs": [],
   "source": [
    "# write file\n",
    "data = \"Journey before destination\"\n",
    "with open('quote.txt','w') as f:\n",
    "    f.write(data)"
   ]
  },
  {
   "cell_type": "code",
   "execution_count": 30,
   "metadata": {},
   "outputs": [],
   "source": [
    "codedemo = '''def thisfunc():\n",
    "               print(\"Hello World\")\n",
    "'''\n",
    "with open('code_with_coding.py','w') as f:\n",
    "    f.write(codedemo)"
   ]
  },
  {
   "cell_type": "code",
   "execution_count": 33,
   "metadata": {},
   "outputs": [],
   "source": [
    "# Second type variable length arguments - \n",
    "def report(**students):\n",
    "    for name,marks in students.items():\n",
    "        print(f'{name},score-{marks}')"
   ]
  },
  {
   "cell_type": "code",
   "execution_count": 34,
   "metadata": {},
   "outputs": [
    {
     "name": "stdout",
     "output_type": "stream",
     "text": [
      "ram,score-100\n",
      "shyam,score-200\n",
      "mohan,score-300\n"
     ]
    }
   ],
   "source": [
    "report(ram=100,shyam=200,mohan=300)"
   ]
  },
  {
   "cell_type": "code",
   "execution_count": 35,
   "metadata": {},
   "outputs": [],
   "source": [
    "def eq1(x=1):\n",
    "    return x**2+x*10+x\n"
   ]
  },
  {
   "cell_type": "code",
   "execution_count": 36,
   "metadata": {},
   "outputs": [
    {
     "name": "stdout",
     "output_type": "stream",
     "text": [
      "26 42 210\n"
     ]
    }
   ],
   "source": [
    "print(eq1(2),eq1(3),eq1(10))"
   ]
  },
  {
   "cell_type": "code",
   "execution_count": 37,
   "metadata": {},
   "outputs": [],
   "source": [
    "# using of lamda function(Anonymous function):\n",
    "f = lambda i: i**2+i*10+i"
   ]
  },
  {
   "cell_type": "code",
   "execution_count": 38,
   "metadata": {},
   "outputs": [
    {
     "name": "stdout",
     "output_type": "stream",
     "text": [
      "26 210\n"
     ]
    }
   ],
   "source": [
    "print(f(2),f(10))"
   ]
  },
  {
   "cell_type": "code",
   "execution_count": 39,
   "metadata": {},
   "outputs": [
    {
     "name": "stdout",
     "output_type": "stream",
     "text": [
      "11 35\n"
     ]
    }
   ],
   "source": [
    "g = lambda x,y: x+y if x>y else y-x\n",
    "print(g(2,13),g(33,2))"
   ]
  },
  {
   "cell_type": "code",
   "execution_count": null,
   "metadata": {},
   "outputs": [],
   "source": []
  }
 ],
 "metadata": {
  "kernelspec": {
   "display_name": "base",
   "language": "python",
   "name": "python3"
  },
  "language_info": {
   "codemirror_mode": {
    "name": "ipython",
    "version": 3
   },
   "file_extension": ".py",
   "mimetype": "text/x-python",
   "name": "python",
   "nbconvert_exporter": "python",
   "pygments_lexer": "ipython3",
   "version": "3.10.10"
  },
  "orig_nbformat": 4
 },
 "nbformat": 4,
 "nbformat_minor": 2
}
