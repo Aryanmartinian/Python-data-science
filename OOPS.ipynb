{
 "cells": [
  {
   "cell_type": "code",
   "execution_count": 1,
   "metadata": {},
   "outputs": [],
   "source": [
    "# creating an empty class-\n",
    "class Dog:\n",
    "    pass"
   ]
  },
  {
   "cell_type": "code",
   "execution_count": 2,
   "metadata": {},
   "outputs": [],
   "source": [
    "# creating object-\n",
    "obj = Dog()"
   ]
  },
  {
   "cell_type": "code",
   "execution_count": 5,
   "metadata": {},
   "outputs": [
    {
     "name": "stdout",
     "output_type": "stream",
     "text": [
      "Rodger is a mammal\n",
      "Tommy is a mammal\n",
      "My name is Rodger\n",
      "My name is Tommy\n"
     ]
    }
   ],
   "source": [
    "class Dog:\n",
    "    attr1 = 'mammal'# class attribute\n",
    "    def __init__(self,name): # constructor in python\n",
    "        self.name = name\n",
    "# object instialisation-\n",
    "Rodger = Dog('Rodger')\n",
    "Tommy = Dog('Tommy')\n",
    "#Accessing class attribute\n",
    "print('Rodger is a {}'.format(Rodger.__class__.attr1))\n",
    "print('Tommy is a {}'.format(Tommy.__class__.attr1))\n",
    "#Accessing instance attribute\n",
    "print('My name is {}'.format(Rodger.name))\n",
    "print('My name is {}'.format(Tommy.name))\n",
    "\n",
    "    \n"
   ]
  },
  {
   "cell_type": "code",
   "execution_count": 7,
   "metadata": {},
   "outputs": [
    {
     "name": "stdout",
     "output_type": "stream",
     "text": [
      "My name is Tommy\n",
      "My name is Sheru\n"
     ]
    }
   ],
   "source": [
    "# creating classes with methods-\n",
    "class Dog:\n",
    "    attr1='Mammal'\n",
    "    def __init__(self,name):\n",
    "        self.name = name\n",
    "    def speak(self):\n",
    "        print('My name is {}'.format(self.name))\n",
    "obj = Dog('Tommy')\n",
    "obj.speak()\n",
    "obj1 = Dog('Sheru')\n",
    "obj1.speak()"
   ]
  },
  {
   "cell_type": "code",
   "execution_count": 9,
   "metadata": {},
   "outputs": [
    {
     "name": "stdout",
     "output_type": "stream",
     "text": [
      "Rahul\n",
      "88602012\n",
      "My name is:Rahul\n",
      "Idnumber:88602012\n",
      "Post:Intern\n"
     ]
    }
   ],
   "source": [
    "#Inheritance in python-\n",
    "# Single inheritance - \n",
    "class Person:\n",
    "    def __init__(self,name,idnumber):\n",
    "        self.name = name\n",
    "        self.idnumber = idnumber\n",
    "    def display(self):\n",
    "        print(self.name)\n",
    "        print(self.idnumber)\n",
    "    def details(self):\n",
    "        print('My name is {}'.format(self.name))\n",
    "        print('Idnumber: {}'.format(self.idnumber))\n",
    "class Employee(Person):\n",
    "    def __init__(self, name, idnumber,salary,post):\n",
    "        self.salary = salary\n",
    "        self.post = post\n",
    "        Person.__init__(self, name, idnumber)# invoking parent constructor\n",
    "\n",
    "    def details(self):\n",
    "        print('My name is:{}'.format(self.name))\n",
    "        print('Idnumber:{}'.format(self.idnumber))\n",
    "        print('Post:{}'.format(self.post))\n",
    "\n",
    "a = Employee('Rahul',88602012,2000000,'Intern')\n",
    "a.display()\n",
    "a.details()\n",
    "    \n",
    "        "
   ]
  },
  {
   "cell_type": "code",
   "execution_count": 10,
   "metadata": {},
   "outputs": [
    {
     "name": "stdout",
     "output_type": "stream",
     "text": [
      "There are many types of Birds\n",
      "Most of the birds can fly but some not.\n",
      "There are many types of Birds\n",
      "Sparrows can fly\n",
      "There are many types of Birds\n",
      "Ostrich cannot fly\n"
     ]
    }
   ],
   "source": [
    "# Python Polymorphism-\n",
    "class Bird:\n",
    "    def intro(self):\n",
    "        print('There are many types of Birds')\n",
    "    def flight(self):\n",
    "        print('Most of the birds can fly but some not.')\n",
    "class Sparrow(Bird):\n",
    "    def flight(self):\n",
    "        print('Sparrows can fly')\n",
    "class Ostrich(Bird):\n",
    "    def flight(self):\n",
    "        print('Ostrich cannot fly')\n",
    "\n",
    "obj_bird = Bird()\n",
    "obj_spr = Sparrow()\n",
    "obj_ostr = Ostrich()\n",
    "obj_bird.intro()\n",
    "obj_bird.flight()\n",
    "obj_spr.intro()\n",
    "obj_spr.flight()\n",
    "obj_ostr.intro()\n",
    "obj_ostr.flight()\n"
   ]
  },
  {
   "cell_type": "code",
   "execution_count": 19,
   "metadata": {},
   "outputs": [
    {
     "name": "stdout",
     "output_type": "stream",
     "text": [
      "2\n",
      "5\n"
     ]
    }
   ],
   "source": [
    "#Data hiding-\n",
    "class MyClass:\n",
    "    __hiddenVariable = 0 # hidden member of MyClass\n",
    "    def add(self,increment):\n",
    "        self.__hiddenVariable+=increment\n",
    "        print(self.__hiddenVariable)\n",
    "myobject = MyClass()\n",
    "myobject.add(2)\n",
    "myobject.add(3)\n"
   ]
  },
  {
   "cell_type": "code",
   "execution_count": 20,
   "metadata": {},
   "outputs": [
    {
     "name": "stdout",
     "output_type": "stream",
     "text": [
      "True\n",
      "False\n",
      "True\n",
      "True\n"
     ]
    }
   ],
   "source": [
    "# checking the subclass -\n",
    "class Base():\n",
    "    pass\n",
    "class Derived(Base):\n",
    "    pass\n",
    "print(issubclass(Derived,Base))\n",
    "print(issubclass(Base,Derived))\n",
    "\n",
    "d = Base()\n",
    "e = Derived()\n",
    "print(isinstance(d,Base))\n",
    "print(isinstance(e,Derived))"
   ]
  },
  {
   "cell_type": "code",
   "execution_count": 27,
   "metadata": {},
   "outputs": [
    {
     "name": "stdout",
     "output_type": "stream",
     "text": [
      "10 20\n"
     ]
    }
   ],
   "source": [
    "# using super keyword in python-\n",
    "class Base:\n",
    "    def __init__(self,x):\n",
    "        self.x = x\n",
    "    #def print(self):\n",
    "     #   print('The coordinate are:',self.x)\n",
    "class Derived(Base):\n",
    "    def __init__(self,x,y):\n",
    "        self.y=y\n",
    "        super(Derived,self).__init__(x)\n",
    "    def printxy(self):\n",
    "        print(self.x,self.y)\n",
    "a = Derived(10,20)\n",
    "a.printxy()\n",
    "        "
   ]
  },
  {
   "cell_type": "code",
   "execution_count": 28,
   "metadata": {},
   "outputs": [
    {
     "data": {
      "text/plain": [
       "9"
      ]
     },
     "execution_count": 28,
     "metadata": {},
     "output_type": "execute_result"
    }
   ],
   "source": [
    "# taking input from user using set and get methods -\n",
    "class Addition:\n",
    "    def setmethod(self,x,y):\n",
    "        self.x = x\n",
    "        self.y = y\n",
    "    def add(self):\n",
    "        return self.x + self.y\n",
    "\n",
    "obj = Addition()\n",
    "x = int(input('Enter the first number:'))\n",
    "y = int(input('Enter the second number:'))\n",
    "obj.setmethod(x,y)\n",
    "obj.add()\n",
    "    "
   ]
  },
  {
   "cell_type": "code",
   "execution_count": 31,
   "metadata": {},
   "outputs": [
    {
     "name": "stdout",
     "output_type": "stream",
     "text": [
      "The mileage and max speed of the vehicle is: 98 120\n"
     ]
    }
   ],
   "source": [
    "class Vehicle:\n",
    "    mileage=98\n",
    "    max_speed = 120\n",
    "    def print(self):\n",
    "        print('The mileage and max speed of the vehicle is:',self.mileage,self.max_speed)\n",
    "obj = Vehicle()\n",
    "obj.print()\n",
    "#print('The mileage is:{}'.format(__class__.mileage))\n",
    "    "
   ]
  },
  {
   "cell_type": "code",
   "execution_count": null,
   "metadata": {},
   "outputs": [],
   "source": []
  }
 ],
 "metadata": {
  "kernelspec": {
   "display_name": "base",
   "language": "python",
   "name": "python3"
  },
  "language_info": {
   "codemirror_mode": {
    "name": "ipython",
    "version": 3
   },
   "file_extension": ".py",
   "mimetype": "text/x-python",
   "name": "python",
   "nbconvert_exporter": "python",
   "pygments_lexer": "ipython3",
   "version": "3.10.10"
  },
  "orig_nbformat": 4
 },
 "nbformat": 4,
 "nbformat_minor": 2
}
