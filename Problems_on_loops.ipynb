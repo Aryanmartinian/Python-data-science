{
 "cells": [
  {
   "cell_type": "code",
   "execution_count": 1,
   "metadata": {},
   "outputs": [
    {
     "name": "stdout",
     "output_type": "stream",
     "text": [
      "1\n",
      "2\n",
      "3\n",
      "4\n",
      "5\n",
      "6\n",
      "7\n",
      "8\n",
      "9\n",
      "10\n"
     ]
    }
   ],
   "source": [
    "# print numbers from 1 to 10:\n",
    "for i in range(1,11):\n",
    "    print(i)"
   ]
  },
  {
   "cell_type": "code",
   "execution_count": 3,
   "metadata": {},
   "outputs": [
    {
     "name": "stdout",
     "output_type": "stream",
     "text": [
      "1 * 2 = 2\n",
      "2 * 2 = 4\n",
      "3 * 2 = 6\n",
      "4 * 2 = 8\n",
      "5 * 2 = 10\n",
      "6 * 2 = 12\n",
      "7 * 2 = 14\n",
      "8 * 2 = 16\n",
      "9 * 2 = 18\n",
      "10 * 2 = 20\n"
     ]
    }
   ],
   "source": [
    "t=int(input(\"Enter the table :\"))\n",
    "s=int(input(\"Enter the starting number : \"))\n",
    "lim=int(input(\"Enter the limit :\"))\n",
    "while(s<=lim):\n",
    "  print(s,\"*\",t,\"=\",t*s)\n",
    "  s=s+1"
   ]
  },
  {
   "cell_type": "code",
   "execution_count": 14,
   "metadata": {},
   "outputs": [
    {
     "name": "stdout",
     "output_type": "stream",
     "text": [
      "2550\n"
     ]
    }
   ],
   "source": [
    "# sum of even numbers between 1 and\n",
    "sum=0\n",
    "for i in range(1,101):\n",
    "    if i%2==0:\n",
    "        sum= sum+i\n",
    "print(sum)"
   ]
  },
  {
   "cell_type": "code",
   "execution_count": 15,
   "metadata": {},
   "outputs": [
    {
     "name": "stdout",
     "output_type": "stream",
     "text": [
      "Number is prime number\n"
     ]
    }
   ],
   "source": [
    "# check that the number is prime or not using while loop\n",
    "i =2\n",
    "num = int(input(\"Enter a number:\"))\n",
    "flag = True\n",
    "while i<num:\n",
    "    if(num%i) == 0:\n",
    "        flag = False\n",
    "    i =i+1\n",
    "if flag:\n",
    "    print(\"Number is prime number\")\n",
    "else:\n",
    "    print(\"Number is not a prime number\")"
   ]
  },
  {
   "cell_type": "code",
   "execution_count": 18,
   "metadata": {},
   "outputs": [
    {
     "name": "stdout",
     "output_type": "stream",
     "text": [
      "120\n"
     ]
    }
   ],
   "source": [
    "# factorial using for loop\n",
    "fact = 1\n",
    "n = int(input(\"Enter a number:\"))\n",
    "for i in range(1,n+1):\n",
    "    fact = fact*i\n",
    "print(fact)"
   ]
  },
  {
   "cell_type": "code",
   "execution_count": 4,
   "metadata": {},
   "outputs": [
    {
     "name": "stdout",
     "output_type": "stream",
     "text": [
      "10\n"
     ]
    }
   ],
   "source": [
    "# largest element in the list-\n",
    "numbers = [1,2,5,7,9,1,0,10]\n",
    "max = numbers[0]\n",
    "for i in numbers:\n",
    "    if i>max:\n",
    "        max = i\n",
    "print(max)"
   ]
  },
  {
   "cell_type": "code",
   "execution_count": 7,
   "metadata": {},
   "outputs": [
    {
     "name": "stdout",
     "output_type": "stream",
     "text": [
      "madam is Palindrome.\n"
     ]
    }
   ],
   "source": [
    "# Write a program to check that the string is palindrome\n",
    "str=input(\"Enter String: \")\n",
    "i=0\n",
    "j=len(str)-1\n",
    "check=True\n",
    "while i<=j:\n",
    "    if(str[i]!=str[j]):\n",
    "        check=False\n",
    "        break\n",
    "    i+=1\n",
    "    j-=1\n",
    " \n",
    "if check:\n",
    "    print(f\"{str} is Palindrome.\")\n",
    "else:\n",
    "    print(f\"{str} is not a Palindrome.\")"
   ]
  },
  {
   "cell_type": "code",
   "execution_count": null,
   "metadata": {},
   "outputs": [],
   "source": []
  }
 ],
 "metadata": {
  "kernelspec": {
   "display_name": "base",
   "language": "python",
   "name": "python3"
  },
  "language_info": {
   "codemirror_mode": {
    "name": "ipython",
    "version": 3
   },
   "file_extension": ".py",
   "mimetype": "text/x-python",
   "name": "python",
   "nbconvert_exporter": "python",
   "pygments_lexer": "ipython3",
   "version": "3.10.10"
  },
  "orig_nbformat": 4
 },
 "nbformat": 4,
 "nbformat_minor": 2
}
