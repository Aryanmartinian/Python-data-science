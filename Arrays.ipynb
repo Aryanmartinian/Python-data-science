{
 "cells": [
  {
   "cell_type": "code",
   "execution_count": 5,
   "metadata": {},
   "outputs": [
    {
     "name": "stdout",
     "output_type": "stream",
     "text": [
      "The new created array are:1 2 3 \n",
      "The newly created array is:1.2 2.5 3.5 \n"
     ]
    }
   ],
   "source": [
    "# creating an  array -\n",
    "import array as arr\n",
    "a =arr.array('i',[1,2,3]) # creating an integer array\n",
    "# printing the original array -\n",
    "print('The new created array are:',end='')\n",
    "for i in range(0,3):\n",
    "    print(a[i],end=' ')\n",
    "print()\n",
    "# creating a double datatype array \n",
    "b = arr.array('d',[1.2,2.5,3.5])\n",
    "print('The newly created array is:',end='')\n",
    "for i in range(0,3):\n",
    "    print(b[i],end=' ')\n",
    "print()\n",
    "\n",
    "\n",
    "\n"
   ]
  },
  {
   "cell_type": "code",
   "execution_count": 15,
   "metadata": {},
   "outputs": [
    {
     "name": "stdout",
     "output_type": "stream",
     "text": [
      "Array before insertion:1 2 3 \n",
      "Array after insertion: 1 4 2 3 \n",
      "Array before insertion: 2.3 3.5 6.6 \n",
      "Array after insertion: 2.3 6.5 3.5 6.6 \n",
      "Array after append function: 2.3 6.5 3.5 6.6 4.4 \n"
     ]
    }
   ],
   "source": [
    "# Adding elements in the array-\n",
    "import array as arr\n",
    "c=arr.array('i',[1,2,3])\n",
    "print('Array before insertion:',end='')\n",
    "for i in range(0,3):\n",
    "    print(c[i],end=' ')\n",
    "print()\n",
    "c.insert(1,4) # 1 is the index number in the array and 4 is the value which is to be put in the array\n",
    "print('Array after insertion:',end=' ')\n",
    "for i in (c):\n",
    "    print(i,end=' ') # In second updated array we use i th index in the print function\n",
    "print()\n",
    "e=arr.array('d',[2.3,3.5,6.6])\n",
    "print('Array before insertion:',end=' ')\n",
    "for i in range(0,3):\n",
    "    print(e[i],end=' ')\n",
    "print()\n",
    "e.insert(1,6.5)\n",
    "print('Array after insertion:',end=' ')\n",
    "for i in (e):\n",
    "    print(i,end=' ')\n",
    "print()\n",
    "e.append(4.4) \n",
    "print('Array after append function:',end=\" \")\n",
    "for i in (e):\n",
    "    print(i,end=' ')\n",
    "print()"
   ]
  },
  {
   "cell_type": "code",
   "execution_count": 26,
   "metadata": {},
   "outputs": [
    {
     "name": "stdout",
     "output_type": "stream",
     "text": [
      "The array element at 0th index: 1\n",
      "The array element at 5th index: 5\n",
      "3\n",
      "The element remove at 4th index is: 5\n",
      "None\n"
     ]
    }
   ],
   "source": [
    "# Accesing elements from Array -\n",
    "import array as arr\n",
    "f=arr.array('i',[1,2,3,4,2,5,6,7,8])\n",
    "print('The array element at 0th index:',f[0])\n",
    "print('The array element at 5th index:',f[5])\n",
    "# Removing elements from Array - \n",
    "print(f.pop(2)) # pop function remove element at the Last occurrence.\n",
    "print(\"The element remove at 4th index is:\",f.pop(4))\n",
    "print(f.remove(1))\n"
   ]
  },
  {
   "cell_type": "code",
   "execution_count": 27,
   "metadata": {},
   "outputs": [
    {
     "name": "stdout",
     "output_type": "stream",
     "text": [
      "6\n"
     ]
    }
   ],
   "source": [
    "# length of the array - \n",
    "print(len(f))"
   ]
  },
  {
   "cell_type": "code",
   "execution_count": 14,
   "metadata": {},
   "outputs": [
    {
     "name": "stdout",
     "output_type": "stream",
     "text": [
      "The original array before slicing: 1 2 3 4 5 6 7 8 9 10 \n",
      "Array after slicing: 1 2 3 4 5\n",
      "Array after slicing: array('i', [1, 2, 3, 4, 5])\n"
     ]
    }
   ],
   "source": [
    "# Slicing in the array - \n",
    "import array as arr\n",
    "array = arr.array('i',[1,2,3,4,5,6,7,8,9,10])\n",
    "print('The original array before slicing:',end=' ')\n",
    "for i in range(len(array)):\n",
    "    print(array[i],end=' ')\n",
    "print()\n",
    "print('Array after slicing:',*array[0:5]) \n",
    "print('Array after slicing:',array[:5]) # use * operator to avoid full array definition\n",
    "     "
   ]
  },
  {
   "cell_type": "code",
   "execution_count": 33,
   "metadata": {},
   "outputs": [
    {
     "name": "stdout",
     "output_type": "stream",
     "text": [
      "The original array is: 4 5 6 7 8 9 \n",
      "The number 6 in the array present at: 2\n"
     ]
    }
   ],
   "source": [
    "# Searching an element in the array -\n",
    "import array as arr\n",
    "arr1 = arr.array('i',[4,5,6,7,8,9])\n",
    "print('The original array is:',end=' ')\n",
    "for i in range(len(arr1)):\n",
    "    print(arr1[i],end=' ')\n",
    "print()\n",
    "# Searching element by using index() inbuilt function-\n",
    "print('The number 6 in the array present at:',end=\" \")\n",
    "\n",
    "print(arr1.index(6)) # in index method we have to pass the element value and in return we get index value.\n"
   ]
  },
  {
   "cell_type": "code",
   "execution_count": 8,
   "metadata": {},
   "outputs": [
    {
     "name": "stdout",
     "output_type": "stream",
     "text": [
      "The original array is: 8 9 10 11 12 13 15 \n",
      "Array after updation is: 8 9 5 11 12 13 15 \n"
     ]
    }
   ],
   "source": [
    "#Updating elements in the array- \n",
    "import array as arr\n",
    "arr2 =arr.array('i',[8,9,10,11,12,13,15])\n",
    "print('The original array is:',end=' ')\n",
    "for i in range(len(arr2)):\n",
    "    print(arr2[i],end=' ')\n",
    "print('\\r')\n",
    "\n",
    "arr2[2] = 5\n",
    "print('Array after updation is:',end=' ')\n",
    "for i in range(len(arr2)):\n",
    "    print(arr2[i],end=' ')\n",
    "print()\n",
    "\n",
    "\n",
    "\n"
   ]
  },
  {
   "cell_type": "code",
   "execution_count": 9,
   "metadata": {},
   "outputs": [
    {
     "name": "stdout",
     "output_type": "stream",
     "text": [
      "The number 2 occurred in the array in the no. of times is: 1\n"
     ]
    }
   ],
   "source": [
    "# Counting elements in the array - \n",
    "import array\n",
    "my_array = array.array('i',[1,2,3,4,5,7,8,99])\n",
    "count = my_array.count(2)\n",
    "print('The number 2 occurred in the array in the no. of times is:',count) \n",
    "# count function helps to find out how many times the element has occurred"
   ]
  },
  {
   "cell_type": "code",
   "execution_count": 12,
   "metadata": {},
   "outputs": [
    {
     "name": "stdout",
     "output_type": "stream",
     "text": [
      "The original array is: 1 2 3 4 5 6 78 89\n",
      "The array in reverse order: 89 78 6 5 4 3 2 1\n"
     ]
    }
   ],
   "source": [
    "# reversing the array -\n",
    "import array as arr\n",
    "my_array2 = arr.array('i',[1,2,3,4,5,6,78,89])\n",
    "print('The original array is:',*my_array2)\n",
    "my_array2.reverse()\n",
    "print('The array in reverse order:',*my_array2)\n"
   ]
  },
  {
   "cell_type": "code",
   "execution_count": 16,
   "metadata": {},
   "outputs": [
    {
     "name": "stdout",
     "output_type": "stream",
     "text": [
      "The original array is: 112 334 56 67 89\n",
      "Array after extend is: 112 334 56 67 89 45 67 77 88 99\n"
     ]
    }
   ],
   "source": [
    "# extend function in the array -\n",
    "import array as arr\n",
    "my_array3 = arr.array('i',[112,334,56,67,89])\n",
    "print('The original array is:',*my_array3)\n",
    "my_array3.extend([45,67,77,88,99])\n",
    "print('Array after extend is:',*my_array3)"
   ]
  },
  {
   "cell_type": "code",
   "execution_count": null,
   "metadata": {},
   "outputs": [],
   "source": []
  }
 ],
 "metadata": {
  "kernelspec": {
   "display_name": "base",
   "language": "python",
   "name": "python3"
  },
  "language_info": {
   "codemirror_mode": {
    "name": "ipython",
    "version": 3
   },
   "file_extension": ".py",
   "mimetype": "text/x-python",
   "name": "python",
   "nbconvert_exporter": "python",
   "pygments_lexer": "ipython3",
   "version": "3.10.10"
  },
  "orig_nbformat": 4
 },
 "nbformat": 4,
 "nbformat_minor": 2
}
