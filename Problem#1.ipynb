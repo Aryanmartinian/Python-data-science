{
 "cells": [
  {
   "cell_type": "code",
   "execution_count": 2,
   "metadata": {},
   "outputs": [
    {
     "name": "stdout",
     "output_type": "stream",
     "text": [
      "Now I will count how many hens are there: 30.0\n",
      "6\n"
     ]
    }
   ],
   "source": [
    "# basic mathematical calculations -\n",
    "print(\"Now I will count how many hens are there:\",25+30/6)\n",
    "print(3+2-6+7)"
   ]
  },
  {
   "cell_type": "code",
   "execution_count": 3,
   "metadata": {},
   "outputs": [
    {
     "name": "stdout",
     "output_type": "stream",
     "text": [
      "binary\n",
      "numbers\n",
      "binarynumbers\n"
     ]
    }
   ],
   "source": [
    "x = \"binary\"\n",
    "y = \"numbers\"\n",
    "print(x)\n",
    "print(y)\n",
    "print(x+y)"
   ]
  },
  {
   "cell_type": "code",
   "execution_count": 4,
   "metadata": {},
   "outputs": [
    {
     "name": "stdout",
     "output_type": "stream",
     "text": [
      "Aryan Mishra "
     ]
    }
   ],
   "source": [
    "x = \"Aryan\"\n",
    "y = \"Mishra\"\n",
    "print(x,y,end=\" \")"
   ]
  },
  {
   "cell_type": "code",
   "execution_count": 5,
   "metadata": {},
   "outputs": [
    {
     "name": "stdout",
     "output_type": "stream",
     "text": [
      "The alphabet is a vowel\n"
     ]
    }
   ],
   "source": [
    "n = input(\"Enter a alphabet:\")\n",
    "if n=='A'or n =='E' or n ==\"I\" or n==\"O\" or n==\"U\" or n==\"a\" or n==\"e\" or n==\"i\" or n==\"o\" or n=='u':\n",
    "    print(\"The alphabet is a vowel\")\n",
    "else:\n",
    "    print(\"The alphabet is a consonant\")\n"
   ]
  },
  {
   "cell_type": "code",
   "execution_count": 6,
   "metadata": {},
   "outputs": [
    {
     "name": "stdout",
     "output_type": "stream",
     "text": [
      "Mon Tue Wed Thu Fri Sat Sun\n",
      "Mar\n",
      "April\n",
      "May\n",
      "June\n",
      "July\n",
      "August\n",
      "\n"
     ]
    }
   ],
   "source": [
    "days = \"Mon Tue Wed Thu Fri Sat Sun\"\n",
    "months = \"Mar\\nApril\\nMay\\nJune\\nJuly\\nAugust\\n\"\n",
    "print(days)\n",
    "print(months)\n"
   ]
  },
  {
   "cell_type": "code",
   "execution_count": 2,
   "metadata": {},
   "outputs": [
    {
     "name": "stdout",
     "output_type": "stream",
     "text": [
      "5\n"
     ]
    }
   ],
   "source": [
    "a = int(input(\"Enter the first number:\"))\n",
    "b = int(input(\"Enter the second number:\"))\n",
    "choice = input(\"Enter the choice of calculation user wants:\")\n",
    "match choice:\n",
    "    case '+':\n",
    "        result = a+b\n",
    "        print(result)\n",
    "    case '-':\n",
    "        result = a-b\n",
    "        print(result)\n",
    "    case '*':\n",
    "        result =a*b\n",
    "        print(result)\n",
    "    case '/':\n",
    "        result = a/b\n",
    "        print(result)\n",
    "    case _:\n",
    "        print(\"Invalid input\")\n",
    "\n"
   ]
  },
  {
   "cell_type": "code",
   "execution_count": 3,
   "metadata": {},
   "outputs": [
    {
     "name": "stdout",
     "output_type": "stream",
     "text": [
      "[1, 2, 3, 4, 5]\n",
      "[1, 2, 3, 4, 5]\n",
      "[1, 2, 3, 4, 5]\n",
      "[1, 2, 3, 4, 5]\n",
      "[1, 2, 3, 4, 5]\n"
     ]
    }
   ],
   "source": [
    "x =[1,2,3,4,5]\n",
    "for i in x:\n",
    "    print(x)"
   ]
  },
  {
   "cell_type": "code",
   "execution_count": 4,
   "metadata": {},
   "outputs": [
    {
     "name": "stdout",
     "output_type": "stream",
     "text": [
      "Hello\n",
      "Hello\n",
      "Hello\n",
      "Hello\n",
      "Hello\n",
      "Hello\n",
      "Hello\n",
      "Hello\n",
      "Hello\n"
     ]
    }
   ],
   "source": [
    "for i in range(1,10):\n",
    "    print(\"Hello\")"
   ]
  },
  {
   "cell_type": "code",
   "execution_count": 3,
   "metadata": {},
   "outputs": [
    {
     "name": "stdout",
     "output_type": "stream",
     "text": [
      "*\n",
      "\n",
      "\n",
      "\n",
      "\n",
      "\n",
      "*\n",
      "\n",
      "\n",
      "\n",
      "\n",
      "*\n",
      "\n",
      "\n",
      "\n",
      "*\n",
      "\n",
      "\n",
      "*\n",
      "\n",
      "\n"
     ]
    }
   ],
   "source": [
    "n = int(input(\"Enter the rows user wants in pattern:\"))\n",
    "for i in range(1,n+1):\n",
    "    print(\"*\")\n",
    "    for j in range(i,n+1):\n",
    "print()\n"
   ]
  },
  {
   "cell_type": "code",
   "execution_count": null,
   "metadata": {},
   "outputs": [],
   "source": []
  }
 ],
 "metadata": {
  "kernelspec": {
   "display_name": "base",
   "language": "python",
   "name": "python3"
  },
  "language_info": {
   "codemirror_mode": {
    "name": "ipython",
    "version": 3
   },
   "file_extension": ".py",
   "mimetype": "text/x-python",
   "name": "python",
   "nbconvert_exporter": "python",
   "pygments_lexer": "ipython3",
   "version": "3.10.10"
  },
  "orig_nbformat": 4
 },
 "nbformat": 4,
 "nbformat_minor": 2
}
