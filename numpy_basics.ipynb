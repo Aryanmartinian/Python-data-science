{
 "cells": [
  {
   "cell_type": "code",
   "execution_count": 4,
   "metadata": {},
   "outputs": [
    {
     "name": "stdout",
     "output_type": "stream",
     "text": [
      "[1 2 3]\n",
      "(3,)\n",
      "[[4 5 6]\n",
      " [7 8 9]]\n",
      "(2, 3)\n"
     ]
    }
   ],
   "source": [
    "import numpy as np\n",
    "a = np.array([1,2,3])\n",
    "print(a) # creating a single dimension matrix\n",
    "print(a.shape)\n",
    "b=np.array([   # creating a two dimension matrix\n",
    "    [4,5,6],\n",
    "    [7,8,9]\n",
    "])\n",
    "print(b)\n",
    "print(b.shape) # shape function explains the size of the matrix\n"
   ]
  },
  {
   "cell_type": "code",
   "execution_count": 7,
   "metadata": {},
   "outputs": [
    {
     "name": "stdout",
     "output_type": "stream",
     "text": [
      "[1.  1.1 1.2 1.3 1.4 1.5 1.6 1.7 1.8 1.9 2.  2.1 2.2 2.3 2.4 2.5 2.6 2.7\n",
      " 2.8 2.9 3.  3.1 3.2 3.3 3.4 3.5 3.6 3.7 3.8 3.9 4.  4.1 4.2 4.3 4.4 4.5\n",
      " 4.6 4.7 4.8 4.9]\n",
      "(40,)\n",
      "[ 1.          1.47368421  1.94736842  2.42105263  2.89473684  3.36842105\n",
      "  3.84210526  4.31578947  4.78947368  5.26315789  5.73684211  6.21052632\n",
      "  6.68421053  7.15789474  7.63157895  8.10526316  8.57894737  9.05263158\n",
      "  9.52631579 10.        ]\n"
     ]
    }
   ],
   "source": [
    "c=np.arange(1,5,.1) # start,end,step\n",
    "print(c)\n",
    "print(c.shape)\n",
    "d=np.linspace(1,10,20) #for equal spacing between the elements\n",
    "print(d)\n"
   ]
  },
  {
   "cell_type": "code",
   "execution_count": 8,
   "metadata": {},
   "outputs": [
    {
     "data": {
      "text/plain": [
       "1"
      ]
     },
     "execution_count": 8,
     "metadata": {},
     "output_type": "execute_result"
    }
   ],
   "source": [
    "c.ndim # to check the dimension of the array"
   ]
  },
  {
   "cell_type": "code",
   "execution_count": 9,
   "metadata": {},
   "outputs": [
    {
     "data": {
      "text/plain": [
       "array([[1. , 1.1, 1.2, 1.3, 1.4, 1.5, 1.6, 1.7, 1.8, 1.9],\n",
       "       [2. , 2.1, 2.2, 2.3, 2.4, 2.5, 2.6, 2.7, 2.8, 2.9],\n",
       "       [3. , 3.1, 3.2, 3.3, 3.4, 3.5, 3.6, 3.7, 3.8, 3.9],\n",
       "       [4. , 4.1, 4.2, 4.3, 4.4, 4.5, 4.6, 4.7, 4.8, 4.9]])"
      ]
     },
     "execution_count": 9,
     "metadata": {},
     "output_type": "execute_result"
    }
   ],
   "source": [
    "c.reshape(4,10) # 4 is row and 10 is the column"
   ]
  },
  {
   "cell_type": "code",
   "execution_count": 10,
   "metadata": {},
   "outputs": [
    {
     "data": {
      "text/plain": [
       "array([[1. , 1.1, 1.2, 1.3],\n",
       "       [1.4, 1.5, 1.6, 1.7],\n",
       "       [1.8, 1.9, 2. , 2.1],\n",
       "       [2.2, 2.3, 2.4, 2.5],\n",
       "       [2.6, 2.7, 2.8, 2.9],\n",
       "       [3. , 3.1, 3.2, 3.3],\n",
       "       [3.4, 3.5, 3.6, 3.7],\n",
       "       [3.8, 3.9, 4. , 4.1],\n",
       "       [4.2, 4.3, 4.4, 4.5],\n",
       "       [4.6, 4.7, 4.8, 4.9]])"
      ]
     },
     "execution_count": 10,
     "metadata": {},
     "output_type": "execute_result"
    }
   ],
   "source": [
    "c.reshape(10,4)"
   ]
  },
  {
   "cell_type": "code",
   "execution_count": 14,
   "metadata": {},
   "outputs": [
    {
     "data": {
      "text/plain": [
       "array([[19, 36,  7],\n",
       "       [52, 36, 14],\n",
       "       [62, 98,  4]])"
      ]
     },
     "execution_count": 14,
     "metadata": {},
     "output_type": "execute_result"
    }
   ],
   "source": [
    "np.random.randint(1,100,(3,3))"
   ]
  },
  {
   "cell_type": "code",
   "execution_count": 15,
   "metadata": {},
   "outputs": [],
   "source": [
    "# Mathematical calculations in numpy-\n",
    "x=np.array([\n",
    "    [2,3,4],\n",
    "    [4,5,6]\n",
    "])\n",
    "y=np.array([\n",
    "    [4,3,2],\n",
    "    [3,5,1]\n",
    "])"
   ]
  },
  {
   "cell_type": "code",
   "execution_count": 18,
   "metadata": {},
   "outputs": [
    {
     "name": "stdout",
     "output_type": "stream",
     "text": [
      "[[ 6  6  6]\n",
      " [ 7 10  7]]\n",
      "[[-2  0  2]\n",
      " [ 1  0  5]]\n",
      "[[ 8  9  8]\n",
      " [12 25  6]]\n",
      "[[0.5        1.         2.        ]\n",
      " [1.33333333 1.         6.        ]]\n",
      "[[  16   27   16]\n",
      " [  64 3125    6]]\n",
      "[[2 0 0]\n",
      " [1 0 0]]\n"
     ]
    }
   ],
   "source": [
    "print(x+y)  # matix addition\n",
    "print(x-y)  # matrix subtraction\n",
    "print(x*y)  # matrix multiplication\n",
    "print(x/y)  # matrix division\n",
    "print(x**y) # matrix exponent operation\n",
    "print(x%y) # matrix modulus"
   ]
  },
  {
   "cell_type": "code",
   "execution_count": 22,
   "metadata": {},
   "outputs": [
    {
     "name": "stdout",
     "output_type": "stream",
     "text": [
      "[[ 4  6  8]\n",
      " [ 8 10 12]]\n",
      "[[1.  1.5 2. ]\n",
      " [2.  2.5 3. ]]\n",
      "[[ 4  9 16]\n",
      " [16 25 36]]\n",
      "[[0 1 0]\n",
      " [0 1 0]]\n"
     ]
    }
   ],
   "source": [
    "print(x*2)\n",
    "print(x/2)\n",
    "print(x**2)\n",
    "print(x%2)"
   ]
  },
  {
   "cell_type": "code",
   "execution_count": 23,
   "metadata": {},
   "outputs": [
    {
     "name": "stdout",
     "output_type": "stream",
     "text": [
      "[[25 25]\n",
      " [43 43]]\n"
     ]
    }
   ],
   "source": [
    "# matrix multiplication\n",
    "print(x.dot(y.T)) # T for transpose"
   ]
  },
  {
   "cell_type": "code",
   "execution_count": 24,
   "metadata": {},
   "outputs": [
    {
     "name": "stdout",
     "output_type": "stream",
     "text": [
      "[[25 25]\n",
      " [43 43]]\n"
     ]
    }
   ],
   "source": [
    "print(np.matmul(x,y.T)) # Another approach for matrix multiplication using dot product"
   ]
  },
  {
   "cell_type": "code",
   "execution_count": 25,
   "metadata": {},
   "outputs": [
    {
     "name": "stdout",
     "output_type": "stream",
     "text": [
      "[[25 25]\n",
      " [43 43]]\n"
     ]
    }
   ],
   "source": [
    "print(x@y.T) # third approach for matrix multiplication using dot product"
   ]
  },
  {
   "cell_type": "code",
   "execution_count": 33,
   "metadata": {},
   "outputs": [
    {
     "name": "stdout",
     "output_type": "stream",
     "text": [
      "24\n",
      "[ 6  8 10]\n",
      "[ 9 15]\n",
      "4.0\n",
      "1.2909944487358056\n",
      "2\n",
      "6\n",
      "5\n",
      "0\n"
     ]
    }
   ],
   "source": [
    "# Statistical functions - \n",
    "print(x.sum())\n",
    "print(x.sum(axis=0)) # sum of columns\n",
    "print(x.sum(axis=1)) # sum of rows\n",
    "print(x.mean())\n",
    "print(x.std()) # standard deviation\n",
    "print(x.min()) # minimum value in matrix\n",
    "print(x.max())\n",
    "print(x.argmax()) # maximum element's index\n",
    "print(x.argmin()) # minimum element's index"
   ]
  },
  {
   "cell_type": "code",
   "execution_count": 37,
   "metadata": {},
   "outputs": [
    {
     "name": "stdout",
     "output_type": "stream",
     "text": [
      "[[ 0.90929743  0.14112001 -0.7568025 ]\n",
      " [-0.7568025  -0.95892427 -0.2794155 ]]\n",
      "[[-0.41614684 -0.9899925  -0.65364362]\n",
      " [-0.65364362  0.28366219  0.96017029]]\n",
      "[[-2.18503986 -0.14254654  1.15782128]\n",
      " [ 1.15782128 -3.38051501 -0.29100619]]\n"
     ]
    }
   ],
   "source": [
    "# trigonometric functions-\n",
    "print(np.sin(x))\n",
    "print(np.cos(x))\n",
    "print(np.tan(x))"
   ]
  },
  {
   "cell_type": "code",
   "execution_count": 41,
   "metadata": {},
   "outputs": [
    {
     "name": "stdout",
     "output_type": "stream",
     "text": [
      "2\n",
      "[2 3 4]\n",
      "[2 4]\n",
      "[[2 3]\n",
      " [4 5]]\n",
      "[[2 3 4]\n",
      " [4 5 6]]\n"
     ]
    }
   ],
   "source": [
    "# indexing -\n",
    "print(x[0,0]) # first row, first column\n",
    "print(x[0,:]) # first row,all columns\n",
    "print(x[:,0]) # all rows,first column\n",
    "print(x[:2,:2]) # first two rows,first two columns\n",
    "print(x[:2]) # first two rows"
   ]
  },
  {
   "cell_type": "code",
   "execution_count": null,
   "metadata": {},
   "outputs": [],
   "source": []
  }
 ],
 "metadata": {
  "kernelspec": {
   "display_name": "base",
   "language": "python",
   "name": "python3"
  },
  "language_info": {
   "codemirror_mode": {
    "name": "ipython",
    "version": 3
   },
   "file_extension": ".py",
   "mimetype": "text/x-python",
   "name": "python",
   "nbconvert_exporter": "python",
   "pygments_lexer": "ipython3",
   "version": "3.10.10"
  },
  "orig_nbformat": 4
 },
 "nbformat": 4,
 "nbformat_minor": 2
}
