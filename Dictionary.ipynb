{
 "cells": [
  {
   "cell_type": "code",
   "execution_count": 2,
   "metadata": {},
   "outputs": [
    {
     "name": "stdout",
     "output_type": "stream",
     "text": [
      "2\n"
     ]
    }
   ],
   "source": [
    "# creating dictionary - \n",
    "fruits = {\n",
    "    'apple':2,\n",
    "    'banana':3,\n",
    "    'orange':5\n",
    "}\n",
    "print(fruits['apple']) #accessing dictionary elements"
   ]
  },
  {
   "cell_type": "code",
   "execution_count": 3,
   "metadata": {},
   "outputs": [],
   "source": [
    "grocery = {\n",
    "    'fruits':['apple','banana','orange','grape'],\n",
    "    'Vegetables':['carrot','lettuce','onion'],\n",
    "    'dairy':['milk','cheese'],\n",
    "    'meat':None\n",
    "}"
   ]
  },
  {
   "cell_type": "code",
   "execution_count": 6,
   "metadata": {},
   "outputs": [
    {
     "name": "stdout",
     "output_type": "stream",
     "text": [
      "{'apple': 2, 'banana': 3, 'orange': 5}\n",
      "{'rajesh': {'English': 98, 'Maths': 78, 'Science': 60}, 'Suresh': {'English': 99, 'Math': 79, 'Science': 66}}\n"
     ]
    }
   ],
   "source": [
    "reports = {\n",
    "    'rajesh':{\n",
    "        'English':98,\n",
    "        'Maths':78,\n",
    "        'Science':60\n",
    "    },\n",
    "    'Suresh':{\n",
    "        'English':99,\n",
    "        'Math':79,\n",
    "        'Science':66\n",
    "    }  \n",
    "}\n",
    "print(fruits)\n",
    "print(reports)"
   ]
  },
  {
   "cell_type": "code",
   "execution_count": 9,
   "metadata": {},
   "outputs": [
    {
     "name": "stdout",
     "output_type": "stream",
     "text": [
      "{'apple': 2, 'banana': 3, 'orange': 5}\n",
      "{'rajesh': {'English': 98, 'Maths': 78, 'Science': 60},\n",
      " 'Suresh': {'English': 99, 'Math': 79, 'Science': 66}}\n",
      "{'fruits': ['apple', 'banana', 'orange', 'grape'],\n",
      " 'Vegetables': ['carrot', 'lettuce', 'onion'],\n",
      " 'dairy': ['milk', 'cheese'],\n",
      " 'meat': None}\n"
     ]
    }
   ],
   "source": [
    "from pprint import pp\n",
    "pp(fruits) # to print dictionary in ordered form\n",
    "pp(reports)\n",
    "pp(grocery)"
   ]
  },
  {
   "cell_type": "code",
   "execution_count": 10,
   "metadata": {},
   "outputs": [
    {
     "name": "stdout",
     "output_type": "stream",
     "text": [
      "{'apple': 10, 'banana': 3, 'orange': 5}\n"
     ]
    }
   ],
   "source": [
    "#key cannot be updated\n",
    "fruits['apple'] = 10 # update value in dictionary \n",
    "pp(fruits)"
   ]
  },
  {
   "cell_type": "code",
   "execution_count": 12,
   "metadata": {},
   "outputs": [
    {
     "name": "stdout",
     "output_type": "stream",
     "text": [
      "{'apple': 10, 'banana': 3, 'orange': 5, 'mango': 25}\n"
     ]
    }
   ],
   "source": [
    "fruits['mango'] = 25 # adding a new key-pair in the dictionary \n",
    "pp(fruits)"
   ]
  },
  {
   "cell_type": "code",
   "execution_count": 21,
   "metadata": {},
   "outputs": [
    {
     "name": "stdout",
     "output_type": "stream",
     "text": [
      "{'fruits': ['apple', 'banana', 'orange', 'grape', 'cheese'],\n",
      " 'Vegetables': ['carrot', 'lettuce', 'onion'],\n",
      " 'dairy': 'yogurt',\n",
      " 'meat': None,\n",
      " 'spices': ['cumin', 'coriander', 'turmeric']}\n"
     ]
    }
   ],
   "source": [
    "grocery['spices'] = ['cumin','coriander','turmeric']\n",
    "pp(grocery)\n",
    "grocery['fruits'].append('orange') # add new value in list"
   ]
  },
  {
   "cell_type": "code",
   "execution_count": 24,
   "metadata": {},
   "outputs": [
    {
     "name": "stdout",
     "output_type": "stream",
     "text": [
      "{'rajesh': {'English': 98, 'Maths': 78, 'Science': 60, 'evs': 100},\n",
      " 'Suresh': {'English': 99, 'Math': 79, 'Science': 66}}\n"
     ]
    }
   ],
   "source": [
    "reports['rajesh']['evs'] = 100 \n",
    "pp(reports)"
   ]
  },
  {
   "cell_type": "code",
   "execution_count": 25,
   "metadata": {},
   "outputs": [
    {
     "data": {
      "text/plain": [
       "{'English': 99, 'Math': 79, 'Science': 66}"
      ]
     },
     "execution_count": 25,
     "metadata": {},
     "output_type": "execute_result"
    }
   ],
   "source": [
    "reports.pop('Suresh') # remove key-value pair from dictionary "
   ]
  },
  {
   "cell_type": "code",
   "execution_count": 26,
   "metadata": {},
   "outputs": [],
   "source": [
    "grocery['Vegetables'].remove('onion')"
   ]
  },
  {
   "cell_type": "code",
   "execution_count": 29,
   "metadata": {},
   "outputs": [
    {
     "data": {
      "text/plain": [
       "dict_items([('apple', 10), ('banana', 3), ('orange', 5), ('mango', 25)])"
      ]
     },
     "execution_count": 29,
     "metadata": {},
     "output_type": "execute_result"
    }
   ],
   "source": [
    "fruits.keys()\n",
    "fruits.values()\n",
    "fruits.items()"
   ]
  },
  {
   "cell_type": "code",
   "execution_count": 30,
   "metadata": {},
   "outputs": [
    {
     "name": "stdout",
     "output_type": "stream",
     "text": [
      "apple 10\n",
      "banana 3\n",
      "orange 5\n",
      "mango 25\n"
     ]
    }
   ],
   "source": [
    "# traversal -\n",
    "for k,v in fruits.items():\n",
    "    print(k,v)"
   ]
  },
  {
   "cell_type": "code",
   "execution_count": 33,
   "metadata": {},
   "outputs": [
    {
     "data": {
      "text/plain": [
       "98"
      ]
     },
     "execution_count": 33,
     "metadata": {},
     "output_type": "execute_result"
    }
   ],
   "source": [
    "reports['rajesh']['English']"
   ]
  },
  {
   "cell_type": "code",
   "execution_count": 34,
   "metadata": {},
   "outputs": [
    {
     "data": {
      "text/plain": [
       "{'English': 98, 'Maths': 78, 'Science': 60, 'evs': 100}"
      ]
     },
     "execution_count": 34,
     "metadata": {},
     "output_type": "execute_result"
    }
   ],
   "source": [
    "reports.get('rajesh')"
   ]
  },
  {
   "cell_type": "code",
   "execution_count": 36,
   "metadata": {},
   "outputs": [
    {
     "data": {
      "text/plain": [
       "'this student does not exist'"
      ]
     },
     "execution_count": 36,
     "metadata": {},
     "output_type": "execute_result"
    }
   ],
   "source": [
    "reports.get('Ramesh','this student does not exist') # the attribute is not exist in the dictionary"
   ]
  },
  {
   "cell_type": "code",
   "execution_count": 37,
   "metadata": {},
   "outputs": [
    {
     "name": "stdout",
     "output_type": "stream",
     "text": [
      "{'rajesh': {'English': 98, 'Maths': 78, 'Science': 60, 'evs': 100},\n",
      " 'Suresh': {'English': 90, 'Math': 80, 'Science': 70}}\n"
     ]
    }
   ],
   "source": [
    "reports['Suresh'] ={\n",
    "    'English':90,\n",
    "    'Math':80,\n",
    "    'Science':70\n",
    "}\n",
    "pp(reports)"
   ]
  },
  {
   "cell_type": "code",
   "execution_count": 38,
   "metadata": {},
   "outputs": [
    {
     "name": "stdout",
     "output_type": "stream",
     "text": [
      "rajesh : {'English': 98, 'Maths': 78, 'Science': 60, 'evs': 100}\n",
      "Suresh : {'English': 90, 'Math': 80, 'Science': 70}\n"
     ]
    }
   ],
   "source": [
    "for student,detail in reports.items():\n",
    "    print(student,\":\",detail)"
   ]
  },
  {
   "cell_type": "code",
   "execution_count": 39,
   "metadata": {},
   "outputs": [
    {
     "name": "stdout",
     "output_type": "stream",
     "text": [
      "rajesh\n",
      "98 in English\n",
      "78 in Maths\n",
      "60 in Science\n",
      "100 in evs\n",
      "------------------------------\n",
      "Suresh\n",
      "90 in English\n",
      "80 in Math\n",
      "70 in Science\n",
      "------------------------------\n"
     ]
    }
   ],
   "source": [
    "for student,detail in reports.items():\n",
    "    print(student)\n",
    "    for subject,marks in detail.items():\n",
    "        print(f'{marks} in {subject}')\n",
    "    print('---'*10)\n"
   ]
  },
  {
   "cell_type": "code",
   "execution_count": null,
   "metadata": {},
   "outputs": [],
   "source": []
  },
  {
   "cell_type": "code",
   "execution_count": null,
   "metadata": {},
   "outputs": [],
   "source": []
  }
 ],
 "metadata": {
  "kernelspec": {
   "display_name": "base",
   "language": "python",
   "name": "python3"
  },
  "language_info": {
   "codemirror_mode": {
    "name": "ipython",
    "version": 3
   },
   "file_extension": ".py",
   "mimetype": "text/x-python",
   "name": "python",
   "nbconvert_exporter": "python",
   "pygments_lexer": "ipython3",
   "version": "3.10.10"
  },
  "orig_nbformat": 4
 },
 "nbformat": 4,
 "nbformat_minor": 2
}
