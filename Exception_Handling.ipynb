{
 "cells": [
  {
   "cell_type": "code",
   "execution_count": null,
   "metadata": {},
   "outputs": [],
   "source": [
    "'''  Different Types of Exceptions in Python-\n",
    "1.SyntaxError\n",
    "2.TypeError\n",
    "3.NameError\n",
    "4.IndexError\n",
    "5.ValueError\n",
    "6.AttributeError\n",
    "7.IOError\n",
    "8.ZeroDivisionError\n",
    "9.ImportError'''"
   ]
  },
  {
   "cell_type": "code",
   "execution_count": 1,
   "metadata": {},
   "outputs": [
    {
     "name": "stdout",
     "output_type": "stream",
     "text": [
      "Error:cannot add a int and str\n"
     ]
    }
   ],
   "source": [
    "x = 5\n",
    "y = 'Hello'\n",
    "try:\n",
    "    z = x+y\n",
    "except TypeError:\n",
    "    print(\"Error:cannot add a int and str\")\n"
   ]
  },
  {
   "cell_type": "code",
   "execution_count": 3,
   "metadata": {},
   "outputs": [
    {
     "name": "stdout",
     "output_type": "stream",
     "text": [
      "Second element = 2\n",
      "An error occurred\n"
     ]
    }
   ],
   "source": [
    "a = [1,2,3]\n",
    "try:\n",
    "    print(\"Second element = %d\" %(a[1]))\n",
    "    print(\"Fourth element = %d\" %(a[3]))\n",
    "except:\n",
    "    print(\"An error occurred\")"
   ]
  },
  {
   "cell_type": "code",
   "execution_count": 4,
   "metadata": {},
   "outputs": [
    {
     "name": "stdout",
     "output_type": "stream",
     "text": [
      "ZeroDivisionError occurred and Handled\n"
     ]
    }
   ],
   "source": [
    "# Catching Specific Exceptions-->\n",
    "def fun(a):\n",
    "    if a<4:\n",
    "        # throws error \n",
    "        b = a/(a-3)\n",
    "    print('Value of b =',b)\n",
    "try:\n",
    "    fun(3)\n",
    "    fun(5)\n",
    "except ZeroDivisionError:\n",
    "    print(\"ZeroDivisionError occurred and Handled\")\n",
    "except NameError:\n",
    "    print(\"NameError occurred and Handled\")"
   ]
  },
  {
   "cell_type": "code",
   "execution_count": 5,
   "metadata": {},
   "outputs": [
    {
     "name": "stdout",
     "output_type": "stream",
     "text": [
      "-5.0\n",
      "a/b result to 0\n"
     ]
    }
   ],
   "source": [
    "# try with else clause-the else clause on the try-except block which must be present after all the except clauses. The code enters the else block only if the try clause does not raise an exception.\n",
    "def AbyB(a,b):\n",
    "    try:\n",
    "        c = ((a+b)/(a-b))\n",
    "    except ZeroDivisionError:\n",
    "        print('a/b result to 0')\n",
    "    else:\n",
    "        print(c)\n",
    "\n",
    "AbyB(2.0,3.0)\n",
    "AbyB(3.0,3.0)\n"
   ]
  },
  {
   "cell_type": "code",
   "execution_count": 6,
   "metadata": {},
   "outputs": [
    {
     "name": "stdout",
     "output_type": "stream",
     "text": [
      "Can't divide by zero\n",
      "This always executed\n"
     ]
    }
   ],
   "source": [
    "# Finally keyword -\n",
    "# Finally block always executed after try except block .\n",
    "try:\n",
    "    k = 5//0\n",
    "    print(k)\n",
    "except ZeroDivisionError:\n",
    "    print(\"Can't divide by zero\")\n",
    "\n",
    "finally:\n",
    "    print('This always executed')\n"
   ]
  },
  {
   "cell_type": "code",
   "execution_count": 7,
   "metadata": {},
   "outputs": [
    {
     "name": "stdout",
     "output_type": "stream",
     "text": [
      "An Exception\n"
     ]
    },
    {
     "ename": "NameError",
     "evalue": "Hi there",
     "output_type": "error",
     "traceback": [
      "\u001b[1;31m---------------------------------------------------------------------------\u001b[0m",
      "\u001b[1;31mNameError\u001b[0m                                 Traceback (most recent call last)",
      "Cell \u001b[1;32mIn[7], line 3\u001b[0m\n\u001b[0;32m      1\u001b[0m \u001b[39m# Raising Exception - allows the programmer to force a specific exception to occur.\u001b[39;00m\n\u001b[0;32m      2\u001b[0m \u001b[39mtry\u001b[39;00m:\n\u001b[1;32m----> 3\u001b[0m     \u001b[39mraise\u001b[39;00m \u001b[39mNameError\u001b[39;00m(\u001b[39m\"\u001b[39m\u001b[39mHi there\u001b[39m\u001b[39m\"\u001b[39m)\n\u001b[0;32m      4\u001b[0m \u001b[39mexcept\u001b[39;00m \u001b[39mNameError\u001b[39;00m:\n\u001b[0;32m      5\u001b[0m     \u001b[39mprint\u001b[39m(\u001b[39m'\u001b[39m\u001b[39mAn Exception\u001b[39m\u001b[39m'\u001b[39m)\n",
      "\u001b[1;31mNameError\u001b[0m: Hi there"
     ]
    }
   ],
   "source": [
    "# Raising Exception - allows the programmer to force a specific exception to occur.\n",
    "try:\n",
    "    raise NameError(\"Hi there\")\n",
    "except NameError:\n",
    "    print('An Exception')\n",
    "    raise # To determine whether the exception was rasied or not."
   ]
  },
  {
   "cell_type": "code",
   "execution_count": 8,
   "metadata": {},
   "outputs": [
    {
     "ename": "NameError",
     "evalue": "name 'example' is not defined",
     "output_type": "error",
     "traceback": [
      "\u001b[1;31m---------------------------------------------------------------------------\u001b[0m",
      "\u001b[1;31mNameError\u001b[0m                                 Traceback (most recent call last)",
      "Cell \u001b[1;32mIn[8], line 3\u001b[0m\n\u001b[0;32m      1\u001b[0m \u001b[39m# Raising an exception to another exception -->\u001b[39;00m\n\u001b[0;32m      2\u001b[0m \u001b[39mtry\u001b[39;00m:\n\u001b[1;32m----> 3\u001b[0m     example()\n\u001b[0;32m      4\u001b[0m \u001b[39mexcept\u001b[39;00m \u001b[39mRuntimeError\u001b[39;00m \u001b[39mas\u001b[39;00m e:\n\u001b[0;32m      5\u001b[0m     \u001b[39mprint\u001b[39m(\u001b[39m\"\u001b[39m\u001b[39mIt didn\u001b[39m\u001b[39m'\u001b[39m\u001b[39mt work:\u001b[39m\u001b[39m\"\u001b[39m, e)\n",
      "\u001b[1;31mNameError\u001b[0m: name 'example' is not defined"
     ]
    }
   ],
   "source": [
    "# Raising an exception to another exception -->\n",
    "try:\n",
    "    example()\n",
    "except RuntimeError as e:\n",
    "    print(\"It didn't work:\", e)\n",
    "    if e.__cause__:\n",
    "        print('Cause:', e.__cause__)"
   ]
  },
  {
   "cell_type": "code",
   "execution_count": null,
   "metadata": {},
   "outputs": [],
   "source": []
  }
 ],
 "metadata": {
  "kernelspec": {
   "display_name": "base",
   "language": "python",
   "name": "python3"
  },
  "language_info": {
   "codemirror_mode": {
    "name": "ipython",
    "version": 3
   },
   "file_extension": ".py",
   "mimetype": "text/x-python",
   "name": "python",
   "nbconvert_exporter": "python",
   "pygments_lexer": "ipython3",
   "version": "3.10.10"
  },
  "orig_nbformat": 4
 },
 "nbformat": 4,
 "nbformat_minor": 2
}
