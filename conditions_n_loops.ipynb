{
 "cells": [
  {
   "cell_type": "code",
   "execution_count": 1,
   "metadata": {},
   "outputs": [
    {
     "name": "stdout",
     "output_type": "stream",
     "text": [
      "Hello\n"
     ]
    }
   ],
   "source": [
    "x =13\n",
    "if x>10:\n",
    "    print(\"Hello\")"
   ]
  },
  {
   "cell_type": "code",
   "execution_count": 2,
   "metadata": {},
   "outputs": [
    {
     "name": "stdout",
     "output_type": "stream",
     "text": [
      "x is greater than y\n"
     ]
    }
   ],
   "source": [
    "x =10\n",
    "y = 3\n",
    "if x>y:\n",
    "    print(\"x is greater than y\")"
   ]
  },
  {
   "cell_type": "code",
   "execution_count": 3,
   "metadata": {},
   "outputs": [
    {
     "name": "stdout",
     "output_type": "stream",
     "text": [
      "x is greater than y and x is positive\n"
     ]
    }
   ],
   "source": [
    "if x>y and x > 0: # for multiple conditions\n",
    "    print(\"x is greater than y and x is positive\")"
   ]
  },
  {
   "cell_type": "code",
   "execution_count": 4,
   "metadata": {},
   "outputs": [
    {
     "name": "stdout",
     "output_type": "stream",
     "text": [
      "x is greater than 5 and y is greater than 1\n"
     ]
    }
   ],
   "source": [
    "if x > 5:\n",
    "    if y>1:\n",
    "        print(\"x is greater than 5 and y is greater than 1\")"
   ]
  },
  {
   "cell_type": "code",
   "execution_count": 5,
   "metadata": {},
   "outputs": [
    {
     "name": "stdout",
     "output_type": "stream",
     "text": [
      "x is greater than 5\n"
     ]
    }
   ],
   "source": [
    "if x>5:\n",
    "    print(\"x is greater than 5\")\n",
    "else:\n",
    "    print(\"x is not greater than 5\")"
   ]
  },
  {
   "cell_type": "code",
   "execution_count": 7,
   "metadata": {},
   "outputs": [
    {
     "name": "stdout",
     "output_type": "stream",
     "text": [
      " x and y are greater than 5\n"
     ]
    }
   ],
   "source": [
    "if x >5:\n",
    "    if y>1:\n",
    "        print(\" x and y are greater than 5\")\n",
    "    else:\n",
    "        print(\"x is greater than 5 but y is not greater than 5\")\n",
    "else:\n",
    "    print(\"x is not greater than 5\")"
   ]
  },
  {
   "cell_type": "code",
   "execution_count": 9,
   "metadata": {},
   "outputs": [
    {
     "name": "stdout",
     "output_type": "stream",
     "text": [
      "Even number\n"
     ]
    }
   ],
   "source": [
    "n = int(input(\"Enter a number:\"))\n",
    "if n%2 == 0:\n",
    "    print(\"Even number\")\n",
    "else:\n",
    "    print(\"odd number\")"
   ]
  },
  {
   "cell_type": "code",
   "execution_count": 11,
   "metadata": {},
   "outputs": [
    {
     "name": "stdout",
     "output_type": "stream",
     "text": [
      "z is greater than x and y\n"
     ]
    }
   ],
   "source": [
    "# multiple conditions \n",
    "x,y,z = 10,12,13\n",
    "if x>y and x>z:\n",
    "    print(\"X is greater than y and z\")\n",
    "elif y>x and y >z:\n",
    "    print(\"y is greater than x and z\")\n",
    "elif z >x and z>y:\n",
    "    print(\"z is greater than x and y\")\n",
    "else:\n",
    "    print(\"All the three values are same\")"
   ]
  },
  {
   "cell_type": "code",
   "execution_count": 13,
   "metadata": {},
   "outputs": [
    {
     "name": "stdout",
     "output_type": "stream",
     "text": [
      "Not a leaf year\n"
     ]
    }
   ],
   "source": [
    "year = int(input(\"Enter a year:\"))\n",
    "if year%400==4 and year%4==0:\n",
    "    print(\"Leaf year\")\n",
    "else:\n",
    "    print(\"Not a leaf year\") "
   ]
  },
  {
   "cell_type": "code",
   "execution_count": 14,
   "metadata": {},
   "outputs": [
    {
     "name": "stdout",
     "output_type": "stream",
     "text": [
      "Today is Monday\n"
     ]
    }
   ],
   "source": [
    "# Match program -\n",
    "day = input(\"Enter a day of the week\")\n",
    "match day:\n",
    "    case 'Monday':\n",
    "        print(\"Today is Monday\")\n",
    "    case 'Tuesday':\n",
    "        print(\"Today is Tuesday\")\n",
    "    case 'Wednesday':\n",
    "        print(\"Today is Wednesday\")\n",
    "    case 'Thursday':\n",
    "        print(\"Today is Thursday\")\n",
    "    case 'Friday':\n",
    "        print(\"Today is Friday\")\n",
    "    case 'Saturday':\n",
    "        print(\"Today is Saturday\")\n",
    "    case 'Sunday':\n",
    "        print(\"Today is Sunday\")\n",
    "    case _:\n",
    "        print(\"Invalid input\")"
   ]
  },
  {
   "cell_type": "code",
   "execution_count": null,
   "metadata": {},
   "outputs": [],
   "source": []
  }
 ],
 "metadata": {
  "kernelspec": {
   "display_name": "base",
   "language": "python",
   "name": "python3"
  },
  "language_info": {
   "codemirror_mode": {
    "name": "ipython",
    "version": 3
   },
   "file_extension": ".py",
   "mimetype": "text/x-python",
   "name": "python",
   "nbconvert_exporter": "python",
   "pygments_lexer": "ipython3",
   "version": "3.10.10"
  },
  "orig_nbformat": 4
 },
 "nbformat": 4,
 "nbformat_minor": 2
}
