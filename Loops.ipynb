{
 "cells": [
  {
   "cell_type": "code",
   "execution_count": 1,
   "metadata": {},
   "outputs": [
    {
     "name": "stdout",
     "output_type": "stream",
     "text": [
      "apple\n",
      "banana\n",
      "cherry\n",
      "mango\n",
      "orange\n",
      "kiwi\n",
      "melon\n"
     ]
    }
   ],
   "source": [
    "fruits = ['apple','banana','cherry','mango','orange','kiwi','melon']\n",
    "for fruit in fruits:\n",
    "    print(fruit)"
   ]
  },
  {
   "cell_type": "code",
   "execution_count": 4,
   "metadata": {},
   "outputs": [
    {
     "name": "stdout",
     "output_type": "stream",
     "text": [
      "(0, 'apple')\n",
      "(1, 'banana')\n",
      "(2, 'cherry')\n",
      "(3, 'mango')\n",
      "(4, 'orange')\n",
      "(5, 'kiwi')\n",
      "(6, 'melon')\n"
     ]
    }
   ],
   "source": [
    "# enumerate - used for indexing method \n",
    "for item in enumerate(fruits): # enumerate automatically take out value from list with index number\n",
    "    print(item)"
   ]
  },
  {
   "cell_type": "code",
   "execution_count": 5,
   "metadata": {},
   "outputs": [
    {
     "name": "stdout",
     "output_type": "stream",
     "text": [
      "0 apple\n",
      "1 banana\n",
      "2 cherry\n",
      "3 mango\n",
      "4 orange\n",
      "5 kiwi\n",
      "6 melon\n"
     ]
    }
   ],
   "source": [
    "# without using enumerate\n",
    "count = 0\n",
    "for fruit in fruits:\n",
    "    print(count,fruit)\n",
    "    count+=1"
   ]
  },
  {
   "cell_type": "code",
   "execution_count": 6,
   "metadata": {},
   "outputs": [
    {
     "name": "stdout",
     "output_type": "stream",
     "text": [
      "0=>apple\n",
      "1=>banana\n",
      "2=>cherry\n",
      "3=>mango\n",
      "4=>orange\n",
      "5=>kiwi\n",
      "6=>melon\n"
     ]
    }
   ],
   "source": [
    "for idx,val in enumerate(fruits):\n",
    "    print(f'{idx}=>{val}')\n",
    "    "
   ]
  },
  {
   "cell_type": "code",
   "execution_count": 7,
   "metadata": {},
   "outputs": [
    {
     "name": "stdout",
     "output_type": "stream",
     "text": [
      "apple\n",
      "cherry\n",
      "orange\n",
      "melon\n"
     ]
    }
   ],
   "source": [
    "for idx,val in enumerate(fruits): #index based selection \n",
    "    if idx %2==0:\n",
    "        print(val)"
   ]
  },
  {
   "cell_type": "code",
   "execution_count": 8,
   "metadata": {},
   "outputs": [
    {
     "name": "stdout",
     "output_type": "stream",
     "text": [
      "apple\n",
      "banana\n",
      "cherry\n"
     ]
    }
   ],
   "source": [
    "for idx,val in enumerate(fruits): # index based control \n",
    "    if idx ==3:\n",
    "        break\n",
    "    print(val)"
   ]
  },
  {
   "cell_type": "code",
   "execution_count": 10,
   "metadata": {},
   "outputs": [
    {
     "name": "stdout",
     "output_type": "stream",
     "text": [
      "1 4 7\n",
      "2 5 8\n",
      "3 6 9\n"
     ]
    }
   ],
   "source": [
    "x =[1,2,3] # zip function\n",
    "y=[4,5,6]\n",
    "z =[7,8,9]\n",
    "for i,j,k in zip(x,y,z):\n",
    "    print(i,j,k)"
   ]
  },
  {
   "cell_type": "code",
   "execution_count": 15,
   "metadata": {},
   "outputs": [
    {
     "name": "stdout",
     "output_type": "stream",
     "text": [
      "12 15 18 "
     ]
    }
   ],
   "source": [
    "for i,j,k in zip(x,y,z):\n",
    "    print(i+j+k,end=\" \")"
   ]
  },
  {
   "cell_type": "code",
   "execution_count": 16,
   "metadata": {},
   "outputs": [
    {
     "name": "stdout",
     "output_type": "stream",
     "text": [
      "1\n",
      "2\n",
      "3\n",
      "loop completed\n"
     ]
    }
   ],
   "source": [
    "# for else \n",
    "for i in x:\n",
    "    print(i)\n",
    "else:\n",
    "    print('loop completed')"
   ]
  },
  {
   "cell_type": "code",
   "execution_count": 17,
   "metadata": {},
   "outputs": [
    {
     "name": "stdout",
     "output_type": "stream",
     "text": [
      "1\n",
      "2\n"
     ]
    }
   ],
   "source": [
    "for i in x:\n",
    "    if i==3:\n",
    "        break\n",
    "    print(i)\n",
    "else:\n",
    "    print('Loop completed')"
   ]
  },
  {
   "cell_type": "code",
   "execution_count": 20,
   "metadata": {},
   "outputs": [
    {
     "name": "stdout",
     "output_type": "stream",
     "text": [
      "prime\n"
     ]
    }
   ],
   "source": [
    "x = 17 # prime number \n",
    "for i in range(2,x):\n",
    "    if x%i==0:\n",
    "        print('Not prime number')\n",
    "        break\n",
    "else:\n",
    "    print('prime')"
   ]
  },
  {
   "cell_type": "code",
   "execution_count": 23,
   "metadata": {},
   "outputs": [
    {
     "name": "stdout",
     "output_type": "stream",
     "text": [
      "the value entered is: 2\n",
      "the value entered is: 3\n",
      "the value entered is: 5\n",
      "the value entered is: 12\n"
     ]
    }
   ],
   "source": [
    "# while loop\n",
    "x =0\n",
    "while x<10:\n",
    "    x = int(input(\"Enter the value of x:\"))\n",
    "    print('the value entered is:',x)\n"
   ]
  },
  {
   "cell_type": "code",
   "execution_count": 28,
   "metadata": {},
   "outputs": [
    {
     "name": "stdout",
     "output_type": "stream",
     "text": [
      "2+3=5\n",
      "6+5=11\n"
     ]
    }
   ],
   "source": [
    "while True:\n",
    "    a = int(input('Enter the first number:'))\n",
    "    b = int(input('Enter the second number:'))\n",
    "    total = a + b\n",
    "    print(f'{a}+{b}={total}')\n",
    "    if input(\"do you want to continue? y/n\") =='n':\n",
    "         break"
   ]
  },
  {
   "cell_type": "code",
   "execution_count": 27,
   "metadata": {},
   "outputs": [
    {
     "name": "stdout",
     "output_type": "stream",
     "text": [
      "Once a upon a time\n",
      "there was a lion \n",
      "who was hungry \n",
      "\n"
     ]
    }
   ],
   "source": [
    "story =''\n",
    "while True:\n",
    "    line= input('Enter the line')\n",
    "    if line:\n",
    "        story+=line+'\\n'\n",
    "    else:\n",
    "        break;\n",
    "print(story)"
   ]
  },
  {
   "cell_type": "code",
   "execution_count": null,
   "metadata": {},
   "outputs": [],
   "source": []
  }
 ],
 "metadata": {
  "kernelspec": {
   "display_name": "base",
   "language": "python",
   "name": "python3"
  },
  "language_info": {
   "codemirror_mode": {
    "name": "ipython",
    "version": 3
   },
   "file_extension": ".py",
   "mimetype": "text/x-python",
   "name": "python",
   "nbconvert_exporter": "python",
   "pygments_lexer": "ipython3",
   "version": "3.10.10"
  },
  "orig_nbformat": 4
 },
 "nbformat": 4,
 "nbformat_minor": 2
}
