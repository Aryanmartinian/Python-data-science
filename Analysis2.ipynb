{
 "cells": [
  {
   "cell_type": "code",
   "execution_count": 7,
   "metadata": {},
   "outputs": [],
   "source": [
    "import pandas as pd \n",
    "import numpy as np  \n",
    "import plotly.express as px"
   ]
  },
  {
   "cell_type": "code",
   "execution_count": 8,
   "metadata": {},
   "outputs": [
    {
     "data": {
      "text/html": [
       "<div>\n",
       "<style scoped>\n",
       "    .dataframe tbody tr th:only-of-type {\n",
       "        vertical-align: middle;\n",
       "    }\n",
       "\n",
       "    .dataframe tbody tr th {\n",
       "        vertical-align: top;\n",
       "    }\n",
       "\n",
       "    .dataframe thead th {\n",
       "        text-align: right;\n",
       "    }\n",
       "</style>\n",
       "<table border=\"1\" class=\"dataframe\">\n",
       "  <thead>\n",
       "    <tr style=\"text-align: right;\">\n",
       "      <th></th>\n",
       "      <th>_id</th>\n",
       "      <th>actual_price</th>\n",
       "      <th>average_rating</th>\n",
       "      <th>brand</th>\n",
       "      <th>category</th>\n",
       "      <th>crawled_at</th>\n",
       "      <th>description</th>\n",
       "      <th>discount</th>\n",
       "      <th>images</th>\n",
       "      <th>out_of_stock</th>\n",
       "      <th>pid</th>\n",
       "      <th>product_details</th>\n",
       "      <th>seller</th>\n",
       "      <th>selling_price</th>\n",
       "      <th>sub_category</th>\n",
       "      <th>title</th>\n",
       "      <th>url</th>\n",
       "    </tr>\n",
       "  </thead>\n",
       "  <tbody>\n",
       "    <tr>\n",
       "      <th>0</th>\n",
       "      <td>fa8e22d6-c0b6-5229-bb9e-ad52eda39a0a</td>\n",
       "      <td>2,999</td>\n",
       "      <td>3.9</td>\n",
       "      <td>York</td>\n",
       "      <td>Clothing and Accessories</td>\n",
       "      <td>2021-02-10 20:11:51</td>\n",
       "      <td>Yorker trackpants made from 100% rich combed c...</td>\n",
       "      <td>69% off</td>\n",
       "      <td>[https://rukminim1.flixcart.com/image/128/128/...</td>\n",
       "      <td>False</td>\n",
       "      <td>TKPFCZ9EA7H5FYZH</td>\n",
       "      <td>[{'Style Code': '1005COMBO2'}, {'Closure': 'El...</td>\n",
       "      <td>Shyam Enterprises</td>\n",
       "      <td>921</td>\n",
       "      <td>Bottomwear</td>\n",
       "      <td>Solid Men Multicolor Track Pants</td>\n",
       "      <td>https://www.flipkart.com/yorker-solid-men-mult...</td>\n",
       "    </tr>\n",
       "    <tr>\n",
       "      <th>1</th>\n",
       "      <td>893e6980-f2a0-531f-b056-34dd63fe912c</td>\n",
       "      <td>1,499</td>\n",
       "      <td>3.9</td>\n",
       "      <td>York</td>\n",
       "      <td>Clothing and Accessories</td>\n",
       "      <td>2021-02-10 20:11:52</td>\n",
       "      <td>Yorker trackpants made from 100% rich combed c...</td>\n",
       "      <td>66% off</td>\n",
       "      <td>[https://rukminim1.flixcart.com/image/128/128/...</td>\n",
       "      <td>False</td>\n",
       "      <td>TKPFCZ9EJZV2UVRZ</td>\n",
       "      <td>[{'Style Code': '1005BLUE'}, {'Closure': 'Draw...</td>\n",
       "      <td>Shyam Enterprises</td>\n",
       "      <td>499</td>\n",
       "      <td>Bottomwear</td>\n",
       "      <td>Solid Men Blue Track Pants</td>\n",
       "      <td>https://www.flipkart.com/yorker-solid-men-blue...</td>\n",
       "    </tr>\n",
       "    <tr>\n",
       "      <th>2</th>\n",
       "      <td>eb4c8eab-8206-59d0-bcd1-a724d96bf74f</td>\n",
       "      <td>2,999</td>\n",
       "      <td>3.9</td>\n",
       "      <td>York</td>\n",
       "      <td>Clothing and Accessories</td>\n",
       "      <td>2021-02-10 20:11:52</td>\n",
       "      <td>Yorker trackpants made from 100% rich combed c...</td>\n",
       "      <td>68% off</td>\n",
       "      <td>[https://rukminim1.flixcart.com/image/128/128/...</td>\n",
       "      <td>False</td>\n",
       "      <td>TKPFCZ9EHFCY5Z4Y</td>\n",
       "      <td>[{'Style Code': '1005COMBO4'}, {'Closure': 'El...</td>\n",
       "      <td>Shyam Enterprises</td>\n",
       "      <td>931</td>\n",
       "      <td>Bottomwear</td>\n",
       "      <td>Solid Men Multicolor Track Pants</td>\n",
       "      <td>https://www.flipkart.com/yorker-solid-men-mult...</td>\n",
       "    </tr>\n",
       "    <tr>\n",
       "      <th>3</th>\n",
       "      <td>3f3f97bb-5faf-57df-a9ff-1af24e2b1045</td>\n",
       "      <td>2,999</td>\n",
       "      <td>3.9</td>\n",
       "      <td>York</td>\n",
       "      <td>Clothing and Accessories</td>\n",
       "      <td>2021-02-10 20:11:53</td>\n",
       "      <td>Yorker trackpants made from 100% rich combed c...</td>\n",
       "      <td>69% off</td>\n",
       "      <td>[https://rukminim1.flixcart.com/image/128/128/...</td>\n",
       "      <td>False</td>\n",
       "      <td>TKPFCZ9ESZZ7YWEF</td>\n",
       "      <td>[{'Style Code': '1005COMBO3'}, {'Closure': 'El...</td>\n",
       "      <td>Shyam Enterprises</td>\n",
       "      <td>911</td>\n",
       "      <td>Bottomwear</td>\n",
       "      <td>Solid Men Multicolor Track Pants</td>\n",
       "      <td>https://www.flipkart.com/yorker-solid-men-mult...</td>\n",
       "    </tr>\n",
       "    <tr>\n",
       "      <th>4</th>\n",
       "      <td>750caa3d-6264-53ca-8ce1-94118a1d8951</td>\n",
       "      <td>2,999</td>\n",
       "      <td>3.9</td>\n",
       "      <td>York</td>\n",
       "      <td>Clothing and Accessories</td>\n",
       "      <td>2021-02-10 20:11:53</td>\n",
       "      <td>Yorker trackpants made from 100% rich combed c...</td>\n",
       "      <td>68% off</td>\n",
       "      <td>[https://rukminim1.flixcart.com/image/128/128/...</td>\n",
       "      <td>False</td>\n",
       "      <td>TKPFCZ9EVXKBSUD7</td>\n",
       "      <td>[{'Style Code': '1005COMBO1'}, {'Closure': 'Dr...</td>\n",
       "      <td>Shyam Enterprises</td>\n",
       "      <td>943</td>\n",
       "      <td>Bottomwear</td>\n",
       "      <td>Solid Men Brown, Grey Track Pants</td>\n",
       "      <td>https://www.flipkart.com/yorker-solid-men-brow...</td>\n",
       "    </tr>\n",
       "  </tbody>\n",
       "</table>\n",
       "</div>"
      ],
      "text/plain": [
       "                                    _id actual_price average_rating brand  \\\n",
       "0  fa8e22d6-c0b6-5229-bb9e-ad52eda39a0a        2,999            3.9  York   \n",
       "1  893e6980-f2a0-531f-b056-34dd63fe912c        1,499            3.9  York   \n",
       "2  eb4c8eab-8206-59d0-bcd1-a724d96bf74f        2,999            3.9  York   \n",
       "3  3f3f97bb-5faf-57df-a9ff-1af24e2b1045        2,999            3.9  York   \n",
       "4  750caa3d-6264-53ca-8ce1-94118a1d8951        2,999            3.9  York   \n",
       "\n",
       "                   category          crawled_at  \\\n",
       "0  Clothing and Accessories 2021-02-10 20:11:51   \n",
       "1  Clothing and Accessories 2021-02-10 20:11:52   \n",
       "2  Clothing and Accessories 2021-02-10 20:11:52   \n",
       "3  Clothing and Accessories 2021-02-10 20:11:53   \n",
       "4  Clothing and Accessories 2021-02-10 20:11:53   \n",
       "\n",
       "                                         description discount  \\\n",
       "0  Yorker trackpants made from 100% rich combed c...  69% off   \n",
       "1  Yorker trackpants made from 100% rich combed c...  66% off   \n",
       "2  Yorker trackpants made from 100% rich combed c...  68% off   \n",
       "3  Yorker trackpants made from 100% rich combed c...  69% off   \n",
       "4  Yorker trackpants made from 100% rich combed c...  68% off   \n",
       "\n",
       "                                              images  out_of_stock  \\\n",
       "0  [https://rukminim1.flixcart.com/image/128/128/...         False   \n",
       "1  [https://rukminim1.flixcart.com/image/128/128/...         False   \n",
       "2  [https://rukminim1.flixcart.com/image/128/128/...         False   \n",
       "3  [https://rukminim1.flixcart.com/image/128/128/...         False   \n",
       "4  [https://rukminim1.flixcart.com/image/128/128/...         False   \n",
       "\n",
       "                pid                                    product_details  \\\n",
       "0  TKPFCZ9EA7H5FYZH  [{'Style Code': '1005COMBO2'}, {'Closure': 'El...   \n",
       "1  TKPFCZ9EJZV2UVRZ  [{'Style Code': '1005BLUE'}, {'Closure': 'Draw...   \n",
       "2  TKPFCZ9EHFCY5Z4Y  [{'Style Code': '1005COMBO4'}, {'Closure': 'El...   \n",
       "3  TKPFCZ9ESZZ7YWEF  [{'Style Code': '1005COMBO3'}, {'Closure': 'El...   \n",
       "4  TKPFCZ9EVXKBSUD7  [{'Style Code': '1005COMBO1'}, {'Closure': 'Dr...   \n",
       "\n",
       "              seller selling_price sub_category  \\\n",
       "0  Shyam Enterprises           921   Bottomwear   \n",
       "1  Shyam Enterprises           499   Bottomwear   \n",
       "2  Shyam Enterprises           931   Bottomwear   \n",
       "3  Shyam Enterprises           911   Bottomwear   \n",
       "4  Shyam Enterprises           943   Bottomwear   \n",
       "\n",
       "                               title  \\\n",
       "0   Solid Men Multicolor Track Pants   \n",
       "1         Solid Men Blue Track Pants   \n",
       "2   Solid Men Multicolor Track Pants   \n",
       "3   Solid Men Multicolor Track Pants   \n",
       "4  Solid Men Brown, Grey Track Pants   \n",
       "\n",
       "                                                 url  \n",
       "0  https://www.flipkart.com/yorker-solid-men-mult...  \n",
       "1  https://www.flipkart.com/yorker-solid-men-blue...  \n",
       "2  https://www.flipkart.com/yorker-solid-men-mult...  \n",
       "3  https://www.flipkart.com/yorker-solid-men-mult...  \n",
       "4  https://www.flipkart.com/yorker-solid-men-brow...  "
      ]
     },
     "execution_count": 8,
     "metadata": {},
     "output_type": "execute_result"
    }
   ],
   "source": [
    "df = pd.read_json('flipkart_fashion_products_dataset.json')\n",
    "df.head()"
   ]
  },
  {
   "cell_type": "code",
   "execution_count": 9,
   "metadata": {},
   "outputs": [
    {
     "name": "stdout",
     "output_type": "stream",
     "text": [
      "<class 'pandas.core.frame.DataFrame'>\n",
      "RangeIndex: 30000 entries, 0 to 29999\n",
      "Data columns (total 17 columns):\n",
      " #   Column           Non-Null Count  Dtype         \n",
      "---  ------           --------------  -----         \n",
      " 0   _id              30000 non-null  object        \n",
      " 1   actual_price     30000 non-null  object        \n",
      " 2   average_rating   30000 non-null  object        \n",
      " 3   brand            30000 non-null  object        \n",
      " 4   category         30000 non-null  object        \n",
      " 5   crawled_at       30000 non-null  datetime64[ns]\n",
      " 6   description      30000 non-null  object        \n",
      " 7   discount         30000 non-null  object        \n",
      " 8   images           30000 non-null  object        \n",
      " 9   out_of_stock     30000 non-null  bool          \n",
      " 10  pid              30000 non-null  object        \n",
      " 11  product_details  30000 non-null  object        \n",
      " 12  seller           30000 non-null  object        \n",
      " 13  selling_price    30000 non-null  object        \n",
      " 14  sub_category     30000 non-null  object        \n",
      " 15  title            30000 non-null  object        \n",
      " 16  url              30000 non-null  object        \n",
      "dtypes: bool(1), datetime64[ns](1), object(15)\n",
      "memory usage: 3.7+ MB\n"
     ]
    }
   ],
   "source": [
    "df.info()"
   ]
  },
  {
   "cell_type": "code",
   "execution_count": 12,
   "metadata": {},
   "outputs": [
    {
     "data": {
      "text/plain": [
       "0        2999.0\n",
       "1        1499.0\n",
       "2        2999.0\n",
       "3        2999.0\n",
       "4        2999.0\n",
       "          ...  \n",
       "29995    2299.0\n",
       "29996     799.0\n",
       "29997    4999.0\n",
       "29998    3125.0\n",
       "29999    3125.0\n",
       "Name: actual_price, Length: 30000, dtype: float64"
      ]
     },
     "execution_count": 12,
     "metadata": {},
     "output_type": "execute_result"
    }
   ],
   "source": [
    "# to change the datatype of any particular data attribute-\n",
    "def clean_price(value):\n",
    "    if not value:\n",
    "        return np.nan # empty\n",
    "    elif isinstance(value,str):\n",
    "        value = value.replace(',','')\n",
    "        if value.isnumeric():\n",
    "            return float(value)\n",
    "    else:\n",
    "        return value\n",
    "df['actual_price'].apply(clean_price) # testing the function"
   ]
  },
  {
   "cell_type": "code",
   "execution_count": 13,
   "metadata": {},
   "outputs": [],
   "source": [
    "df['actual_price'] = df['actual_price'].apply(clean_price)"
   ]
  },
  {
   "cell_type": "code",
   "execution_count": 11,
   "metadata": {},
   "outputs": [
    {
     "data": {
      "text/plain": [
       "0        69.0\n",
       "1        66.0\n",
       "2        68.0\n",
       "3        69.0\n",
       "4        68.0\n",
       "         ... \n",
       "29995    40.0\n",
       "29996    34.0\n",
       "29997    40.0\n",
       "29998    40.0\n",
       "29999    40.0\n",
       "Name: discount, Length: 30000, dtype: float64"
      ]
     },
     "execution_count": 11,
     "metadata": {},
     "output_type": "execute_result"
    }
   ],
   "source": [
    "def clean_discount(value):\n",
    "    if not value:\n",
    "        return np.nan\n",
    "    elif isinstance(value,str):\n",
    "        value = value.replace('% off','')\n",
    "        try:\n",
    "            value = float(value)\n",
    "            return value\n",
    "        except:\n",
    "            print(value)\n",
    "            return np.nan\n",
    "    else:\n",
    "        return value\n",
    "#test\n",
    "df['discount'].apply(clean_discount) # testing the function"
   ]
  },
  {
   "cell_type": "code",
   "execution_count": 15,
   "metadata": {},
   "outputs": [],
   "source": [
    "df['discount'] = df['discount'].apply(clean_discount)"
   ]
  },
  {
   "cell_type": "code",
   "execution_count": 14,
   "metadata": {},
   "outputs": [
    {
     "data": {
      "text/plain": [
       "0        3.9\n",
       "1        3.9\n",
       "2        3.9\n",
       "3        3.9\n",
       "4        3.9\n",
       "        ... \n",
       "29995    NaN\n",
       "29996    3.8\n",
       "29997    NaN\n",
       "29998    3.8\n",
       "29999    NaN\n",
       "Name: average_rating, Length: 30000, dtype: float64"
      ]
     },
     "execution_count": 14,
     "metadata": {},
     "output_type": "execute_result"
    }
   ],
   "source": [
    "def clean_rating(value):\n",
    "    if value:\n",
    "        return float(value)\n",
    "    return np.nan\n",
    "# test\n",
    "df['average_rating'].apply(clean_rating)"
   ]
  },
  {
   "cell_type": "code",
   "execution_count": 16,
   "metadata": {},
   "outputs": [],
   "source": [
    "df['average_rating'] = df['average_rating'].apply(clean_rating)"
   ]
  },
  {
   "cell_type": "code",
   "execution_count": 24,
   "metadata": {},
   "outputs": [],
   "source": [
    "# to change datatype of any attribute we use cleaning function."
   ]
  },
  {
   "cell_type": "code",
   "execution_count": 27,
   "metadata": {},
   "outputs": [
    {
     "data": {
      "text/plain": [
       "0        0\n",
       "1        0\n",
       "2        0\n",
       "3        0\n",
       "4        0\n",
       "        ..\n",
       "29995    1\n",
       "29996    0\n",
       "29997    1\n",
       "29998    0\n",
       "29999    1\n",
       "Name: out_of_stock, Length: 30000, dtype: int32"
      ]
     },
     "execution_count": 27,
     "metadata": {},
     "output_type": "execute_result"
    }
   ],
   "source": [
    "df['out_of_stock'].astype(int) # direct conversion of the attribute "
   ]
  },
  {
   "cell_type": "code",
   "execution_count": 29,
   "metadata": {},
   "outputs": [
    {
     "data": {
      "text/html": [
       "<div>\n",
       "<style scoped>\n",
       "    .dataframe tbody tr th:only-of-type {\n",
       "        vertical-align: middle;\n",
       "    }\n",
       "\n",
       "    .dataframe tbody tr th {\n",
       "        vertical-align: top;\n",
       "    }\n",
       "\n",
       "    .dataframe thead th {\n",
       "        text-align: right;\n",
       "    }\n",
       "</style>\n",
       "<table border=\"1\" class=\"dataframe\">\n",
       "  <thead>\n",
       "    <tr style=\"text-align: right;\">\n",
       "      <th></th>\n",
       "      <th>_id</th>\n",
       "      <th>actual_price</th>\n",
       "      <th>average_rating</th>\n",
       "      <th>brand</th>\n",
       "      <th>category</th>\n",
       "      <th>crawled_at</th>\n",
       "      <th>description</th>\n",
       "      <th>discount</th>\n",
       "      <th>images</th>\n",
       "      <th>out_of_stock</th>\n",
       "      <th>pid</th>\n",
       "      <th>product_details</th>\n",
       "      <th>seller</th>\n",
       "      <th>selling_price</th>\n",
       "      <th>sub_category</th>\n",
       "      <th>title</th>\n",
       "      <th>url</th>\n",
       "    </tr>\n",
       "  </thead>\n",
       "  <tbody>\n",
       "    <tr>\n",
       "      <th>3752</th>\n",
       "      <td>0096356b-0152-52c2-b447-1e1e781b7e21</td>\n",
       "      <td>2499.0</td>\n",
       "      <td>3.7</td>\n",
       "      <td>Crocks Cl</td>\n",
       "      <td>Clothing and Accessories</td>\n",
       "      <td>2021-02-10 20:48:39</td>\n",
       "      <td>From The Latest Collection, Crocks Club Now Br...</td>\n",
       "      <td>60.0</td>\n",
       "      <td>[https://rukminim1.flixcart.com/image/128/128/...</td>\n",
       "      <td>False</td>\n",
       "      <td>TROE7KGFB5GZHPQ3</td>\n",
       "      <td>[{'Fit': 'Regular Fit'}, {'Occasion': 'Formal'...</td>\n",
       "      <td>crockscl</td>\n",
       "      <td>999</td>\n",
       "      <td>Crocks Club Clothing and Accessories</td>\n",
       "      <td>1307-8 Regular Fit Men Beige Cotton Blend Trou...</td>\n",
       "      <td>https://www.flipkart.com/crocks-club-1307-8-re...</td>\n",
       "    </tr>\n",
       "    <tr>\n",
       "      <th>23671</th>\n",
       "      <td>8898a1cc-3cf2-5700-88b5-9516608414ff</td>\n",
       "      <td>1999.0</td>\n",
       "      <td>5.0</td>\n",
       "      <td>REEBOK CLASSI</td>\n",
       "      <td>Clothing and Accessories</td>\n",
       "      <td>2021-02-11 00:27:31</td>\n",
       "      <td>T&amp;J Short Sleeves Tee4</td>\n",
       "      <td>50.0</td>\n",
       "      <td>[https://rukminim1.flixcart.com/image/128/128/...</td>\n",
       "      <td>False</td>\n",
       "      <td>TSHFZ3JDYTGMMQYH</td>\n",
       "      <td>[{'Type': 'Round Neck'}, {'Sleeve': 'Short Sle...</td>\n",
       "      <td>RetailNet</td>\n",
       "      <td>999</td>\n",
       "      <td>Topwear</td>\n",
       "      <td>Sporty Men Round Neck Red T-Shirt</td>\n",
       "      <td>https://www.flipkart.com/reebok-classics-sport...</td>\n",
       "    </tr>\n",
       "    <tr>\n",
       "      <th>25682</th>\n",
       "      <td>f4d84ac1-bcaf-585d-a07a-7e7215602837</td>\n",
       "      <td>1999.0</td>\n",
       "      <td>3.9</td>\n",
       "      <td>Free Authori</td>\n",
       "      <td>Clothing and Accessories</td>\n",
       "      <td>2021-02-11 00:49:57</td>\n",
       "      <td>Free Authority Presents this Closed Fleece Hod...</td>\n",
       "      <td>50.0</td>\n",
       "      <td>[https://rukminim1.flixcart.com/image/128/128/...</td>\n",
       "      <td>False</td>\n",
       "      <td>SWSFVW6WHZTZPGFZ</td>\n",
       "      <td>[{'Color': 'Black'}, {'Fabric': 'Polycotton'},...</td>\n",
       "      <td>BioworldMerchandising</td>\n",
       "      <td>999</td>\n",
       "      <td>Winter Wear</td>\n",
       "      <td>Full Sleeve Graphic Print Men Sweatshirt</td>\n",
       "      <td>https://www.flipkart.com/free-authority-full-s...</td>\n",
       "    </tr>\n",
       "    <tr>\n",
       "      <th>23733</th>\n",
       "      <td>eeb46f0e-e5ea-5299-9bc8-c13a661694ec</td>\n",
       "      <td>2199.0</td>\n",
       "      <td>3.8</td>\n",
       "      <td>EverLa</td>\n",
       "      <td>Clothing and Accessories</td>\n",
       "      <td>2021-02-11 00:28:01</td>\n",
       "      <td>EverLand is an Indian brand that has marked it...</td>\n",
       "      <td>54.0</td>\n",
       "      <td>[https://rukminim1.flixcart.com/image/128/128/...</td>\n",
       "      <td>False</td>\n",
       "      <td>JCKFM3Y6A7AYPBH9</td>\n",
       "      <td>[{'Color': 'Multicolor'}, {'Fabric': 'Nylon'},...</td>\n",
       "      <td>EverLandIndia</td>\n",
       "      <td>999</td>\n",
       "      <td>Winter Wear</td>\n",
       "      <td>Sleeveless Colorblock Men Padded Jacket</td>\n",
       "      <td>https://www.flipkart.com/everland-sleeveless-c...</td>\n",
       "    </tr>\n",
       "    <tr>\n",
       "      <th>23732</th>\n",
       "      <td>8836ac3f-088f-5436-906a-9b2e13f4ba9e</td>\n",
       "      <td>2199.0</td>\n",
       "      <td>3.4</td>\n",
       "      <td>EverLa</td>\n",
       "      <td>Clothing and Accessories</td>\n",
       "      <td>2021-02-11 00:28:01</td>\n",
       "      <td>EverLand is an Indian brand that has marked it...</td>\n",
       "      <td>54.0</td>\n",
       "      <td>[https://rukminim1.flixcart.com/image/128/128/...</td>\n",
       "      <td>False</td>\n",
       "      <td>JCKFM3Y6MJ7BCYGW</td>\n",
       "      <td>[{'Color': 'Yellow'}, {'Fabric': 'Nylon'}, {'P...</td>\n",
       "      <td>EverLandIndia</td>\n",
       "      <td>999</td>\n",
       "      <td>Winter Wear</td>\n",
       "      <td>Sleeveless Solid Men Casual Jacket</td>\n",
       "      <td>https://www.flipkart.com/everland-sleeveless-s...</td>\n",
       "    </tr>\n",
       "    <tr>\n",
       "      <th>...</th>\n",
       "      <td>...</td>\n",
       "      <td>...</td>\n",
       "      <td>...</td>\n",
       "      <td>...</td>\n",
       "      <td>...</td>\n",
       "      <td>...</td>\n",
       "      <td>...</td>\n",
       "      <td>...</td>\n",
       "      <td>...</td>\n",
       "      <td>...</td>\n",
       "      <td>...</td>\n",
       "      <td>...</td>\n",
       "      <td>...</td>\n",
       "      <td>...</td>\n",
       "      <td>...</td>\n",
       "      <td>...</td>\n",
       "      <td>...</td>\n",
       "    </tr>\n",
       "    <tr>\n",
       "      <th>8580</th>\n",
       "      <td>bad4b2e9-000e-5174-bb95-350528b281ea</td>\n",
       "      <td>1210.0</td>\n",
       "      <td>4.2</td>\n",
       "      <td></td>\n",
       "      <td>Clothing and Accessories</td>\n",
       "      <td>2021-02-10 21:46:21</td>\n",
       "      <td>All day comfort and support from work to play ...</td>\n",
       "      <td>17.0</td>\n",
       "      <td>[https://rukminim1.flixcart.com/image/128/128/...</td>\n",
       "      <td>False</td>\n",
       "      <td>VESFN5RX2JARKJER</td>\n",
       "      <td>[{'Neck': 'Round Neck'}, {'Pattern': 'Solid'},...</td>\n",
       "      <td>ROCKYMOUNT</td>\n",
       "      <td>1,000</td>\n",
       "      <td>Innerwear and Swimwear</td>\n",
       "      <td>VIP Men Vest  (Pack of 11)</td>\n",
       "      <td>https://www.flipkart.com/vip-men-vest/p/itma8d...</td>\n",
       "    </tr>\n",
       "    <tr>\n",
       "      <th>8588</th>\n",
       "      <td>94483d8d-80e0-52be-be8c-3e99181305d6</td>\n",
       "      <td>1089.0</td>\n",
       "      <td>4.1</td>\n",
       "      <td></td>\n",
       "      <td>Clothing and Accessories</td>\n",
       "      <td>2021-02-10 21:46:26</td>\n",
       "      <td>All day comfort and support from work to play ...</td>\n",
       "      <td>8.0</td>\n",
       "      <td>[https://rukminim1.flixcart.com/image/128/128/...</td>\n",
       "      <td>False</td>\n",
       "      <td>VESFN8YGARJ8HYCZ</td>\n",
       "      <td>[{'Neck': 'Round Neck'}, {'Pattern': 'Solid'},...</td>\n",
       "      <td>ROCKYMOUNT</td>\n",
       "      <td>1,000</td>\n",
       "      <td>Innerwear and Swimwear</td>\n",
       "      <td>VIP Men Vest  (Pack of 11)</td>\n",
       "      <td>https://www.flipkart.com/vip-men-vest/p/itm947...</td>\n",
       "    </tr>\n",
       "    <tr>\n",
       "      <th>19122</th>\n",
       "      <td>ef336f8a-38b5-5708-b804-8f9c555be6b3</td>\n",
       "      <td>1800.0</td>\n",
       "      <td>3.2</td>\n",
       "      <td>yellowvib</td>\n",
       "      <td>Clothing and Accessories</td>\n",
       "      <td>2021-02-10 23:42:27</td>\n",
       "      <td></td>\n",
       "      <td>44.0</td>\n",
       "      <td>[https://rukminim1.flixcart.com/image/128/128/...</td>\n",
       "      <td>False</td>\n",
       "      <td>TSHFPFQZGJZZZCRG</td>\n",
       "      <td>[{'Type': 'Round Neck'}, {'Sleeve': 'Full Slee...</td>\n",
       "      <td>AMALGUS ENTERPRISE</td>\n",
       "      <td>1,000</td>\n",
       "      <td>Topwear</td>\n",
       "      <td>Printed Men Round Neck Dark Blue T-Shirt</td>\n",
       "      <td>https://www.flipkart.com/yellowvibes-printed-m...</td>\n",
       "    </tr>\n",
       "    <tr>\n",
       "      <th>29488</th>\n",
       "      <td>d53cf2b5-44c6-5c30-a927-1a20ba80877c</td>\n",
       "      <td>NaN</td>\n",
       "      <td>NaN</td>\n",
       "      <td>Ravil</td>\n",
       "      <td>Clothing and Accessories</td>\n",
       "      <td>2021-02-11 01:27:34</td>\n",
       "      <td></td>\n",
       "      <td>NaN</td>\n",
       "      <td>[https://rukminim1.flixcart.com/image/128/128/...</td>\n",
       "      <td>True</td>\n",
       "      <td>TKPFZAGJYK9YGRAA</td>\n",
       "      <td>[{'Style Code': 'Broad-line'}, {'Closure': 'Dr...</td>\n",
       "      <td></td>\n",
       "      <td></td>\n",
       "      <td>Bottomwear</td>\n",
       "      <td>Striped Men Black Track Pants</td>\n",
       "      <td>https://www.flipkart.com/ravilka-striped-men-b...</td>\n",
       "    </tr>\n",
       "    <tr>\n",
       "      <th>20739</th>\n",
       "      <td>81e8ac9f-6ea9-55f5-b468-d206948c7e33</td>\n",
       "      <td>NaN</td>\n",
       "      <td>NaN</td>\n",
       "      <td>FOOT F</td>\n",
       "      <td>Clothing and Accessories</td>\n",
       "      <td>2021-02-10 23:58:30</td>\n",
       "      <td>This is a special product from the house of FO...</td>\n",
       "      <td>NaN</td>\n",
       "      <td>[https://rukminim1.flixcart.com/image/128/128/...</td>\n",
       "      <td>True</td>\n",
       "      <td>SOCFYNKS7XZ3YUKZ</td>\n",
       "      <td>[{'Color': 'Multicolor'}, {'Pattern': 'Printed...</td>\n",
       "      <td></td>\n",
       "      <td></td>\n",
       "      <td>Clothing Accessories</td>\n",
       "      <td>Men Printed Calf Length  (Pack of 5)</td>\n",
       "      <td>https://www.flipkart.com/foot-fix-men-printed-...</td>\n",
       "    </tr>\n",
       "  </tbody>\n",
       "</table>\n",
       "<p>30000 rows × 17 columns</p>\n",
       "</div>"
      ],
      "text/plain": [
       "                                        _id  actual_price  average_rating  \\\n",
       "3752   0096356b-0152-52c2-b447-1e1e781b7e21        2499.0             3.7   \n",
       "23671  8898a1cc-3cf2-5700-88b5-9516608414ff        1999.0             5.0   \n",
       "25682  f4d84ac1-bcaf-585d-a07a-7e7215602837        1999.0             3.9   \n",
       "23733  eeb46f0e-e5ea-5299-9bc8-c13a661694ec        2199.0             3.8   \n",
       "23732  8836ac3f-088f-5436-906a-9b2e13f4ba9e        2199.0             3.4   \n",
       "...                                     ...           ...             ...   \n",
       "8580   bad4b2e9-000e-5174-bb95-350528b281ea        1210.0             4.2   \n",
       "8588   94483d8d-80e0-52be-be8c-3e99181305d6        1089.0             4.1   \n",
       "19122  ef336f8a-38b5-5708-b804-8f9c555be6b3        1800.0             3.2   \n",
       "29488  d53cf2b5-44c6-5c30-a927-1a20ba80877c           NaN             NaN   \n",
       "20739  81e8ac9f-6ea9-55f5-b468-d206948c7e33           NaN             NaN   \n",
       "\n",
       "               brand                  category          crawled_at  \\\n",
       "3752       Crocks Cl  Clothing and Accessories 2021-02-10 20:48:39   \n",
       "23671  REEBOK CLASSI  Clothing and Accessories 2021-02-11 00:27:31   \n",
       "25682   Free Authori  Clothing and Accessories 2021-02-11 00:49:57   \n",
       "23733         EverLa  Clothing and Accessories 2021-02-11 00:28:01   \n",
       "23732         EverLa  Clothing and Accessories 2021-02-11 00:28:01   \n",
       "...              ...                       ...                 ...   \n",
       "8580                  Clothing and Accessories 2021-02-10 21:46:21   \n",
       "8588                  Clothing and Accessories 2021-02-10 21:46:26   \n",
       "19122      yellowvib  Clothing and Accessories 2021-02-10 23:42:27   \n",
       "29488          Ravil  Clothing and Accessories 2021-02-11 01:27:34   \n",
       "20739         FOOT F  Clothing and Accessories 2021-02-10 23:58:30   \n",
       "\n",
       "                                             description  discount  \\\n",
       "3752   From The Latest Collection, Crocks Club Now Br...      60.0   \n",
       "23671                             T&J Short Sleeves Tee4      50.0   \n",
       "25682  Free Authority Presents this Closed Fleece Hod...      50.0   \n",
       "23733  EverLand is an Indian brand that has marked it...      54.0   \n",
       "23732  EverLand is an Indian brand that has marked it...      54.0   \n",
       "...                                                  ...       ...   \n",
       "8580   All day comfort and support from work to play ...      17.0   \n",
       "8588   All day comfort and support from work to play ...       8.0   \n",
       "19122                                                         44.0   \n",
       "29488                                                          NaN   \n",
       "20739  This is a special product from the house of FO...       NaN   \n",
       "\n",
       "                                                  images  out_of_stock  \\\n",
       "3752   [https://rukminim1.flixcart.com/image/128/128/...         False   \n",
       "23671  [https://rukminim1.flixcart.com/image/128/128/...         False   \n",
       "25682  [https://rukminim1.flixcart.com/image/128/128/...         False   \n",
       "23733  [https://rukminim1.flixcart.com/image/128/128/...         False   \n",
       "23732  [https://rukminim1.flixcart.com/image/128/128/...         False   \n",
       "...                                                  ...           ...   \n",
       "8580   [https://rukminim1.flixcart.com/image/128/128/...         False   \n",
       "8588   [https://rukminim1.flixcart.com/image/128/128/...         False   \n",
       "19122  [https://rukminim1.flixcart.com/image/128/128/...         False   \n",
       "29488  [https://rukminim1.flixcart.com/image/128/128/...          True   \n",
       "20739  [https://rukminim1.flixcart.com/image/128/128/...          True   \n",
       "\n",
       "                    pid                                    product_details  \\\n",
       "3752   TROE7KGFB5GZHPQ3  [{'Fit': 'Regular Fit'}, {'Occasion': 'Formal'...   \n",
       "23671  TSHFZ3JDYTGMMQYH  [{'Type': 'Round Neck'}, {'Sleeve': 'Short Sle...   \n",
       "25682  SWSFVW6WHZTZPGFZ  [{'Color': 'Black'}, {'Fabric': 'Polycotton'},...   \n",
       "23733  JCKFM3Y6A7AYPBH9  [{'Color': 'Multicolor'}, {'Fabric': 'Nylon'},...   \n",
       "23732  JCKFM3Y6MJ7BCYGW  [{'Color': 'Yellow'}, {'Fabric': 'Nylon'}, {'P...   \n",
       "...                 ...                                                ...   \n",
       "8580   VESFN5RX2JARKJER  [{'Neck': 'Round Neck'}, {'Pattern': 'Solid'},...   \n",
       "8588   VESFN8YGARJ8HYCZ  [{'Neck': 'Round Neck'}, {'Pattern': 'Solid'},...   \n",
       "19122  TSHFPFQZGJZZZCRG  [{'Type': 'Round Neck'}, {'Sleeve': 'Full Slee...   \n",
       "29488  TKPFZAGJYK9YGRAA  [{'Style Code': 'Broad-line'}, {'Closure': 'Dr...   \n",
       "20739  SOCFYNKS7XZ3YUKZ  [{'Color': 'Multicolor'}, {'Pattern': 'Printed...   \n",
       "\n",
       "                      seller selling_price  \\\n",
       "3752                crockscl           999   \n",
       "23671              RetailNet           999   \n",
       "25682  BioworldMerchandising           999   \n",
       "23733          EverLandIndia           999   \n",
       "23732          EverLandIndia           999   \n",
       "...                      ...           ...   \n",
       "8580              ROCKYMOUNT         1,000   \n",
       "8588              ROCKYMOUNT         1,000   \n",
       "19122     AMALGUS ENTERPRISE         1,000   \n",
       "29488                                        \n",
       "20739                                        \n",
       "\n",
       "                               sub_category  \\\n",
       "3752   Crocks Club Clothing and Accessories   \n",
       "23671                               Topwear   \n",
       "25682                           Winter Wear   \n",
       "23733                           Winter Wear   \n",
       "23732                           Winter Wear   \n",
       "...                                     ...   \n",
       "8580                 Innerwear and Swimwear   \n",
       "8588                 Innerwear and Swimwear   \n",
       "19122                               Topwear   \n",
       "29488                            Bottomwear   \n",
       "20739                  Clothing Accessories   \n",
       "\n",
       "                                                   title  \\\n",
       "3752   1307-8 Regular Fit Men Beige Cotton Blend Trou...   \n",
       "23671                  Sporty Men Round Neck Red T-Shirt   \n",
       "25682           Full Sleeve Graphic Print Men Sweatshirt   \n",
       "23733            Sleeveless Colorblock Men Padded Jacket   \n",
       "23732                 Sleeveless Solid Men Casual Jacket   \n",
       "...                                                  ...   \n",
       "8580                          VIP Men Vest  (Pack of 11)   \n",
       "8588                          VIP Men Vest  (Pack of 11)   \n",
       "19122           Printed Men Round Neck Dark Blue T-Shirt   \n",
       "29488                      Striped Men Black Track Pants   \n",
       "20739               Men Printed Calf Length  (Pack of 5)   \n",
       "\n",
       "                                                     url  \n",
       "3752   https://www.flipkart.com/crocks-club-1307-8-re...  \n",
       "23671  https://www.flipkart.com/reebok-classics-sport...  \n",
       "25682  https://www.flipkart.com/free-authority-full-s...  \n",
       "23733  https://www.flipkart.com/everland-sleeveless-c...  \n",
       "23732  https://www.flipkart.com/everland-sleeveless-s...  \n",
       "...                                                  ...  \n",
       "8580   https://www.flipkart.com/vip-men-vest/p/itma8d...  \n",
       "8588   https://www.flipkart.com/vip-men-vest/p/itm947...  \n",
       "19122  https://www.flipkart.com/yellowvibes-printed-m...  \n",
       "29488  https://www.flipkart.com/ravilka-striped-men-b...  \n",
       "20739  https://www.flipkart.com/foot-fix-men-printed-...  \n",
       "\n",
       "[30000 rows x 17 columns]"
      ]
     },
     "execution_count": 29,
     "metadata": {},
     "output_type": "execute_result"
    }
   ],
   "source": [
    "df.sort_values(by='selling_price',ascending=False)"
   ]
  },
  {
   "cell_type": "code",
   "execution_count": 30,
   "metadata": {},
   "outputs": [
    {
     "data": {
      "text/html": [
       "<div>\n",
       "<style scoped>\n",
       "    .dataframe tbody tr th:only-of-type {\n",
       "        vertical-align: middle;\n",
       "    }\n",
       "\n",
       "    .dataframe tbody tr th {\n",
       "        vertical-align: top;\n",
       "    }\n",
       "\n",
       "    .dataframe thead th {\n",
       "        text-align: right;\n",
       "    }\n",
       "</style>\n",
       "<table border=\"1\" class=\"dataframe\">\n",
       "  <thead>\n",
       "    <tr style=\"text-align: right;\">\n",
       "      <th></th>\n",
       "      <th>_id</th>\n",
       "      <th>actual_price</th>\n",
       "      <th>average_rating</th>\n",
       "      <th>brand</th>\n",
       "      <th>category</th>\n",
       "      <th>crawled_at</th>\n",
       "      <th>description</th>\n",
       "      <th>discount</th>\n",
       "      <th>images</th>\n",
       "      <th>out_of_stock</th>\n",
       "      <th>pid</th>\n",
       "      <th>product_details</th>\n",
       "      <th>seller</th>\n",
       "      <th>selling_price</th>\n",
       "      <th>sub_category</th>\n",
       "      <th>title</th>\n",
       "      <th>url</th>\n",
       "    </tr>\n",
       "  </thead>\n",
       "  <tbody>\n",
       "    <tr>\n",
       "      <th>21186</th>\n",
       "      <td>cd7275ff-e637-5872-8b22-572661dab705</td>\n",
       "      <td>1599.0</td>\n",
       "      <td>1.7</td>\n",
       "      <td></td>\n",
       "      <td>Clothing and Accessories</td>\n",
       "      <td>2021-02-11 00:02:32</td>\n",
       "      <td></td>\n",
       "      <td>37.0</td>\n",
       "      <td>[https://rukminim1.flixcart.com/image/128/128/...</td>\n",
       "      <td>False</td>\n",
       "      <td>DHTFVSYYGRARRTYY</td>\n",
       "      <td>[{'Ideal For': 'Men'}, {'Occasion': 'Casual'},...</td>\n",
       "      <td>VANITHATEX</td>\n",
       "      <td>999</td>\n",
       "      <td>Kurtas, Ethnic Sets and Bottoms</td>\n",
       "      <td>sudharsana VS PRNT 04 Floral Print Men Dhoti</td>\n",
       "      <td>https://www.flipkart.com/sudharsana-vs-prnt-04...</td>\n",
       "    </tr>\n",
       "    <tr>\n",
       "      <th>21213</th>\n",
       "      <td>c7e83a93-532d-55fc-9625-cb8a3707f686</td>\n",
       "      <td>1599.0</td>\n",
       "      <td>1.7</td>\n",
       "      <td></td>\n",
       "      <td>Clothing and Accessories</td>\n",
       "      <td>2021-02-11 00:02:44</td>\n",
       "      <td></td>\n",
       "      <td>37.0</td>\n",
       "      <td>[https://rukminim1.flixcart.com/image/128/128/...</td>\n",
       "      <td>False</td>\n",
       "      <td>DHTFVSYYGRARRTYY</td>\n",
       "      <td>[{'Ideal For': 'Men'}, {'Occasion': 'Casual'},...</td>\n",
       "      <td>VANITHATEX</td>\n",
       "      <td>999</td>\n",
       "      <td>Kurtas, Ethnic Sets and Bottoms</td>\n",
       "      <td>sudharsana VS PRNT 04 Floral Print Men Dhoti</td>\n",
       "      <td>https://www.flipkart.com/sudharsana-vs-prnt-04...</td>\n",
       "    </tr>\n",
       "    <tr>\n",
       "      <th>21214</th>\n",
       "      <td>c347510a-8168-5c53-8676-b126923796fa</td>\n",
       "      <td>1599.0</td>\n",
       "      <td>1.7</td>\n",
       "      <td></td>\n",
       "      <td>Clothing and Accessories</td>\n",
       "      <td>2021-02-11 00:02:44</td>\n",
       "      <td></td>\n",
       "      <td>37.0</td>\n",
       "      <td>[https://rukminim1.flixcart.com/image/128/128/...</td>\n",
       "      <td>False</td>\n",
       "      <td>DHTFVSYYGRARRTYY</td>\n",
       "      <td>[{'Ideal For': 'Men'}, {'Occasion': 'Casual'},...</td>\n",
       "      <td>VANITHATEX</td>\n",
       "      <td>999</td>\n",
       "      <td>Kurtas, Ethnic Sets and Bottoms</td>\n",
       "      <td>sudharsana VS PRNT 04 Floral Print Men Dhoti</td>\n",
       "      <td>https://www.flipkart.com/sudharsana-vs-prnt-04...</td>\n",
       "    </tr>\n",
       "    <tr>\n",
       "      <th>21215</th>\n",
       "      <td>afa6ec54-2dce-5d25-b0ab-7044f8a11680</td>\n",
       "      <td>1599.0</td>\n",
       "      <td>1.7</td>\n",
       "      <td></td>\n",
       "      <td>Clothing and Accessories</td>\n",
       "      <td>2021-02-11 00:02:45</td>\n",
       "      <td></td>\n",
       "      <td>37.0</td>\n",
       "      <td>[https://rukminim1.flixcart.com/image/128/128/...</td>\n",
       "      <td>False</td>\n",
       "      <td>DHTFVSYYGRARRTYY</td>\n",
       "      <td>[{'Ideal For': 'Men'}, {'Occasion': 'Casual'},...</td>\n",
       "      <td>VANITHATEX</td>\n",
       "      <td>999</td>\n",
       "      <td>Kurtas, Ethnic Sets and Bottoms</td>\n",
       "      <td>sudharsana VS PRNT 04 Floral Print Men Dhoti</td>\n",
       "      <td>https://www.flipkart.com/sudharsana-vs-prnt-04...</td>\n",
       "    </tr>\n",
       "    <tr>\n",
       "      <th>21216</th>\n",
       "      <td>e6fb0072-0596-5429-ac88-9a4a259b5bcc</td>\n",
       "      <td>1599.0</td>\n",
       "      <td>1.7</td>\n",
       "      <td></td>\n",
       "      <td>Clothing and Accessories</td>\n",
       "      <td>2021-02-11 00:02:45</td>\n",
       "      <td></td>\n",
       "      <td>37.0</td>\n",
       "      <td>[https://rukminim1.flixcart.com/image/128/128/...</td>\n",
       "      <td>False</td>\n",
       "      <td>DHTFVSYYGRARRTYY</td>\n",
       "      <td>[{'Ideal For': 'Men'}, {'Occasion': 'Casual'},...</td>\n",
       "      <td>VANITHATEX</td>\n",
       "      <td>999</td>\n",
       "      <td>Kurtas, Ethnic Sets and Bottoms</td>\n",
       "      <td>sudharsana VS PRNT 04 Floral Print Men Dhoti</td>\n",
       "      <td>https://www.flipkart.com/sudharsana-vs-prnt-04...</td>\n",
       "    </tr>\n",
       "    <tr>\n",
       "      <th>...</th>\n",
       "      <td>...</td>\n",
       "      <td>...</td>\n",
       "      <td>...</td>\n",
       "      <td>...</td>\n",
       "      <td>...</td>\n",
       "      <td>...</td>\n",
       "      <td>...</td>\n",
       "      <td>...</td>\n",
       "      <td>...</td>\n",
       "      <td>...</td>\n",
       "      <td>...</td>\n",
       "      <td>...</td>\n",
       "      <td>...</td>\n",
       "      <td>...</td>\n",
       "      <td>...</td>\n",
       "      <td>...</td>\n",
       "      <td>...</td>\n",
       "    </tr>\n",
       "    <tr>\n",
       "      <th>19610</th>\n",
       "      <td>6ae11cc4-3d3a-56bd-b604-27f2acfd8511</td>\n",
       "      <td>1900.0</td>\n",
       "      <td>3.2</td>\n",
       "      <td>yellowvib</td>\n",
       "      <td>Clothing and Accessories</td>\n",
       "      <td>2021-02-10 23:47:17</td>\n",
       "      <td></td>\n",
       "      <td>47.0</td>\n",
       "      <td>[https://rukminim1.flixcart.com/image/128/128/...</td>\n",
       "      <td>False</td>\n",
       "      <td>TSHFZTJ8CPWFB7AH</td>\n",
       "      <td>[{'Type': 'Round Neck'}, {'Sleeve': 'Full Slee...</td>\n",
       "      <td>AMALGUS ENTERPRISE</td>\n",
       "      <td>1,000</td>\n",
       "      <td>Topwear</td>\n",
       "      <td>Printed Men Round Neck Multicolor T-Shirt  (Pa...</td>\n",
       "      <td>https://www.flipkart.com/yellowvibes-printed-m...</td>\n",
       "    </tr>\n",
       "    <tr>\n",
       "      <th>19122</th>\n",
       "      <td>ef336f8a-38b5-5708-b804-8f9c555be6b3</td>\n",
       "      <td>1800.0</td>\n",
       "      <td>3.2</td>\n",
       "      <td>yellowvib</td>\n",
       "      <td>Clothing and Accessories</td>\n",
       "      <td>2021-02-10 23:42:27</td>\n",
       "      <td></td>\n",
       "      <td>44.0</td>\n",
       "      <td>[https://rukminim1.flixcart.com/image/128/128/...</td>\n",
       "      <td>False</td>\n",
       "      <td>TSHFPFQZGJZZZCRG</td>\n",
       "      <td>[{'Type': 'Round Neck'}, {'Sleeve': 'Full Slee...</td>\n",
       "      <td>AMALGUS ENTERPRISE</td>\n",
       "      <td>1,000</td>\n",
       "      <td>Topwear</td>\n",
       "      <td>Printed Men Round Neck Dark Blue T-Shirt</td>\n",
       "      <td>https://www.flipkart.com/yellowvibes-printed-m...</td>\n",
       "    </tr>\n",
       "    <tr>\n",
       "      <th>19571</th>\n",
       "      <td>2bab5d78-4c01-5628-b031-08aed9f7b689</td>\n",
       "      <td>2500.0</td>\n",
       "      <td>3.2</td>\n",
       "      <td>yellowvib</td>\n",
       "      <td>Clothing and Accessories</td>\n",
       "      <td>2021-02-10 23:46:59</td>\n",
       "      <td></td>\n",
       "      <td>60.0</td>\n",
       "      <td>[https://rukminim1.flixcart.com/image/128/128/...</td>\n",
       "      <td>False</td>\n",
       "      <td>TSHFMRC2RNUBSUCZ</td>\n",
       "      <td>[{'Type': 'Round Neck'}, {'Sleeve': 'Full Slee...</td>\n",
       "      <td>AMALGUS ENTERPRISE</td>\n",
       "      <td>1,000</td>\n",
       "      <td>Topwear</td>\n",
       "      <td>Printed Men Round Neck Black T-Shirt  (Pack of 2)</td>\n",
       "      <td>https://www.flipkart.com/yellowvibes-printed-m...</td>\n",
       "    </tr>\n",
       "    <tr>\n",
       "      <th>29488</th>\n",
       "      <td>d53cf2b5-44c6-5c30-a927-1a20ba80877c</td>\n",
       "      <td>NaN</td>\n",
       "      <td>NaN</td>\n",
       "      <td>Ravil</td>\n",
       "      <td>Clothing and Accessories</td>\n",
       "      <td>2021-02-11 01:27:34</td>\n",
       "      <td></td>\n",
       "      <td>NaN</td>\n",
       "      <td>[https://rukminim1.flixcart.com/image/128/128/...</td>\n",
       "      <td>True</td>\n",
       "      <td>TKPFZAGJYK9YGRAA</td>\n",
       "      <td>[{'Style Code': 'Broad-line'}, {'Closure': 'Dr...</td>\n",
       "      <td></td>\n",
       "      <td></td>\n",
       "      <td>Bottomwear</td>\n",
       "      <td>Striped Men Black Track Pants</td>\n",
       "      <td>https://www.flipkart.com/ravilka-striped-men-b...</td>\n",
       "    </tr>\n",
       "    <tr>\n",
       "      <th>20739</th>\n",
       "      <td>81e8ac9f-6ea9-55f5-b468-d206948c7e33</td>\n",
       "      <td>NaN</td>\n",
       "      <td>NaN</td>\n",
       "      <td>FOOT F</td>\n",
       "      <td>Clothing and Accessories</td>\n",
       "      <td>2021-02-10 23:58:30</td>\n",
       "      <td>This is a special product from the house of FO...</td>\n",
       "      <td>NaN</td>\n",
       "      <td>[https://rukminim1.flixcart.com/image/128/128/...</td>\n",
       "      <td>True</td>\n",
       "      <td>SOCFYNKS7XZ3YUKZ</td>\n",
       "      <td>[{'Color': 'Multicolor'}, {'Pattern': 'Printed...</td>\n",
       "      <td></td>\n",
       "      <td></td>\n",
       "      <td>Clothing Accessories</td>\n",
       "      <td>Men Printed Calf Length  (Pack of 5)</td>\n",
       "      <td>https://www.flipkart.com/foot-fix-men-printed-...</td>\n",
       "    </tr>\n",
       "  </tbody>\n",
       "</table>\n",
       "<p>30000 rows × 17 columns</p>\n",
       "</div>"
      ],
      "text/plain": [
       "                                        _id  actual_price  average_rating  \\\n",
       "21186  cd7275ff-e637-5872-8b22-572661dab705        1599.0             1.7   \n",
       "21213  c7e83a93-532d-55fc-9625-cb8a3707f686        1599.0             1.7   \n",
       "21214  c347510a-8168-5c53-8676-b126923796fa        1599.0             1.7   \n",
       "21215  afa6ec54-2dce-5d25-b0ab-7044f8a11680        1599.0             1.7   \n",
       "21216  e6fb0072-0596-5429-ac88-9a4a259b5bcc        1599.0             1.7   \n",
       "...                                     ...           ...             ...   \n",
       "19610  6ae11cc4-3d3a-56bd-b604-27f2acfd8511        1900.0             3.2   \n",
       "19122  ef336f8a-38b5-5708-b804-8f9c555be6b3        1800.0             3.2   \n",
       "19571  2bab5d78-4c01-5628-b031-08aed9f7b689        2500.0             3.2   \n",
       "29488  d53cf2b5-44c6-5c30-a927-1a20ba80877c           NaN             NaN   \n",
       "20739  81e8ac9f-6ea9-55f5-b468-d206948c7e33           NaN             NaN   \n",
       "\n",
       "           brand                  category          crawled_at  \\\n",
       "21186             Clothing and Accessories 2021-02-11 00:02:32   \n",
       "21213             Clothing and Accessories 2021-02-11 00:02:44   \n",
       "21214             Clothing and Accessories 2021-02-11 00:02:44   \n",
       "21215             Clothing and Accessories 2021-02-11 00:02:45   \n",
       "21216             Clothing and Accessories 2021-02-11 00:02:45   \n",
       "...          ...                       ...                 ...   \n",
       "19610  yellowvib  Clothing and Accessories 2021-02-10 23:47:17   \n",
       "19122  yellowvib  Clothing and Accessories 2021-02-10 23:42:27   \n",
       "19571  yellowvib  Clothing and Accessories 2021-02-10 23:46:59   \n",
       "29488      Ravil  Clothing and Accessories 2021-02-11 01:27:34   \n",
       "20739     FOOT F  Clothing and Accessories 2021-02-10 23:58:30   \n",
       "\n",
       "                                             description  discount  \\\n",
       "21186                                                         37.0   \n",
       "21213                                                         37.0   \n",
       "21214                                                         37.0   \n",
       "21215                                                         37.0   \n",
       "21216                                                         37.0   \n",
       "...                                                  ...       ...   \n",
       "19610                                                         47.0   \n",
       "19122                                                         44.0   \n",
       "19571                                                         60.0   \n",
       "29488                                                          NaN   \n",
       "20739  This is a special product from the house of FO...       NaN   \n",
       "\n",
       "                                                  images  out_of_stock  \\\n",
       "21186  [https://rukminim1.flixcart.com/image/128/128/...         False   \n",
       "21213  [https://rukminim1.flixcart.com/image/128/128/...         False   \n",
       "21214  [https://rukminim1.flixcart.com/image/128/128/...         False   \n",
       "21215  [https://rukminim1.flixcart.com/image/128/128/...         False   \n",
       "21216  [https://rukminim1.flixcart.com/image/128/128/...         False   \n",
       "...                                                  ...           ...   \n",
       "19610  [https://rukminim1.flixcart.com/image/128/128/...         False   \n",
       "19122  [https://rukminim1.flixcart.com/image/128/128/...         False   \n",
       "19571  [https://rukminim1.flixcart.com/image/128/128/...         False   \n",
       "29488  [https://rukminim1.flixcart.com/image/128/128/...          True   \n",
       "20739  [https://rukminim1.flixcart.com/image/128/128/...          True   \n",
       "\n",
       "                    pid                                    product_details  \\\n",
       "21186  DHTFVSYYGRARRTYY  [{'Ideal For': 'Men'}, {'Occasion': 'Casual'},...   \n",
       "21213  DHTFVSYYGRARRTYY  [{'Ideal For': 'Men'}, {'Occasion': 'Casual'},...   \n",
       "21214  DHTFVSYYGRARRTYY  [{'Ideal For': 'Men'}, {'Occasion': 'Casual'},...   \n",
       "21215  DHTFVSYYGRARRTYY  [{'Ideal For': 'Men'}, {'Occasion': 'Casual'},...   \n",
       "21216  DHTFVSYYGRARRTYY  [{'Ideal For': 'Men'}, {'Occasion': 'Casual'},...   \n",
       "...                 ...                                                ...   \n",
       "19610  TSHFZTJ8CPWFB7AH  [{'Type': 'Round Neck'}, {'Sleeve': 'Full Slee...   \n",
       "19122  TSHFPFQZGJZZZCRG  [{'Type': 'Round Neck'}, {'Sleeve': 'Full Slee...   \n",
       "19571  TSHFMRC2RNUBSUCZ  [{'Type': 'Round Neck'}, {'Sleeve': 'Full Slee...   \n",
       "29488  TKPFZAGJYK9YGRAA  [{'Style Code': 'Broad-line'}, {'Closure': 'Dr...   \n",
       "20739  SOCFYNKS7XZ3YUKZ  [{'Color': 'Multicolor'}, {'Pattern': 'Printed...   \n",
       "\n",
       "                   seller selling_price                     sub_category  \\\n",
       "21186          VANITHATEX           999  Kurtas, Ethnic Sets and Bottoms   \n",
       "21213          VANITHATEX           999  Kurtas, Ethnic Sets and Bottoms   \n",
       "21214          VANITHATEX           999  Kurtas, Ethnic Sets and Bottoms   \n",
       "21215          VANITHATEX           999  Kurtas, Ethnic Sets and Bottoms   \n",
       "21216          VANITHATEX           999  Kurtas, Ethnic Sets and Bottoms   \n",
       "...                   ...           ...                              ...   \n",
       "19610  AMALGUS ENTERPRISE         1,000                          Topwear   \n",
       "19122  AMALGUS ENTERPRISE         1,000                          Topwear   \n",
       "19571  AMALGUS ENTERPRISE         1,000                          Topwear   \n",
       "29488                                                         Bottomwear   \n",
       "20739                                               Clothing Accessories   \n",
       "\n",
       "                                                   title  \\\n",
       "21186       sudharsana VS PRNT 04 Floral Print Men Dhoti   \n",
       "21213       sudharsana VS PRNT 04 Floral Print Men Dhoti   \n",
       "21214       sudharsana VS PRNT 04 Floral Print Men Dhoti   \n",
       "21215       sudharsana VS PRNT 04 Floral Print Men Dhoti   \n",
       "21216       sudharsana VS PRNT 04 Floral Print Men Dhoti   \n",
       "...                                                  ...   \n",
       "19610  Printed Men Round Neck Multicolor T-Shirt  (Pa...   \n",
       "19122           Printed Men Round Neck Dark Blue T-Shirt   \n",
       "19571  Printed Men Round Neck Black T-Shirt  (Pack of 2)   \n",
       "29488                      Striped Men Black Track Pants   \n",
       "20739               Men Printed Calf Length  (Pack of 5)   \n",
       "\n",
       "                                                     url  \n",
       "21186  https://www.flipkart.com/sudharsana-vs-prnt-04...  \n",
       "21213  https://www.flipkart.com/sudharsana-vs-prnt-04...  \n",
       "21214  https://www.flipkart.com/sudharsana-vs-prnt-04...  \n",
       "21215  https://www.flipkart.com/sudharsana-vs-prnt-04...  \n",
       "21216  https://www.flipkart.com/sudharsana-vs-prnt-04...  \n",
       "...                                                  ...  \n",
       "19610  https://www.flipkart.com/yellowvibes-printed-m...  \n",
       "19122  https://www.flipkart.com/yellowvibes-printed-m...  \n",
       "19571  https://www.flipkart.com/yellowvibes-printed-m...  \n",
       "29488  https://www.flipkart.com/ravilka-striped-men-b...  \n",
       "20739  https://www.flipkart.com/foot-fix-men-printed-...  \n",
       "\n",
       "[30000 rows x 17 columns]"
      ]
     },
     "execution_count": 30,
     "metadata": {},
     "output_type": "execute_result"
    }
   ],
   "source": [
    "df.sort_values(by=['selling_price','title'],ascending=False)"
   ]
  },
  {
   "cell_type": "code",
   "execution_count": 31,
   "metadata": {},
   "outputs": [],
   "source": [
    "high_selling_price_df=df.sort_values(by='selling_price',ascending=False)"
   ]
  },
  {
   "cell_type": "code",
   "execution_count": 32,
   "metadata": {},
   "outputs": [
    {
     "data": {
      "application/vnd.plotly.v1+json": {
       "config": {
        "plotlyServerURL": "https://plot.ly"
       },
       "data": [
        {
         "alignmentgroup": "True",
         "hovertemplate": "out_of_stock=False<br>selling_price=%{x}<br>title=%{y}<extra></extra>",
         "legendgroup": "False",
         "marker": {
          "color": "#636efa",
          "pattern": {
           "shape": ""
          }
         },
         "name": "False",
         "offsetgroup": "False",
         "orientation": "v",
         "showlegend": true,
         "textposition": "auto",
         "type": "bar",
         "x": [
          "999",
          "999",
          "999",
          "999",
          "999",
          "999",
          "999",
          "999",
          "999",
          "999",
          "999",
          "999",
          "999",
          "999",
          "999",
          "999",
          "999",
          "999",
          "999",
          "999",
          "999",
          "999",
          "999",
          "999"
         ],
         "xaxis": "x",
         "y": [
          "1307-8 Regular Fit Men Beige Cotton Blend Trousers",
          "Sporty Men Round Neck Red T-Shirt",
          "Full Sleeve Graphic Print Men Sweatshirt",
          "Sleeveless Colorblock Men Padded Jacket",
          "Sleeveless Solid Men Casual Jacket",
          "Full Sleeve Color Block Men Jacket",
          "Full Sleeve Solid Men Sweatshirt",
          "Sporty Men Round Neck Black T-Shirt",
          "Printed Men Round Neck Black T-Shirt",
          "Printed Men Round Neck White T-Shirt",
          "Embroidered Men Round Neck Black T-Shirt",
          "Printed Men Round Neck Green T-Shirt",
          "Solid Men Round Neck White T-Shirt",
          "ATTIITUDE Men Vest",
          "Solid Men Round Neck Green T-Shirt",
          "Full Sleeve Colorblock Men Bomber Jacket",
          "Sleeveless Color Block Men Jacket",
          "Full Sleeve Solid Men Casual Jacket",
          "Sleeveless Color Block Men Casual Jacket",
          "Full Sleeve Color Block Men Bomber Jacket",
          "Full Sleeve Colorblock Men Padded Jacket",
          "Solid Men Grey Basic Shorts",
          "Slim Men Black Jeans",
          "Slim Men Blue Jeans"
         ],
         "yaxis": "y"
        },
        {
         "alignmentgroup": "True",
         "hovertemplate": "out_of_stock=True<br>selling_price=%{x}<br>title=%{y}<extra></extra>",
         "legendgroup": "True",
         "marker": {
          "color": "#EF553B",
          "pattern": {
           "shape": ""
          }
         },
         "name": "True",
         "offsetgroup": "True",
         "orientation": "v",
         "showlegend": true,
         "textposition": "auto",
         "type": "bar",
         "x": [
          "999"
         ],
         "xaxis": "x",
         "y": [
          "Solid Men Three Fourths"
         ],
         "yaxis": "y"
        }
       ],
       "layout": {
        "barmode": "relative",
        "legend": {
         "title": {
          "text": "out_of_stock"
         },
         "tracegroupgap": 0
        },
        "margin": {
         "t": 60
        },
        "template": {
         "data": {
          "bar": [
           {
            "error_x": {
             "color": "#2a3f5f"
            },
            "error_y": {
             "color": "#2a3f5f"
            },
            "marker": {
             "line": {
              "color": "#E5ECF6",
              "width": 0.5
             },
             "pattern": {
              "fillmode": "overlay",
              "size": 10,
              "solidity": 0.2
             }
            },
            "type": "bar"
           }
          ],
          "barpolar": [
           {
            "marker": {
             "line": {
              "color": "#E5ECF6",
              "width": 0.5
             },
             "pattern": {
              "fillmode": "overlay",
              "size": 10,
              "solidity": 0.2
             }
            },
            "type": "barpolar"
           }
          ],
          "carpet": [
           {
            "aaxis": {
             "endlinecolor": "#2a3f5f",
             "gridcolor": "white",
             "linecolor": "white",
             "minorgridcolor": "white",
             "startlinecolor": "#2a3f5f"
            },
            "baxis": {
             "endlinecolor": "#2a3f5f",
             "gridcolor": "white",
             "linecolor": "white",
             "minorgridcolor": "white",
             "startlinecolor": "#2a3f5f"
            },
            "type": "carpet"
           }
          ],
          "choropleth": [
           {
            "colorbar": {
             "outlinewidth": 0,
             "ticks": ""
            },
            "type": "choropleth"
           }
          ],
          "contour": [
           {
            "colorbar": {
             "outlinewidth": 0,
             "ticks": ""
            },
            "colorscale": [
             [
              0,
              "#0d0887"
             ],
             [
              0.1111111111111111,
              "#46039f"
             ],
             [
              0.2222222222222222,
              "#7201a8"
             ],
             [
              0.3333333333333333,
              "#9c179e"
             ],
             [
              0.4444444444444444,
              "#bd3786"
             ],
             [
              0.5555555555555556,
              "#d8576b"
             ],
             [
              0.6666666666666666,
              "#ed7953"
             ],
             [
              0.7777777777777778,
              "#fb9f3a"
             ],
             [
              0.8888888888888888,
              "#fdca26"
             ],
             [
              1,
              "#f0f921"
             ]
            ],
            "type": "contour"
           }
          ],
          "contourcarpet": [
           {
            "colorbar": {
             "outlinewidth": 0,
             "ticks": ""
            },
            "type": "contourcarpet"
           }
          ],
          "heatmap": [
           {
            "colorbar": {
             "outlinewidth": 0,
             "ticks": ""
            },
            "colorscale": [
             [
              0,
              "#0d0887"
             ],
             [
              0.1111111111111111,
              "#46039f"
             ],
             [
              0.2222222222222222,
              "#7201a8"
             ],
             [
              0.3333333333333333,
              "#9c179e"
             ],
             [
              0.4444444444444444,
              "#bd3786"
             ],
             [
              0.5555555555555556,
              "#d8576b"
             ],
             [
              0.6666666666666666,
              "#ed7953"
             ],
             [
              0.7777777777777778,
              "#fb9f3a"
             ],
             [
              0.8888888888888888,
              "#fdca26"
             ],
             [
              1,
              "#f0f921"
             ]
            ],
            "type": "heatmap"
           }
          ],
          "heatmapgl": [
           {
            "colorbar": {
             "outlinewidth": 0,
             "ticks": ""
            },
            "colorscale": [
             [
              0,
              "#0d0887"
             ],
             [
              0.1111111111111111,
              "#46039f"
             ],
             [
              0.2222222222222222,
              "#7201a8"
             ],
             [
              0.3333333333333333,
              "#9c179e"
             ],
             [
              0.4444444444444444,
              "#bd3786"
             ],
             [
              0.5555555555555556,
              "#d8576b"
             ],
             [
              0.6666666666666666,
              "#ed7953"
             ],
             [
              0.7777777777777778,
              "#fb9f3a"
             ],
             [
              0.8888888888888888,
              "#fdca26"
             ],
             [
              1,
              "#f0f921"
             ]
            ],
            "type": "heatmapgl"
           }
          ],
          "histogram": [
           {
            "marker": {
             "pattern": {
              "fillmode": "overlay",
              "size": 10,
              "solidity": 0.2
             }
            },
            "type": "histogram"
           }
          ],
          "histogram2d": [
           {
            "colorbar": {
             "outlinewidth": 0,
             "ticks": ""
            },
            "colorscale": [
             [
              0,
              "#0d0887"
             ],
             [
              0.1111111111111111,
              "#46039f"
             ],
             [
              0.2222222222222222,
              "#7201a8"
             ],
             [
              0.3333333333333333,
              "#9c179e"
             ],
             [
              0.4444444444444444,
              "#bd3786"
             ],
             [
              0.5555555555555556,
              "#d8576b"
             ],
             [
              0.6666666666666666,
              "#ed7953"
             ],
             [
              0.7777777777777778,
              "#fb9f3a"
             ],
             [
              0.8888888888888888,
              "#fdca26"
             ],
             [
              1,
              "#f0f921"
             ]
            ],
            "type": "histogram2d"
           }
          ],
          "histogram2dcontour": [
           {
            "colorbar": {
             "outlinewidth": 0,
             "ticks": ""
            },
            "colorscale": [
             [
              0,
              "#0d0887"
             ],
             [
              0.1111111111111111,
              "#46039f"
             ],
             [
              0.2222222222222222,
              "#7201a8"
             ],
             [
              0.3333333333333333,
              "#9c179e"
             ],
             [
              0.4444444444444444,
              "#bd3786"
             ],
             [
              0.5555555555555556,
              "#d8576b"
             ],
             [
              0.6666666666666666,
              "#ed7953"
             ],
             [
              0.7777777777777778,
              "#fb9f3a"
             ],
             [
              0.8888888888888888,
              "#fdca26"
             ],
             [
              1,
              "#f0f921"
             ]
            ],
            "type": "histogram2dcontour"
           }
          ],
          "mesh3d": [
           {
            "colorbar": {
             "outlinewidth": 0,
             "ticks": ""
            },
            "type": "mesh3d"
           }
          ],
          "parcoords": [
           {
            "line": {
             "colorbar": {
              "outlinewidth": 0,
              "ticks": ""
             }
            },
            "type": "parcoords"
           }
          ],
          "pie": [
           {
            "automargin": true,
            "type": "pie"
           }
          ],
          "scatter": [
           {
            "fillpattern": {
             "fillmode": "overlay",
             "size": 10,
             "solidity": 0.2
            },
            "type": "scatter"
           }
          ],
          "scatter3d": [
           {
            "line": {
             "colorbar": {
              "outlinewidth": 0,
              "ticks": ""
             }
            },
            "marker": {
             "colorbar": {
              "outlinewidth": 0,
              "ticks": ""
             }
            },
            "type": "scatter3d"
           }
          ],
          "scattercarpet": [
           {
            "marker": {
             "colorbar": {
              "outlinewidth": 0,
              "ticks": ""
             }
            },
            "type": "scattercarpet"
           }
          ],
          "scattergeo": [
           {
            "marker": {
             "colorbar": {
              "outlinewidth": 0,
              "ticks": ""
             }
            },
            "type": "scattergeo"
           }
          ],
          "scattergl": [
           {
            "marker": {
             "colorbar": {
              "outlinewidth": 0,
              "ticks": ""
             }
            },
            "type": "scattergl"
           }
          ],
          "scattermapbox": [
           {
            "marker": {
             "colorbar": {
              "outlinewidth": 0,
              "ticks": ""
             }
            },
            "type": "scattermapbox"
           }
          ],
          "scatterpolar": [
           {
            "marker": {
             "colorbar": {
              "outlinewidth": 0,
              "ticks": ""
             }
            },
            "type": "scatterpolar"
           }
          ],
          "scatterpolargl": [
           {
            "marker": {
             "colorbar": {
              "outlinewidth": 0,
              "ticks": ""
             }
            },
            "type": "scatterpolargl"
           }
          ],
          "scatterternary": [
           {
            "marker": {
             "colorbar": {
              "outlinewidth": 0,
              "ticks": ""
             }
            },
            "type": "scatterternary"
           }
          ],
          "surface": [
           {
            "colorbar": {
             "outlinewidth": 0,
             "ticks": ""
            },
            "colorscale": [
             [
              0,
              "#0d0887"
             ],
             [
              0.1111111111111111,
              "#46039f"
             ],
             [
              0.2222222222222222,
              "#7201a8"
             ],
             [
              0.3333333333333333,
              "#9c179e"
             ],
             [
              0.4444444444444444,
              "#bd3786"
             ],
             [
              0.5555555555555556,
              "#d8576b"
             ],
             [
              0.6666666666666666,
              "#ed7953"
             ],
             [
              0.7777777777777778,
              "#fb9f3a"
             ],
             [
              0.8888888888888888,
              "#fdca26"
             ],
             [
              1,
              "#f0f921"
             ]
            ],
            "type": "surface"
           }
          ],
          "table": [
           {
            "cells": {
             "fill": {
              "color": "#EBF0F8"
             },
             "line": {
              "color": "white"
             }
            },
            "header": {
             "fill": {
              "color": "#C8D4E3"
             },
             "line": {
              "color": "white"
             }
            },
            "type": "table"
           }
          ]
         },
         "layout": {
          "annotationdefaults": {
           "arrowcolor": "#2a3f5f",
           "arrowhead": 0,
           "arrowwidth": 1
          },
          "autotypenumbers": "strict",
          "coloraxis": {
           "colorbar": {
            "outlinewidth": 0,
            "ticks": ""
           }
          },
          "colorscale": {
           "diverging": [
            [
             0,
             "#8e0152"
            ],
            [
             0.1,
             "#c51b7d"
            ],
            [
             0.2,
             "#de77ae"
            ],
            [
             0.3,
             "#f1b6da"
            ],
            [
             0.4,
             "#fde0ef"
            ],
            [
             0.5,
             "#f7f7f7"
            ],
            [
             0.6,
             "#e6f5d0"
            ],
            [
             0.7,
             "#b8e186"
            ],
            [
             0.8,
             "#7fbc41"
            ],
            [
             0.9,
             "#4d9221"
            ],
            [
             1,
             "#276419"
            ]
           ],
           "sequential": [
            [
             0,
             "#0d0887"
            ],
            [
             0.1111111111111111,
             "#46039f"
            ],
            [
             0.2222222222222222,
             "#7201a8"
            ],
            [
             0.3333333333333333,
             "#9c179e"
            ],
            [
             0.4444444444444444,
             "#bd3786"
            ],
            [
             0.5555555555555556,
             "#d8576b"
            ],
            [
             0.6666666666666666,
             "#ed7953"
            ],
            [
             0.7777777777777778,
             "#fb9f3a"
            ],
            [
             0.8888888888888888,
             "#fdca26"
            ],
            [
             1,
             "#f0f921"
            ]
           ],
           "sequentialminus": [
            [
             0,
             "#0d0887"
            ],
            [
             0.1111111111111111,
             "#46039f"
            ],
            [
             0.2222222222222222,
             "#7201a8"
            ],
            [
             0.3333333333333333,
             "#9c179e"
            ],
            [
             0.4444444444444444,
             "#bd3786"
            ],
            [
             0.5555555555555556,
             "#d8576b"
            ],
            [
             0.6666666666666666,
             "#ed7953"
            ],
            [
             0.7777777777777778,
             "#fb9f3a"
            ],
            [
             0.8888888888888888,
             "#fdca26"
            ],
            [
             1,
             "#f0f921"
            ]
           ]
          },
          "colorway": [
           "#636efa",
           "#EF553B",
           "#00cc96",
           "#ab63fa",
           "#FFA15A",
           "#19d3f3",
           "#FF6692",
           "#B6E880",
           "#FF97FF",
           "#FECB52"
          ],
          "font": {
           "color": "#2a3f5f"
          },
          "geo": {
           "bgcolor": "white",
           "lakecolor": "white",
           "landcolor": "#E5ECF6",
           "showlakes": true,
           "showland": true,
           "subunitcolor": "white"
          },
          "hoverlabel": {
           "align": "left"
          },
          "hovermode": "closest",
          "mapbox": {
           "style": "light"
          },
          "paper_bgcolor": "white",
          "plot_bgcolor": "#E5ECF6",
          "polar": {
           "angularaxis": {
            "gridcolor": "white",
            "linecolor": "white",
            "ticks": ""
           },
           "bgcolor": "#E5ECF6",
           "radialaxis": {
            "gridcolor": "white",
            "linecolor": "white",
            "ticks": ""
           }
          },
          "scene": {
           "xaxis": {
            "backgroundcolor": "#E5ECF6",
            "gridcolor": "white",
            "gridwidth": 2,
            "linecolor": "white",
            "showbackground": true,
            "ticks": "",
            "zerolinecolor": "white"
           },
           "yaxis": {
            "backgroundcolor": "#E5ECF6",
            "gridcolor": "white",
            "gridwidth": 2,
            "linecolor": "white",
            "showbackground": true,
            "ticks": "",
            "zerolinecolor": "white"
           },
           "zaxis": {
            "backgroundcolor": "#E5ECF6",
            "gridcolor": "white",
            "gridwidth": 2,
            "linecolor": "white",
            "showbackground": true,
            "ticks": "",
            "zerolinecolor": "white"
           }
          },
          "shapedefaults": {
           "line": {
            "color": "#2a3f5f"
           }
          },
          "ternary": {
           "aaxis": {
            "gridcolor": "white",
            "linecolor": "white",
            "ticks": ""
           },
           "baxis": {
            "gridcolor": "white",
            "linecolor": "white",
            "ticks": ""
           },
           "bgcolor": "#E5ECF6",
           "caxis": {
            "gridcolor": "white",
            "linecolor": "white",
            "ticks": ""
           }
          },
          "title": {
           "x": 0.05
          },
          "xaxis": {
           "automargin": true,
           "gridcolor": "white",
           "linecolor": "white",
           "ticks": "",
           "title": {
            "standoff": 15
           },
           "zerolinecolor": "white",
           "zerolinewidth": 2
          },
          "yaxis": {
           "automargin": true,
           "gridcolor": "white",
           "linecolor": "white",
           "ticks": "",
           "title": {
            "standoff": 15
           },
           "zerolinecolor": "white",
           "zerolinewidth": 2
          }
         }
        },
        "width": 1200,
        "xaxis": {
         "anchor": "y",
         "domain": [
          0,
          1
         ],
         "title": {
          "text": "selling_price"
         }
        },
        "yaxis": {
         "anchor": "x",
         "domain": [
          0,
          1
         ],
         "title": {
          "text": "title"
         }
        }
       }
      }
     },
     "metadata": {},
     "output_type": "display_data"
    }
   ],
   "source": [
    "high_selling_price_df.drop_duplicates(subset=['title'],inplace=True) # drop duplicates\n",
    "px.bar(high_selling_price_df.head(25),y='title',\n",
    "       x='selling_price',color='out_of_stock',width=1200)"
   ]
  },
  {
   "cell_type": "code",
   "execution_count": 36,
   "metadata": {},
   "outputs": [
    {
     "data": {
      "application/vnd.plotly.v1+json": {
       "config": {
        "plotlyServerURL": "https://plot.ly"
       },
       "data": [
        {
         "hovertemplate": "out_of_stock=False<br>selling_price=%{theta}<extra></extra>",
         "legendgroup": "False",
         "marker": {
          "color": "#636efa",
          "pattern": {
           "shape": ""
          }
         },
         "name": "False",
         "r": [
          "999",
          "999",
          "999",
          "999",
          "999",
          "999",
          "999",
          "999",
          "999",
          "999",
          "999",
          "999",
          "999",
          "999",
          "999",
          "999",
          "999",
          "999",
          "999",
          "999",
          "999",
          "999",
          "999",
          "999"
         ],
         "showlegend": true,
         "subplot": "polar",
         "theta": [
          "999",
          "999",
          "999",
          "999",
          "999",
          "999",
          "999",
          "999",
          "999",
          "999",
          "999",
          "999",
          "999",
          "999",
          "999",
          "999",
          "999",
          "999",
          "999",
          "999",
          "999",
          "999",
          "999",
          "999"
         ],
         "type": "barpolar"
        },
        {
         "hovertemplate": "out_of_stock=True<br>selling_price=%{theta}<extra></extra>",
         "legendgroup": "True",
         "marker": {
          "color": "#EF553B",
          "pattern": {
           "shape": ""
          }
         },
         "name": "True",
         "r": [
          "999"
         ],
         "showlegend": true,
         "subplot": "polar",
         "theta": [
          "999"
         ],
         "type": "barpolar"
        }
       ],
       "layout": {
        "barmode": "relative",
        "legend": {
         "title": {
          "text": "out_of_stock"
         },
         "tracegroupgap": 0
        },
        "margin": {
         "t": 60
        },
        "polar": {
         "angularaxis": {
          "direction": "clockwise",
          "rotation": 90
         },
         "domain": {
          "x": [
           0,
           1
          ],
          "y": [
           0,
           1
          ]
         }
        },
        "template": {
         "data": {
          "bar": [
           {
            "error_x": {
             "color": "#2a3f5f"
            },
            "error_y": {
             "color": "#2a3f5f"
            },
            "marker": {
             "line": {
              "color": "#E5ECF6",
              "width": 0.5
             },
             "pattern": {
              "fillmode": "overlay",
              "size": 10,
              "solidity": 0.2
             }
            },
            "type": "bar"
           }
          ],
          "barpolar": [
           {
            "marker": {
             "line": {
              "color": "#E5ECF6",
              "width": 0.5
             },
             "pattern": {
              "fillmode": "overlay",
              "size": 10,
              "solidity": 0.2
             }
            },
            "type": "barpolar"
           }
          ],
          "carpet": [
           {
            "aaxis": {
             "endlinecolor": "#2a3f5f",
             "gridcolor": "white",
             "linecolor": "white",
             "minorgridcolor": "white",
             "startlinecolor": "#2a3f5f"
            },
            "baxis": {
             "endlinecolor": "#2a3f5f",
             "gridcolor": "white",
             "linecolor": "white",
             "minorgridcolor": "white",
             "startlinecolor": "#2a3f5f"
            },
            "type": "carpet"
           }
          ],
          "choropleth": [
           {
            "colorbar": {
             "outlinewidth": 0,
             "ticks": ""
            },
            "type": "choropleth"
           }
          ],
          "contour": [
           {
            "colorbar": {
             "outlinewidth": 0,
             "ticks": ""
            },
            "colorscale": [
             [
              0,
              "#0d0887"
             ],
             [
              0.1111111111111111,
              "#46039f"
             ],
             [
              0.2222222222222222,
              "#7201a8"
             ],
             [
              0.3333333333333333,
              "#9c179e"
             ],
             [
              0.4444444444444444,
              "#bd3786"
             ],
             [
              0.5555555555555556,
              "#d8576b"
             ],
             [
              0.6666666666666666,
              "#ed7953"
             ],
             [
              0.7777777777777778,
              "#fb9f3a"
             ],
             [
              0.8888888888888888,
              "#fdca26"
             ],
             [
              1,
              "#f0f921"
             ]
            ],
            "type": "contour"
           }
          ],
          "contourcarpet": [
           {
            "colorbar": {
             "outlinewidth": 0,
             "ticks": ""
            },
            "type": "contourcarpet"
           }
          ],
          "heatmap": [
           {
            "colorbar": {
             "outlinewidth": 0,
             "ticks": ""
            },
            "colorscale": [
             [
              0,
              "#0d0887"
             ],
             [
              0.1111111111111111,
              "#46039f"
             ],
             [
              0.2222222222222222,
              "#7201a8"
             ],
             [
              0.3333333333333333,
              "#9c179e"
             ],
             [
              0.4444444444444444,
              "#bd3786"
             ],
             [
              0.5555555555555556,
              "#d8576b"
             ],
             [
              0.6666666666666666,
              "#ed7953"
             ],
             [
              0.7777777777777778,
              "#fb9f3a"
             ],
             [
              0.8888888888888888,
              "#fdca26"
             ],
             [
              1,
              "#f0f921"
             ]
            ],
            "type": "heatmap"
           }
          ],
          "heatmapgl": [
           {
            "colorbar": {
             "outlinewidth": 0,
             "ticks": ""
            },
            "colorscale": [
             [
              0,
              "#0d0887"
             ],
             [
              0.1111111111111111,
              "#46039f"
             ],
             [
              0.2222222222222222,
              "#7201a8"
             ],
             [
              0.3333333333333333,
              "#9c179e"
             ],
             [
              0.4444444444444444,
              "#bd3786"
             ],
             [
              0.5555555555555556,
              "#d8576b"
             ],
             [
              0.6666666666666666,
              "#ed7953"
             ],
             [
              0.7777777777777778,
              "#fb9f3a"
             ],
             [
              0.8888888888888888,
              "#fdca26"
             ],
             [
              1,
              "#f0f921"
             ]
            ],
            "type": "heatmapgl"
           }
          ],
          "histogram": [
           {
            "marker": {
             "pattern": {
              "fillmode": "overlay",
              "size": 10,
              "solidity": 0.2
             }
            },
            "type": "histogram"
           }
          ],
          "histogram2d": [
           {
            "colorbar": {
             "outlinewidth": 0,
             "ticks": ""
            },
            "colorscale": [
             [
              0,
              "#0d0887"
             ],
             [
              0.1111111111111111,
              "#46039f"
             ],
             [
              0.2222222222222222,
              "#7201a8"
             ],
             [
              0.3333333333333333,
              "#9c179e"
             ],
             [
              0.4444444444444444,
              "#bd3786"
             ],
             [
              0.5555555555555556,
              "#d8576b"
             ],
             [
              0.6666666666666666,
              "#ed7953"
             ],
             [
              0.7777777777777778,
              "#fb9f3a"
             ],
             [
              0.8888888888888888,
              "#fdca26"
             ],
             [
              1,
              "#f0f921"
             ]
            ],
            "type": "histogram2d"
           }
          ],
          "histogram2dcontour": [
           {
            "colorbar": {
             "outlinewidth": 0,
             "ticks": ""
            },
            "colorscale": [
             [
              0,
              "#0d0887"
             ],
             [
              0.1111111111111111,
              "#46039f"
             ],
             [
              0.2222222222222222,
              "#7201a8"
             ],
             [
              0.3333333333333333,
              "#9c179e"
             ],
             [
              0.4444444444444444,
              "#bd3786"
             ],
             [
              0.5555555555555556,
              "#d8576b"
             ],
             [
              0.6666666666666666,
              "#ed7953"
             ],
             [
              0.7777777777777778,
              "#fb9f3a"
             ],
             [
              0.8888888888888888,
              "#fdca26"
             ],
             [
              1,
              "#f0f921"
             ]
            ],
            "type": "histogram2dcontour"
           }
          ],
          "mesh3d": [
           {
            "colorbar": {
             "outlinewidth": 0,
             "ticks": ""
            },
            "type": "mesh3d"
           }
          ],
          "parcoords": [
           {
            "line": {
             "colorbar": {
              "outlinewidth": 0,
              "ticks": ""
             }
            },
            "type": "parcoords"
           }
          ],
          "pie": [
           {
            "automargin": true,
            "type": "pie"
           }
          ],
          "scatter": [
           {
            "fillpattern": {
             "fillmode": "overlay",
             "size": 10,
             "solidity": 0.2
            },
            "type": "scatter"
           }
          ],
          "scatter3d": [
           {
            "line": {
             "colorbar": {
              "outlinewidth": 0,
              "ticks": ""
             }
            },
            "marker": {
             "colorbar": {
              "outlinewidth": 0,
              "ticks": ""
             }
            },
            "type": "scatter3d"
           }
          ],
          "scattercarpet": [
           {
            "marker": {
             "colorbar": {
              "outlinewidth": 0,
              "ticks": ""
             }
            },
            "type": "scattercarpet"
           }
          ],
          "scattergeo": [
           {
            "marker": {
             "colorbar": {
              "outlinewidth": 0,
              "ticks": ""
             }
            },
            "type": "scattergeo"
           }
          ],
          "scattergl": [
           {
            "marker": {
             "colorbar": {
              "outlinewidth": 0,
              "ticks": ""
             }
            },
            "type": "scattergl"
           }
          ],
          "scattermapbox": [
           {
            "marker": {
             "colorbar": {
              "outlinewidth": 0,
              "ticks": ""
             }
            },
            "type": "scattermapbox"
           }
          ],
          "scatterpolar": [
           {
            "marker": {
             "colorbar": {
              "outlinewidth": 0,
              "ticks": ""
             }
            },
            "type": "scatterpolar"
           }
          ],
          "scatterpolargl": [
           {
            "marker": {
             "colorbar": {
              "outlinewidth": 0,
              "ticks": ""
             }
            },
            "type": "scatterpolargl"
           }
          ],
          "scatterternary": [
           {
            "marker": {
             "colorbar": {
              "outlinewidth": 0,
              "ticks": ""
             }
            },
            "type": "scatterternary"
           }
          ],
          "surface": [
           {
            "colorbar": {
             "outlinewidth": 0,
             "ticks": ""
            },
            "colorscale": [
             [
              0,
              "#0d0887"
             ],
             [
              0.1111111111111111,
              "#46039f"
             ],
             [
              0.2222222222222222,
              "#7201a8"
             ],
             [
              0.3333333333333333,
              "#9c179e"
             ],
             [
              0.4444444444444444,
              "#bd3786"
             ],
             [
              0.5555555555555556,
              "#d8576b"
             ],
             [
              0.6666666666666666,
              "#ed7953"
             ],
             [
              0.7777777777777778,
              "#fb9f3a"
             ],
             [
              0.8888888888888888,
              "#fdca26"
             ],
             [
              1,
              "#f0f921"
             ]
            ],
            "type": "surface"
           }
          ],
          "table": [
           {
            "cells": {
             "fill": {
              "color": "#EBF0F8"
             },
             "line": {
              "color": "white"
             }
            },
            "header": {
             "fill": {
              "color": "#C8D4E3"
             },
             "line": {
              "color": "white"
             }
            },
            "type": "table"
           }
          ]
         },
         "layout": {
          "annotationdefaults": {
           "arrowcolor": "#2a3f5f",
           "arrowhead": 0,
           "arrowwidth": 1
          },
          "autotypenumbers": "strict",
          "coloraxis": {
           "colorbar": {
            "outlinewidth": 0,
            "ticks": ""
           }
          },
          "colorscale": {
           "diverging": [
            [
             0,
             "#8e0152"
            ],
            [
             0.1,
             "#c51b7d"
            ],
            [
             0.2,
             "#de77ae"
            ],
            [
             0.3,
             "#f1b6da"
            ],
            [
             0.4,
             "#fde0ef"
            ],
            [
             0.5,
             "#f7f7f7"
            ],
            [
             0.6,
             "#e6f5d0"
            ],
            [
             0.7,
             "#b8e186"
            ],
            [
             0.8,
             "#7fbc41"
            ],
            [
             0.9,
             "#4d9221"
            ],
            [
             1,
             "#276419"
            ]
           ],
           "sequential": [
            [
             0,
             "#0d0887"
            ],
            [
             0.1111111111111111,
             "#46039f"
            ],
            [
             0.2222222222222222,
             "#7201a8"
            ],
            [
             0.3333333333333333,
             "#9c179e"
            ],
            [
             0.4444444444444444,
             "#bd3786"
            ],
            [
             0.5555555555555556,
             "#d8576b"
            ],
            [
             0.6666666666666666,
             "#ed7953"
            ],
            [
             0.7777777777777778,
             "#fb9f3a"
            ],
            [
             0.8888888888888888,
             "#fdca26"
            ],
            [
             1,
             "#f0f921"
            ]
           ],
           "sequentialminus": [
            [
             0,
             "#0d0887"
            ],
            [
             0.1111111111111111,
             "#46039f"
            ],
            [
             0.2222222222222222,
             "#7201a8"
            ],
            [
             0.3333333333333333,
             "#9c179e"
            ],
            [
             0.4444444444444444,
             "#bd3786"
            ],
            [
             0.5555555555555556,
             "#d8576b"
            ],
            [
             0.6666666666666666,
             "#ed7953"
            ],
            [
             0.7777777777777778,
             "#fb9f3a"
            ],
            [
             0.8888888888888888,
             "#fdca26"
            ],
            [
             1,
             "#f0f921"
            ]
           ]
          },
          "colorway": [
           "#636efa",
           "#EF553B",
           "#00cc96",
           "#ab63fa",
           "#FFA15A",
           "#19d3f3",
           "#FF6692",
           "#B6E880",
           "#FF97FF",
           "#FECB52"
          ],
          "font": {
           "color": "#2a3f5f"
          },
          "geo": {
           "bgcolor": "white",
           "lakecolor": "white",
           "landcolor": "#E5ECF6",
           "showlakes": true,
           "showland": true,
           "subunitcolor": "white"
          },
          "hoverlabel": {
           "align": "left"
          },
          "hovermode": "closest",
          "mapbox": {
           "style": "light"
          },
          "paper_bgcolor": "white",
          "plot_bgcolor": "#E5ECF6",
          "polar": {
           "angularaxis": {
            "gridcolor": "white",
            "linecolor": "white",
            "ticks": ""
           },
           "bgcolor": "#E5ECF6",
           "radialaxis": {
            "gridcolor": "white",
            "linecolor": "white",
            "ticks": ""
           }
          },
          "scene": {
           "xaxis": {
            "backgroundcolor": "#E5ECF6",
            "gridcolor": "white",
            "gridwidth": 2,
            "linecolor": "white",
            "showbackground": true,
            "ticks": "",
            "zerolinecolor": "white"
           },
           "yaxis": {
            "backgroundcolor": "#E5ECF6",
            "gridcolor": "white",
            "gridwidth": 2,
            "linecolor": "white",
            "showbackground": true,
            "ticks": "",
            "zerolinecolor": "white"
           },
           "zaxis": {
            "backgroundcolor": "#E5ECF6",
            "gridcolor": "white",
            "gridwidth": 2,
            "linecolor": "white",
            "showbackground": true,
            "ticks": "",
            "zerolinecolor": "white"
           }
          },
          "shapedefaults": {
           "line": {
            "color": "#2a3f5f"
           }
          },
          "ternary": {
           "aaxis": {
            "gridcolor": "white",
            "linecolor": "white",
            "ticks": ""
           },
           "baxis": {
            "gridcolor": "white",
            "linecolor": "white",
            "ticks": ""
           },
           "bgcolor": "#E5ECF6",
           "caxis": {
            "gridcolor": "white",
            "linecolor": "white",
            "ticks": ""
           }
          },
          "title": {
           "x": 0.05
          },
          "xaxis": {
           "automargin": true,
           "gridcolor": "white",
           "linecolor": "white",
           "ticks": "",
           "title": {
            "standoff": 15
           },
           "zerolinecolor": "white",
           "zerolinewidth": 2
          },
          "yaxis": {
           "automargin": true,
           "gridcolor": "white",
           "linecolor": "white",
           "ticks": "",
           "title": {
            "standoff": 15
           },
           "zerolinecolor": "white",
           "zerolinewidth": 2
          }
         }
        },
        "width": 1300
       }
      }
     },
     "metadata": {},
     "output_type": "display_data"
    }
   ],
   "source": [
    "px.bar_polar(high_selling_price_df.head(25),r='selling_price',theta='selling_price',color='out_of_stock',width=1300)"
   ]
  },
  {
   "cell_type": "code",
   "execution_count": 38,
   "metadata": {},
   "outputs": [
    {
     "data": {
      "application/vnd.plotly.v1+json": {
       "config": {
        "plotlyServerURL": "https://plot.ly"
       },
       "data": [
        {
         "hovertemplate": "out_of_stock=False<br>selling_price=%{r}<br>title=%{theta}<extra></extra>",
         "legendgroup": "False",
         "line": {
          "color": "#636efa",
          "dash": "solid"
         },
         "marker": {
          "symbol": "circle"
         },
         "mode": "lines",
         "name": "False",
         "r": [
          "999",
          "999",
          "999",
          "999",
          "999",
          "999",
          "999",
          "999",
          "999",
          "999",
          "999",
          "999",
          "999",
          "999",
          "999",
          "999",
          "999",
          "999",
          "999",
          "999",
          "999",
          "999",
          "999",
          "999"
         ],
         "showlegend": true,
         "subplot": "polar",
         "theta": [
          "1307-8 Regular Fit Men Beige Cotton Blend Trousers",
          "Sporty Men Round Neck Red T-Shirt",
          "Full Sleeve Graphic Print Men Sweatshirt",
          "Sleeveless Colorblock Men Padded Jacket",
          "Sleeveless Solid Men Casual Jacket",
          "Full Sleeve Color Block Men Jacket",
          "Full Sleeve Solid Men Sweatshirt",
          "Sporty Men Round Neck Black T-Shirt",
          "Printed Men Round Neck Black T-Shirt",
          "Printed Men Round Neck White T-Shirt",
          "Embroidered Men Round Neck Black T-Shirt",
          "Printed Men Round Neck Green T-Shirt",
          "Solid Men Round Neck White T-Shirt",
          "ATTIITUDE Men Vest",
          "Solid Men Round Neck Green T-Shirt",
          "Full Sleeve Colorblock Men Bomber Jacket",
          "Sleeveless Color Block Men Jacket",
          "Full Sleeve Solid Men Casual Jacket",
          "Sleeveless Color Block Men Casual Jacket",
          "Full Sleeve Color Block Men Bomber Jacket",
          "Full Sleeve Colorblock Men Padded Jacket",
          "Solid Men Grey Basic Shorts",
          "Slim Men Black Jeans",
          "Slim Men Blue Jeans"
         ],
         "type": "scatterpolar"
        },
        {
         "hovertemplate": "out_of_stock=True<br>selling_price=%{r}<br>title=%{theta}<extra></extra>",
         "legendgroup": "True",
         "line": {
          "color": "#EF553B",
          "dash": "solid"
         },
         "marker": {
          "symbol": "circle"
         },
         "mode": "lines",
         "name": "True",
         "r": [
          "999"
         ],
         "showlegend": true,
         "subplot": "polar",
         "theta": [
          "Solid Men Three Fourths"
         ],
         "type": "scatterpolar"
        }
       ],
       "layout": {
        "legend": {
         "title": {
          "text": "out_of_stock"
         },
         "tracegroupgap": 0
        },
        "margin": {
         "t": 60
        },
        "polar": {
         "angularaxis": {
          "direction": "clockwise",
          "rotation": 90
         },
         "domain": {
          "x": [
           0,
           1
          ],
          "y": [
           0,
           1
          ]
         }
        },
        "template": {
         "data": {
          "bar": [
           {
            "error_x": {
             "color": "#2a3f5f"
            },
            "error_y": {
             "color": "#2a3f5f"
            },
            "marker": {
             "line": {
              "color": "#E5ECF6",
              "width": 0.5
             },
             "pattern": {
              "fillmode": "overlay",
              "size": 10,
              "solidity": 0.2
             }
            },
            "type": "bar"
           }
          ],
          "barpolar": [
           {
            "marker": {
             "line": {
              "color": "#E5ECF6",
              "width": 0.5
             },
             "pattern": {
              "fillmode": "overlay",
              "size": 10,
              "solidity": 0.2
             }
            },
            "type": "barpolar"
           }
          ],
          "carpet": [
           {
            "aaxis": {
             "endlinecolor": "#2a3f5f",
             "gridcolor": "white",
             "linecolor": "white",
             "minorgridcolor": "white",
             "startlinecolor": "#2a3f5f"
            },
            "baxis": {
             "endlinecolor": "#2a3f5f",
             "gridcolor": "white",
             "linecolor": "white",
             "minorgridcolor": "white",
             "startlinecolor": "#2a3f5f"
            },
            "type": "carpet"
           }
          ],
          "choropleth": [
           {
            "colorbar": {
             "outlinewidth": 0,
             "ticks": ""
            },
            "type": "choropleth"
           }
          ],
          "contour": [
           {
            "colorbar": {
             "outlinewidth": 0,
             "ticks": ""
            },
            "colorscale": [
             [
              0,
              "#0d0887"
             ],
             [
              0.1111111111111111,
              "#46039f"
             ],
             [
              0.2222222222222222,
              "#7201a8"
             ],
             [
              0.3333333333333333,
              "#9c179e"
             ],
             [
              0.4444444444444444,
              "#bd3786"
             ],
             [
              0.5555555555555556,
              "#d8576b"
             ],
             [
              0.6666666666666666,
              "#ed7953"
             ],
             [
              0.7777777777777778,
              "#fb9f3a"
             ],
             [
              0.8888888888888888,
              "#fdca26"
             ],
             [
              1,
              "#f0f921"
             ]
            ],
            "type": "contour"
           }
          ],
          "contourcarpet": [
           {
            "colorbar": {
             "outlinewidth": 0,
             "ticks": ""
            },
            "type": "contourcarpet"
           }
          ],
          "heatmap": [
           {
            "colorbar": {
             "outlinewidth": 0,
             "ticks": ""
            },
            "colorscale": [
             [
              0,
              "#0d0887"
             ],
             [
              0.1111111111111111,
              "#46039f"
             ],
             [
              0.2222222222222222,
              "#7201a8"
             ],
             [
              0.3333333333333333,
              "#9c179e"
             ],
             [
              0.4444444444444444,
              "#bd3786"
             ],
             [
              0.5555555555555556,
              "#d8576b"
             ],
             [
              0.6666666666666666,
              "#ed7953"
             ],
             [
              0.7777777777777778,
              "#fb9f3a"
             ],
             [
              0.8888888888888888,
              "#fdca26"
             ],
             [
              1,
              "#f0f921"
             ]
            ],
            "type": "heatmap"
           }
          ],
          "heatmapgl": [
           {
            "colorbar": {
             "outlinewidth": 0,
             "ticks": ""
            },
            "colorscale": [
             [
              0,
              "#0d0887"
             ],
             [
              0.1111111111111111,
              "#46039f"
             ],
             [
              0.2222222222222222,
              "#7201a8"
             ],
             [
              0.3333333333333333,
              "#9c179e"
             ],
             [
              0.4444444444444444,
              "#bd3786"
             ],
             [
              0.5555555555555556,
              "#d8576b"
             ],
             [
              0.6666666666666666,
              "#ed7953"
             ],
             [
              0.7777777777777778,
              "#fb9f3a"
             ],
             [
              0.8888888888888888,
              "#fdca26"
             ],
             [
              1,
              "#f0f921"
             ]
            ],
            "type": "heatmapgl"
           }
          ],
          "histogram": [
           {
            "marker": {
             "pattern": {
              "fillmode": "overlay",
              "size": 10,
              "solidity": 0.2
             }
            },
            "type": "histogram"
           }
          ],
          "histogram2d": [
           {
            "colorbar": {
             "outlinewidth": 0,
             "ticks": ""
            },
            "colorscale": [
             [
              0,
              "#0d0887"
             ],
             [
              0.1111111111111111,
              "#46039f"
             ],
             [
              0.2222222222222222,
              "#7201a8"
             ],
             [
              0.3333333333333333,
              "#9c179e"
             ],
             [
              0.4444444444444444,
              "#bd3786"
             ],
             [
              0.5555555555555556,
              "#d8576b"
             ],
             [
              0.6666666666666666,
              "#ed7953"
             ],
             [
              0.7777777777777778,
              "#fb9f3a"
             ],
             [
              0.8888888888888888,
              "#fdca26"
             ],
             [
              1,
              "#f0f921"
             ]
            ],
            "type": "histogram2d"
           }
          ],
          "histogram2dcontour": [
           {
            "colorbar": {
             "outlinewidth": 0,
             "ticks": ""
            },
            "colorscale": [
             [
              0,
              "#0d0887"
             ],
             [
              0.1111111111111111,
              "#46039f"
             ],
             [
              0.2222222222222222,
              "#7201a8"
             ],
             [
              0.3333333333333333,
              "#9c179e"
             ],
             [
              0.4444444444444444,
              "#bd3786"
             ],
             [
              0.5555555555555556,
              "#d8576b"
             ],
             [
              0.6666666666666666,
              "#ed7953"
             ],
             [
              0.7777777777777778,
              "#fb9f3a"
             ],
             [
              0.8888888888888888,
              "#fdca26"
             ],
             [
              1,
              "#f0f921"
             ]
            ],
            "type": "histogram2dcontour"
           }
          ],
          "mesh3d": [
           {
            "colorbar": {
             "outlinewidth": 0,
             "ticks": ""
            },
            "type": "mesh3d"
           }
          ],
          "parcoords": [
           {
            "line": {
             "colorbar": {
              "outlinewidth": 0,
              "ticks": ""
             }
            },
            "type": "parcoords"
           }
          ],
          "pie": [
           {
            "automargin": true,
            "type": "pie"
           }
          ],
          "scatter": [
           {
            "fillpattern": {
             "fillmode": "overlay",
             "size": 10,
             "solidity": 0.2
            },
            "type": "scatter"
           }
          ],
          "scatter3d": [
           {
            "line": {
             "colorbar": {
              "outlinewidth": 0,
              "ticks": ""
             }
            },
            "marker": {
             "colorbar": {
              "outlinewidth": 0,
              "ticks": ""
             }
            },
            "type": "scatter3d"
           }
          ],
          "scattercarpet": [
           {
            "marker": {
             "colorbar": {
              "outlinewidth": 0,
              "ticks": ""
             }
            },
            "type": "scattercarpet"
           }
          ],
          "scattergeo": [
           {
            "marker": {
             "colorbar": {
              "outlinewidth": 0,
              "ticks": ""
             }
            },
            "type": "scattergeo"
           }
          ],
          "scattergl": [
           {
            "marker": {
             "colorbar": {
              "outlinewidth": 0,
              "ticks": ""
             }
            },
            "type": "scattergl"
           }
          ],
          "scattermapbox": [
           {
            "marker": {
             "colorbar": {
              "outlinewidth": 0,
              "ticks": ""
             }
            },
            "type": "scattermapbox"
           }
          ],
          "scatterpolar": [
           {
            "marker": {
             "colorbar": {
              "outlinewidth": 0,
              "ticks": ""
             }
            },
            "type": "scatterpolar"
           }
          ],
          "scatterpolargl": [
           {
            "marker": {
             "colorbar": {
              "outlinewidth": 0,
              "ticks": ""
             }
            },
            "type": "scatterpolargl"
           }
          ],
          "scatterternary": [
           {
            "marker": {
             "colorbar": {
              "outlinewidth": 0,
              "ticks": ""
             }
            },
            "type": "scatterternary"
           }
          ],
          "surface": [
           {
            "colorbar": {
             "outlinewidth": 0,
             "ticks": ""
            },
            "colorscale": [
             [
              0,
              "#0d0887"
             ],
             [
              0.1111111111111111,
              "#46039f"
             ],
             [
              0.2222222222222222,
              "#7201a8"
             ],
             [
              0.3333333333333333,
              "#9c179e"
             ],
             [
              0.4444444444444444,
              "#bd3786"
             ],
             [
              0.5555555555555556,
              "#d8576b"
             ],
             [
              0.6666666666666666,
              "#ed7953"
             ],
             [
              0.7777777777777778,
              "#fb9f3a"
             ],
             [
              0.8888888888888888,
              "#fdca26"
             ],
             [
              1,
              "#f0f921"
             ]
            ],
            "type": "surface"
           }
          ],
          "table": [
           {
            "cells": {
             "fill": {
              "color": "#EBF0F8"
             },
             "line": {
              "color": "white"
             }
            },
            "header": {
             "fill": {
              "color": "#C8D4E3"
             },
             "line": {
              "color": "white"
             }
            },
            "type": "table"
           }
          ]
         },
         "layout": {
          "annotationdefaults": {
           "arrowcolor": "#2a3f5f",
           "arrowhead": 0,
           "arrowwidth": 1
          },
          "autotypenumbers": "strict",
          "coloraxis": {
           "colorbar": {
            "outlinewidth": 0,
            "ticks": ""
           }
          },
          "colorscale": {
           "diverging": [
            [
             0,
             "#8e0152"
            ],
            [
             0.1,
             "#c51b7d"
            ],
            [
             0.2,
             "#de77ae"
            ],
            [
             0.3,
             "#f1b6da"
            ],
            [
             0.4,
             "#fde0ef"
            ],
            [
             0.5,
             "#f7f7f7"
            ],
            [
             0.6,
             "#e6f5d0"
            ],
            [
             0.7,
             "#b8e186"
            ],
            [
             0.8,
             "#7fbc41"
            ],
            [
             0.9,
             "#4d9221"
            ],
            [
             1,
             "#276419"
            ]
           ],
           "sequential": [
            [
             0,
             "#0d0887"
            ],
            [
             0.1111111111111111,
             "#46039f"
            ],
            [
             0.2222222222222222,
             "#7201a8"
            ],
            [
             0.3333333333333333,
             "#9c179e"
            ],
            [
             0.4444444444444444,
             "#bd3786"
            ],
            [
             0.5555555555555556,
             "#d8576b"
            ],
            [
             0.6666666666666666,
             "#ed7953"
            ],
            [
             0.7777777777777778,
             "#fb9f3a"
            ],
            [
             0.8888888888888888,
             "#fdca26"
            ],
            [
             1,
             "#f0f921"
            ]
           ],
           "sequentialminus": [
            [
             0,
             "#0d0887"
            ],
            [
             0.1111111111111111,
             "#46039f"
            ],
            [
             0.2222222222222222,
             "#7201a8"
            ],
            [
             0.3333333333333333,
             "#9c179e"
            ],
            [
             0.4444444444444444,
             "#bd3786"
            ],
            [
             0.5555555555555556,
             "#d8576b"
            ],
            [
             0.6666666666666666,
             "#ed7953"
            ],
            [
             0.7777777777777778,
             "#fb9f3a"
            ],
            [
             0.8888888888888888,
             "#fdca26"
            ],
            [
             1,
             "#f0f921"
            ]
           ]
          },
          "colorway": [
           "#636efa",
           "#EF553B",
           "#00cc96",
           "#ab63fa",
           "#FFA15A",
           "#19d3f3",
           "#FF6692",
           "#B6E880",
           "#FF97FF",
           "#FECB52"
          ],
          "font": {
           "color": "#2a3f5f"
          },
          "geo": {
           "bgcolor": "white",
           "lakecolor": "white",
           "landcolor": "#E5ECF6",
           "showlakes": true,
           "showland": true,
           "subunitcolor": "white"
          },
          "hoverlabel": {
           "align": "left"
          },
          "hovermode": "closest",
          "mapbox": {
           "style": "light"
          },
          "paper_bgcolor": "white",
          "plot_bgcolor": "#E5ECF6",
          "polar": {
           "angularaxis": {
            "gridcolor": "white",
            "linecolor": "white",
            "ticks": ""
           },
           "bgcolor": "#E5ECF6",
           "radialaxis": {
            "gridcolor": "white",
            "linecolor": "white",
            "ticks": ""
           }
          },
          "scene": {
           "xaxis": {
            "backgroundcolor": "#E5ECF6",
            "gridcolor": "white",
            "gridwidth": 2,
            "linecolor": "white",
            "showbackground": true,
            "ticks": "",
            "zerolinecolor": "white"
           },
           "yaxis": {
            "backgroundcolor": "#E5ECF6",
            "gridcolor": "white",
            "gridwidth": 2,
            "linecolor": "white",
            "showbackground": true,
            "ticks": "",
            "zerolinecolor": "white"
           },
           "zaxis": {
            "backgroundcolor": "#E5ECF6",
            "gridcolor": "white",
            "gridwidth": 2,
            "linecolor": "white",
            "showbackground": true,
            "ticks": "",
            "zerolinecolor": "white"
           }
          },
          "shapedefaults": {
           "line": {
            "color": "#2a3f5f"
           }
          },
          "ternary": {
           "aaxis": {
            "gridcolor": "white",
            "linecolor": "white",
            "ticks": ""
           },
           "baxis": {
            "gridcolor": "white",
            "linecolor": "white",
            "ticks": ""
           },
           "bgcolor": "#E5ECF6",
           "caxis": {
            "gridcolor": "white",
            "linecolor": "white",
            "ticks": ""
           }
          },
          "title": {
           "x": 0.05
          },
          "xaxis": {
           "automargin": true,
           "gridcolor": "white",
           "linecolor": "white",
           "ticks": "",
           "title": {
            "standoff": 15
           },
           "zerolinecolor": "white",
           "zerolinewidth": 2
          },
          "yaxis": {
           "automargin": true,
           "gridcolor": "white",
           "linecolor": "white",
           "ticks": "",
           "title": {
            "standoff": 15
           },
           "zerolinecolor": "white",
           "zerolinewidth": 2
          }
         }
        },
        "width": 1500
       }
      }
     },
     "metadata": {},
     "output_type": "display_data"
    }
   ],
   "source": [
    "px.line_polar(high_selling_price_df.head(25),r='selling_price',\n",
    "                theta='title',color='out_of_stock',width=1500)"
   ]
  },
  {
   "cell_type": "code",
   "execution_count": 40,
   "metadata": {},
   "outputs": [
    {
     "ename": "ValueError",
     "evalue": "Could not convert value of 'y' into a numeric type.",
     "output_type": "error",
     "traceback": [
      "\u001b[1;31m---------------------------------------------------------------------------\u001b[0m",
      "\u001b[1;31mValueError\u001b[0m                                Traceback (most recent call last)",
      "File \u001b[1;32mc:\\Users\\user\\miniconda3\\lib\\site-packages\\plotly\\express\\_core.py:344\u001b[0m, in \u001b[0;36mmake_trace_kwargs\u001b[1;34m(args, trace_spec, trace_data, mapping_labels, sizeref)\u001b[0m\n\u001b[0;32m    343\u001b[0m \u001b[39mtry\u001b[39;00m:\n\u001b[1;32m--> 344\u001b[0m     y \u001b[39m=\u001b[39m y\u001b[39m.\u001b[39;49mastype(np\u001b[39m.\u001b[39;49mfloat64)\n\u001b[0;32m    345\u001b[0m \u001b[39mexcept\u001b[39;00m \u001b[39mValueError\u001b[39;00m:\n",
      "\u001b[1;31mValueError\u001b[0m: could not convert string to float: '1,125'",
      "\nDuring handling of the above exception, another exception occurred:\n",
      "\u001b[1;31mValueError\u001b[0m                                Traceback (most recent call last)",
      "Cell \u001b[1;32mIn[40], line 1\u001b[0m\n\u001b[1;32m----> 1\u001b[0m fig\u001b[39m=\u001b[39mpx\u001b[39m.\u001b[39;49mscatter(high_selling_price_df,y\u001b[39m=\u001b[39;49m\u001b[39m'\u001b[39;49m\u001b[39mselling_price\u001b[39;49m\u001b[39m'\u001b[39;49m,\n\u001b[0;32m      2\u001b[0m                x\u001b[39m=\u001b[39;49m\u001b[39m'\u001b[39;49m\u001b[39mactual_price\u001b[39;49m\u001b[39m'\u001b[39;49m,hover_name\u001b[39m=\u001b[39;49m\u001b[39m'\u001b[39;49m\u001b[39mtitle\u001b[39;49m\u001b[39m'\u001b[39;49m,trendline\u001b[39m=\u001b[39;49m\u001b[39m'\u001b[39;49m\u001b[39mols\u001b[39;49m\u001b[39m'\u001b[39;49m)\n\u001b[0;32m      3\u001b[0m fig\u001b[39m.\u001b[39mupdate_traces(marker\u001b[39m=\u001b[39m\u001b[39mdict\u001b[39m(size\u001b[39m=\u001b[39m\u001b[39m10\u001b[39m,color\u001b[39m=\u001b[39m\u001b[39m'\u001b[39m\u001b[39mred\u001b[39m\u001b[39m'\u001b[39m),\n\u001b[0;32m      4\u001b[0m                   selector\u001b[39m=\u001b[39m\u001b[39mdict\u001b[39m(mode\u001b[39m=\u001b[39m\u001b[39m'\u001b[39m\u001b[39mmarkers\u001b[39m\u001b[39m'\u001b[39m))\n",
      "File \u001b[1;32mc:\\Users\\user\\miniconda3\\lib\\site-packages\\plotly\\express\\_chart_types.py:66\u001b[0m, in \u001b[0;36mscatter\u001b[1;34m(data_frame, x, y, color, symbol, size, hover_name, hover_data, custom_data, text, facet_row, facet_col, facet_col_wrap, facet_row_spacing, facet_col_spacing, error_x, error_x_minus, error_y, error_y_minus, animation_frame, animation_group, category_orders, labels, orientation, color_discrete_sequence, color_discrete_map, color_continuous_scale, range_color, color_continuous_midpoint, symbol_sequence, symbol_map, opacity, size_max, marginal_x, marginal_y, trendline, trendline_options, trendline_color_override, trendline_scope, log_x, log_y, range_x, range_y, render_mode, title, template, width, height)\u001b[0m\n\u001b[0;32m     12\u001b[0m \u001b[39mdef\u001b[39;00m \u001b[39mscatter\u001b[39m(\n\u001b[0;32m     13\u001b[0m     data_frame\u001b[39m=\u001b[39m\u001b[39mNone\u001b[39;00m,\n\u001b[0;32m     14\u001b[0m     x\u001b[39m=\u001b[39m\u001b[39mNone\u001b[39;00m,\n\u001b[1;32m   (...)\u001b[0m\n\u001b[0;32m     60\u001b[0m     height\u001b[39m=\u001b[39m\u001b[39mNone\u001b[39;00m,\n\u001b[0;32m     61\u001b[0m ) \u001b[39m-\u001b[39m\u001b[39m>\u001b[39m go\u001b[39m.\u001b[39mFigure:\n\u001b[0;32m     62\u001b[0m \u001b[39m    \u001b[39m\u001b[39m\"\"\"\u001b[39;00m\n\u001b[0;32m     63\u001b[0m \u001b[39m    In a scatter plot, each row of `data_frame` is represented by a symbol\u001b[39;00m\n\u001b[0;32m     64\u001b[0m \u001b[39m    mark in 2D space.\u001b[39;00m\n\u001b[0;32m     65\u001b[0m \u001b[39m    \"\"\"\u001b[39;00m\n\u001b[1;32m---> 66\u001b[0m     \u001b[39mreturn\u001b[39;00m make_figure(args\u001b[39m=\u001b[39;49m\u001b[39mlocals\u001b[39;49m(), constructor\u001b[39m=\u001b[39;49mgo\u001b[39m.\u001b[39;49mScatter)\n",
      "File \u001b[1;32mc:\\Users\\user\\miniconda3\\lib\\site-packages\\plotly\\express\\_core.py:2180\u001b[0m, in \u001b[0;36mmake_figure\u001b[1;34m(args, constructor, trace_patch, layout_patch)\u001b[0m\n\u001b[0;32m   2177\u001b[0m     \u001b[39melif\u001b[39;00m args[\u001b[39m\"\u001b[39m\u001b[39mecdfnorm\u001b[39m\u001b[39m\"\u001b[39m] \u001b[39m==\u001b[39m \u001b[39m\"\u001b[39m\u001b[39mpercent\u001b[39m\u001b[39m\"\u001b[39m:\n\u001b[0;32m   2178\u001b[0m         group[var] \u001b[39m=\u001b[39m \u001b[39m100.0\u001b[39m \u001b[39m*\u001b[39m group[var] \u001b[39m/\u001b[39m group_sum\n\u001b[1;32m-> 2180\u001b[0m patch, fit_results \u001b[39m=\u001b[39m make_trace_kwargs(\n\u001b[0;32m   2181\u001b[0m     args, trace_spec, group, mapping_labels\u001b[39m.\u001b[39;49mcopy(), sizeref\n\u001b[0;32m   2182\u001b[0m )\n\u001b[0;32m   2183\u001b[0m trace\u001b[39m.\u001b[39mupdate(patch)\n\u001b[0;32m   2184\u001b[0m \u001b[39mif\u001b[39;00m fit_results \u001b[39mis\u001b[39;00m \u001b[39mnot\u001b[39;00m \u001b[39mNone\u001b[39;00m:\n",
      "File \u001b[1;32mc:\\Users\\user\\miniconda3\\lib\\site-packages\\plotly\\express\\_core.py:346\u001b[0m, in \u001b[0;36mmake_trace_kwargs\u001b[1;34m(args, trace_spec, trace_data, mapping_labels, sizeref)\u001b[0m\n\u001b[0;32m    344\u001b[0m         y \u001b[39m=\u001b[39m y\u001b[39m.\u001b[39mastype(np\u001b[39m.\u001b[39mfloat64)\n\u001b[0;32m    345\u001b[0m     \u001b[39mexcept\u001b[39;00m \u001b[39mValueError\u001b[39;00m:\n\u001b[1;32m--> 346\u001b[0m         \u001b[39mraise\u001b[39;00m \u001b[39mValueError\u001b[39;00m(\n\u001b[0;32m    347\u001b[0m             \u001b[39m\"\u001b[39m\u001b[39mCould not convert value of \u001b[39m\u001b[39m'\u001b[39m\u001b[39my\u001b[39m\u001b[39m'\u001b[39m\u001b[39m into a numeric type.\u001b[39m\u001b[39m\"\u001b[39m\n\u001b[0;32m    348\u001b[0m         )\n\u001b[0;32m    350\u001b[0m \u001b[39m# preserve original values of \"x\" in case they're dates\u001b[39;00m\n\u001b[0;32m    351\u001b[0m \u001b[39m# otherwise numpy/pandas can mess with the timezones\u001b[39;00m\n\u001b[0;32m    352\u001b[0m \u001b[39m# NB this means trendline functions must output one-to-one with the input series\u001b[39;00m\n\u001b[0;32m    353\u001b[0m \u001b[39m# i.e. we can't do resampling, because then the X values might not line up!\u001b[39;00m\n\u001b[0;32m    354\u001b[0m non_missing \u001b[39m=\u001b[39m np\u001b[39m.\u001b[39mlogical_not(\n\u001b[0;32m    355\u001b[0m     np\u001b[39m.\u001b[39mlogical_or(np\u001b[39m.\u001b[39misnan(y), np\u001b[39m.\u001b[39misnan(x))\n\u001b[0;32m    356\u001b[0m )\n",
      "\u001b[1;31mValueError\u001b[0m: Could not convert value of 'y' into a numeric type."
     ]
    }
   ],
   "source": [
    "fig=px.scatter(high_selling_price_df,y='selling_price',\n",
    "               x='actual_price',hover_name='title',trendline='ols')\n",
    "fig.update_traces(marker=dict(size=10,color='red'),\n",
    "                  selector=dict(mode='markers'))"
   ]
  },
  {
   "cell_type": "code",
   "execution_count": 41,
   "metadata": {},
   "outputs": [
    {
     "data": {
      "text/html": [
       "<div>\n",
       "<style scoped>\n",
       "    .dataframe tbody tr th:only-of-type {\n",
       "        vertical-align: middle;\n",
       "    }\n",
       "\n",
       "    .dataframe tbody tr th {\n",
       "        vertical-align: top;\n",
       "    }\n",
       "\n",
       "    .dataframe thead th {\n",
       "        text-align: right;\n",
       "    }\n",
       "</style>\n",
       "<table border=\"1\" class=\"dataframe\">\n",
       "  <thead>\n",
       "    <tr style=\"text-align: right;\">\n",
       "      <th></th>\n",
       "      <th>_id</th>\n",
       "      <th>actual_price</th>\n",
       "      <th>average_rating</th>\n",
       "      <th>brand</th>\n",
       "      <th>category</th>\n",
       "      <th>crawled_at</th>\n",
       "      <th>description</th>\n",
       "      <th>discount</th>\n",
       "      <th>images</th>\n",
       "      <th>out_of_stock</th>\n",
       "      <th>pid</th>\n",
       "      <th>product_details</th>\n",
       "      <th>seller</th>\n",
       "      <th>selling_price</th>\n",
       "      <th>sub_category</th>\n",
       "      <th>title</th>\n",
       "      <th>url</th>\n",
       "    </tr>\n",
       "  </thead>\n",
       "  <tbody>\n",
       "    <tr>\n",
       "      <th>0</th>\n",
       "      <td>fa8e22d6-c0b6-5229-bb9e-ad52eda39a0a</td>\n",
       "      <td>2999.0</td>\n",
       "      <td>3.9</td>\n",
       "      <td>York</td>\n",
       "      <td>Clothing and Accessories</td>\n",
       "      <td>2021-02-10 20:11:51</td>\n",
       "      <td>Yorker trackpants made from 100% rich combed c...</td>\n",
       "      <td>69.0</td>\n",
       "      <td>[https://rukminim1.flixcart.com/image/128/128/...</td>\n",
       "      <td>False</td>\n",
       "      <td>TKPFCZ9EA7H5FYZH</td>\n",
       "      <td>[{'Style Code': '1005COMBO2'}, {'Closure': 'El...</td>\n",
       "      <td>Shyam Enterprises</td>\n",
       "      <td>921</td>\n",
       "      <td>Bottomwear</td>\n",
       "      <td>Solid Men Multicolor Track Pants</td>\n",
       "      <td>https://www.flipkart.com/yorker-solid-men-mult...</td>\n",
       "    </tr>\n",
       "    <tr>\n",
       "      <th>1</th>\n",
       "      <td>893e6980-f2a0-531f-b056-34dd63fe912c</td>\n",
       "      <td>1499.0</td>\n",
       "      <td>3.9</td>\n",
       "      <td>York</td>\n",
       "      <td>Clothing and Accessories</td>\n",
       "      <td>2021-02-10 20:11:52</td>\n",
       "      <td>Yorker trackpants made from 100% rich combed c...</td>\n",
       "      <td>66.0</td>\n",
       "      <td>[https://rukminim1.flixcart.com/image/128/128/...</td>\n",
       "      <td>False</td>\n",
       "      <td>TKPFCZ9EJZV2UVRZ</td>\n",
       "      <td>[{'Style Code': '1005BLUE'}, {'Closure': 'Draw...</td>\n",
       "      <td>Shyam Enterprises</td>\n",
       "      <td>499</td>\n",
       "      <td>Bottomwear</td>\n",
       "      <td>Solid Men Blue Track Pants</td>\n",
       "      <td>https://www.flipkart.com/yorker-solid-men-blue...</td>\n",
       "    </tr>\n",
       "    <tr>\n",
       "      <th>2</th>\n",
       "      <td>eb4c8eab-8206-59d0-bcd1-a724d96bf74f</td>\n",
       "      <td>2999.0</td>\n",
       "      <td>3.9</td>\n",
       "      <td>York</td>\n",
       "      <td>Clothing and Accessories</td>\n",
       "      <td>2021-02-10 20:11:52</td>\n",
       "      <td>Yorker trackpants made from 100% rich combed c...</td>\n",
       "      <td>68.0</td>\n",
       "      <td>[https://rukminim1.flixcart.com/image/128/128/...</td>\n",
       "      <td>False</td>\n",
       "      <td>TKPFCZ9EHFCY5Z4Y</td>\n",
       "      <td>[{'Style Code': '1005COMBO4'}, {'Closure': 'El...</td>\n",
       "      <td>Shyam Enterprises</td>\n",
       "      <td>931</td>\n",
       "      <td>Bottomwear</td>\n",
       "      <td>Solid Men Multicolor Track Pants</td>\n",
       "      <td>https://www.flipkart.com/yorker-solid-men-mult...</td>\n",
       "    </tr>\n",
       "    <tr>\n",
       "      <th>3</th>\n",
       "      <td>3f3f97bb-5faf-57df-a9ff-1af24e2b1045</td>\n",
       "      <td>2999.0</td>\n",
       "      <td>3.9</td>\n",
       "      <td>York</td>\n",
       "      <td>Clothing and Accessories</td>\n",
       "      <td>2021-02-10 20:11:53</td>\n",
       "      <td>Yorker trackpants made from 100% rich combed c...</td>\n",
       "      <td>69.0</td>\n",
       "      <td>[https://rukminim1.flixcart.com/image/128/128/...</td>\n",
       "      <td>False</td>\n",
       "      <td>TKPFCZ9ESZZ7YWEF</td>\n",
       "      <td>[{'Style Code': '1005COMBO3'}, {'Closure': 'El...</td>\n",
       "      <td>Shyam Enterprises</td>\n",
       "      <td>911</td>\n",
       "      <td>Bottomwear</td>\n",
       "      <td>Solid Men Multicolor Track Pants</td>\n",
       "      <td>https://www.flipkart.com/yorker-solid-men-mult...</td>\n",
       "    </tr>\n",
       "    <tr>\n",
       "      <th>4</th>\n",
       "      <td>750caa3d-6264-53ca-8ce1-94118a1d8951</td>\n",
       "      <td>2999.0</td>\n",
       "      <td>3.9</td>\n",
       "      <td>York</td>\n",
       "      <td>Clothing and Accessories</td>\n",
       "      <td>2021-02-10 20:11:53</td>\n",
       "      <td>Yorker trackpants made from 100% rich combed c...</td>\n",
       "      <td>68.0</td>\n",
       "      <td>[https://rukminim1.flixcart.com/image/128/128/...</td>\n",
       "      <td>False</td>\n",
       "      <td>TKPFCZ9EVXKBSUD7</td>\n",
       "      <td>[{'Style Code': '1005COMBO1'}, {'Closure': 'Dr...</td>\n",
       "      <td>Shyam Enterprises</td>\n",
       "      <td>943</td>\n",
       "      <td>Bottomwear</td>\n",
       "      <td>Solid Men Brown, Grey Track Pants</td>\n",
       "      <td>https://www.flipkart.com/yorker-solid-men-brow...</td>\n",
       "    </tr>\n",
       "    <tr>\n",
       "      <th>...</th>\n",
       "      <td>...</td>\n",
       "      <td>...</td>\n",
       "      <td>...</td>\n",
       "      <td>...</td>\n",
       "      <td>...</td>\n",
       "      <td>...</td>\n",
       "      <td>...</td>\n",
       "      <td>...</td>\n",
       "      <td>...</td>\n",
       "      <td>...</td>\n",
       "      <td>...</td>\n",
       "      <td>...</td>\n",
       "      <td>...</td>\n",
       "      <td>...</td>\n",
       "      <td>...</td>\n",
       "      <td>...</td>\n",
       "      <td>...</td>\n",
       "    </tr>\n",
       "    <tr>\n",
       "      <th>29995</th>\n",
       "      <td>3705c6bd-6f23-529a-9b64-15b8fc568efa</td>\n",
       "      <td>2299.0</td>\n",
       "      <td>NaN</td>\n",
       "      <td>Oka</td>\n",
       "      <td>Clothing and Accessories</td>\n",
       "      <td>2021-02-11 01:31:54</td>\n",
       "      <td></td>\n",
       "      <td>40.0</td>\n",
       "      <td>[https://rukminim1.flixcart.com/image/128/128/...</td>\n",
       "      <td>True</td>\n",
       "      <td>JCKFYPM35WMMTAEN</td>\n",
       "      <td>[{'Color': 'Blue'}, {'Fabric': 'Nylon'}, {'Pat...</td>\n",
       "      <td></td>\n",
       "      <td>1,379</td>\n",
       "      <td>Winter Wear</td>\n",
       "      <td>Sleeveless Solid Men Jacket</td>\n",
       "      <td>https://www.flipkart.com/okane-sleeveless-soli...</td>\n",
       "    </tr>\n",
       "    <tr>\n",
       "      <th>29996</th>\n",
       "      <td>f2a683e4-634d-5a11-8950-2d56b924576d</td>\n",
       "      <td>799.0</td>\n",
       "      <td>3.8</td>\n",
       "      <td>Oka</td>\n",
       "      <td>Clothing and Accessories</td>\n",
       "      <td>2021-02-11 01:31:54</td>\n",
       "      <td></td>\n",
       "      <td>34.0</td>\n",
       "      <td>[https://rukminim1.flixcart.com/image/128/128/...</td>\n",
       "      <td>False</td>\n",
       "      <td>SRTFV8S7DCEWAQVH</td>\n",
       "      <td>[{'Fabric': 'Polycotton'}, {'Pattern': 'Printe...</td>\n",
       "      <td>OKANE</td>\n",
       "      <td>520</td>\n",
       "      <td>Bottomwear</td>\n",
       "      <td>Printed Men Blue Regular Shorts</td>\n",
       "      <td>https://www.flipkart.com/okane-printed-men-blu...</td>\n",
       "    </tr>\n",
       "    <tr>\n",
       "      <th>29997</th>\n",
       "      <td>1efa858c-1360-59a6-9624-bb04eddb492c</td>\n",
       "      <td>4999.0</td>\n",
       "      <td>NaN</td>\n",
       "      <td>Oka</td>\n",
       "      <td>Clothing and Accessories</td>\n",
       "      <td>2021-02-11 01:31:54</td>\n",
       "      <td></td>\n",
       "      <td>40.0</td>\n",
       "      <td>[https://rukminim1.flixcart.com/image/128/128/...</td>\n",
       "      <td>True</td>\n",
       "      <td>BZRFNAH7NWUB6F5E</td>\n",
       "      <td>[{'Color': 'Grey'}, {'Fabric': 'Tweed'}, {'Pat...</td>\n",
       "      <td></td>\n",
       "      <td>2,999</td>\n",
       "      <td>Blazers, Waistcoats and Suits</td>\n",
       "      <td>Checkered Single Breasted Casual Men Full Slee...</td>\n",
       "      <td>https://www.flipkart.com/okane-checkered-singl...</td>\n",
       "    </tr>\n",
       "    <tr>\n",
       "      <th>29998</th>\n",
       "      <td>9fdfdd22-487b-599b-8be6-5dd00eb987c5</td>\n",
       "      <td>3125.0</td>\n",
       "      <td>3.8</td>\n",
       "      <td>Oka</td>\n",
       "      <td>Clothing and Accessories</td>\n",
       "      <td>2021-02-11 01:31:55</td>\n",
       "      <td></td>\n",
       "      <td>40.0</td>\n",
       "      <td>[https://rukminim1.flixcart.com/image/128/128/...</td>\n",
       "      <td>False</td>\n",
       "      <td>JCKFWZZM6V7RS5EA</td>\n",
       "      <td>[{'Color': 'Blue'}, {'Fabric': 'Nylon'}, {'Pat...</td>\n",
       "      <td>OKANE</td>\n",
       "      <td>1,875</td>\n",
       "      <td>Winter Wear</td>\n",
       "      <td>Full Sleeve Solid Men Casual Jacket</td>\n",
       "      <td>https://www.flipkart.com/okane-full-sleeve-sol...</td>\n",
       "    </tr>\n",
       "    <tr>\n",
       "      <th>29999</th>\n",
       "      <td>a5396fab-753c-5cd7-bad9-050964f95a0f</td>\n",
       "      <td>3125.0</td>\n",
       "      <td>NaN</td>\n",
       "      <td>Oka</td>\n",
       "      <td>Clothing and Accessories</td>\n",
       "      <td>2021-02-11 01:31:55</td>\n",
       "      <td>‘OKANE’ endeavors to continue to be a leader i...</td>\n",
       "      <td>40.0</td>\n",
       "      <td>[https://rukminim1.flixcart.com/image/128/128/...</td>\n",
       "      <td>True</td>\n",
       "      <td>JCKFWTPCWNQSFAH3</td>\n",
       "      <td>[{'Color': 'Blue'}, {'Fabric': 'Nylon'}, {'Pat...</td>\n",
       "      <td></td>\n",
       "      <td>1,875</td>\n",
       "      <td>Winter Wear</td>\n",
       "      <td>Full Sleeve Solid Men Casual Jacket</td>\n",
       "      <td>https://www.flipkart.com/okane-full-sleeve-sol...</td>\n",
       "    </tr>\n",
       "  </tbody>\n",
       "</table>\n",
       "<p>30000 rows × 17 columns</p>\n",
       "</div>"
      ],
      "text/plain": [
       "                                        _id  actual_price  average_rating  \\\n",
       "0      fa8e22d6-c0b6-5229-bb9e-ad52eda39a0a        2999.0             3.9   \n",
       "1      893e6980-f2a0-531f-b056-34dd63fe912c        1499.0             3.9   \n",
       "2      eb4c8eab-8206-59d0-bcd1-a724d96bf74f        2999.0             3.9   \n",
       "3      3f3f97bb-5faf-57df-a9ff-1af24e2b1045        2999.0             3.9   \n",
       "4      750caa3d-6264-53ca-8ce1-94118a1d8951        2999.0             3.9   \n",
       "...                                     ...           ...             ...   \n",
       "29995  3705c6bd-6f23-529a-9b64-15b8fc568efa        2299.0             NaN   \n",
       "29996  f2a683e4-634d-5a11-8950-2d56b924576d         799.0             3.8   \n",
       "29997  1efa858c-1360-59a6-9624-bb04eddb492c        4999.0             NaN   \n",
       "29998  9fdfdd22-487b-599b-8be6-5dd00eb987c5        3125.0             3.8   \n",
       "29999  a5396fab-753c-5cd7-bad9-050964f95a0f        3125.0             NaN   \n",
       "\n",
       "      brand                  category          crawled_at  \\\n",
       "0      York  Clothing and Accessories 2021-02-10 20:11:51   \n",
       "1      York  Clothing and Accessories 2021-02-10 20:11:52   \n",
       "2      York  Clothing and Accessories 2021-02-10 20:11:52   \n",
       "3      York  Clothing and Accessories 2021-02-10 20:11:53   \n",
       "4      York  Clothing and Accessories 2021-02-10 20:11:53   \n",
       "...     ...                       ...                 ...   \n",
       "29995   Oka  Clothing and Accessories 2021-02-11 01:31:54   \n",
       "29996   Oka  Clothing and Accessories 2021-02-11 01:31:54   \n",
       "29997   Oka  Clothing and Accessories 2021-02-11 01:31:54   \n",
       "29998   Oka  Clothing and Accessories 2021-02-11 01:31:55   \n",
       "29999   Oka  Clothing and Accessories 2021-02-11 01:31:55   \n",
       "\n",
       "                                             description  discount  \\\n",
       "0      Yorker trackpants made from 100% rich combed c...      69.0   \n",
       "1      Yorker trackpants made from 100% rich combed c...      66.0   \n",
       "2      Yorker trackpants made from 100% rich combed c...      68.0   \n",
       "3      Yorker trackpants made from 100% rich combed c...      69.0   \n",
       "4      Yorker trackpants made from 100% rich combed c...      68.0   \n",
       "...                                                  ...       ...   \n",
       "29995                                                         40.0   \n",
       "29996                                                         34.0   \n",
       "29997                                                         40.0   \n",
       "29998                                                         40.0   \n",
       "29999  ‘OKANE’ endeavors to continue to be a leader i...      40.0   \n",
       "\n",
       "                                                  images  out_of_stock  \\\n",
       "0      [https://rukminim1.flixcart.com/image/128/128/...         False   \n",
       "1      [https://rukminim1.flixcart.com/image/128/128/...         False   \n",
       "2      [https://rukminim1.flixcart.com/image/128/128/...         False   \n",
       "3      [https://rukminim1.flixcart.com/image/128/128/...         False   \n",
       "4      [https://rukminim1.flixcart.com/image/128/128/...         False   \n",
       "...                                                  ...           ...   \n",
       "29995  [https://rukminim1.flixcart.com/image/128/128/...          True   \n",
       "29996  [https://rukminim1.flixcart.com/image/128/128/...         False   \n",
       "29997  [https://rukminim1.flixcart.com/image/128/128/...          True   \n",
       "29998  [https://rukminim1.flixcart.com/image/128/128/...         False   \n",
       "29999  [https://rukminim1.flixcart.com/image/128/128/...          True   \n",
       "\n",
       "                    pid                                    product_details  \\\n",
       "0      TKPFCZ9EA7H5FYZH  [{'Style Code': '1005COMBO2'}, {'Closure': 'El...   \n",
       "1      TKPFCZ9EJZV2UVRZ  [{'Style Code': '1005BLUE'}, {'Closure': 'Draw...   \n",
       "2      TKPFCZ9EHFCY5Z4Y  [{'Style Code': '1005COMBO4'}, {'Closure': 'El...   \n",
       "3      TKPFCZ9ESZZ7YWEF  [{'Style Code': '1005COMBO3'}, {'Closure': 'El...   \n",
       "4      TKPFCZ9EVXKBSUD7  [{'Style Code': '1005COMBO1'}, {'Closure': 'Dr...   \n",
       "...                 ...                                                ...   \n",
       "29995  JCKFYPM35WMMTAEN  [{'Color': 'Blue'}, {'Fabric': 'Nylon'}, {'Pat...   \n",
       "29996  SRTFV8S7DCEWAQVH  [{'Fabric': 'Polycotton'}, {'Pattern': 'Printe...   \n",
       "29997  BZRFNAH7NWUB6F5E  [{'Color': 'Grey'}, {'Fabric': 'Tweed'}, {'Pat...   \n",
       "29998  JCKFWZZM6V7RS5EA  [{'Color': 'Blue'}, {'Fabric': 'Nylon'}, {'Pat...   \n",
       "29999  JCKFWTPCWNQSFAH3  [{'Color': 'Blue'}, {'Fabric': 'Nylon'}, {'Pat...   \n",
       "\n",
       "                  seller selling_price                   sub_category  \\\n",
       "0      Shyam Enterprises           921                     Bottomwear   \n",
       "1      Shyam Enterprises           499                     Bottomwear   \n",
       "2      Shyam Enterprises           931                     Bottomwear   \n",
       "3      Shyam Enterprises           911                     Bottomwear   \n",
       "4      Shyam Enterprises           943                     Bottomwear   \n",
       "...                  ...           ...                            ...   \n",
       "29995                            1,379                    Winter Wear   \n",
       "29996              OKANE           520                     Bottomwear   \n",
       "29997                            2,999  Blazers, Waistcoats and Suits   \n",
       "29998              OKANE         1,875                    Winter Wear   \n",
       "29999                            1,875                    Winter Wear   \n",
       "\n",
       "                                                   title  \\\n",
       "0                       Solid Men Multicolor Track Pants   \n",
       "1                             Solid Men Blue Track Pants   \n",
       "2                       Solid Men Multicolor Track Pants   \n",
       "3                       Solid Men Multicolor Track Pants   \n",
       "4                      Solid Men Brown, Grey Track Pants   \n",
       "...                                                  ...   \n",
       "29995                        Sleeveless Solid Men Jacket   \n",
       "29996                    Printed Men Blue Regular Shorts   \n",
       "29997  Checkered Single Breasted Casual Men Full Slee...   \n",
       "29998                Full Sleeve Solid Men Casual Jacket   \n",
       "29999                Full Sleeve Solid Men Casual Jacket   \n",
       "\n",
       "                                                     url  \n",
       "0      https://www.flipkart.com/yorker-solid-men-mult...  \n",
       "1      https://www.flipkart.com/yorker-solid-men-blue...  \n",
       "2      https://www.flipkart.com/yorker-solid-men-mult...  \n",
       "3      https://www.flipkart.com/yorker-solid-men-mult...  \n",
       "4      https://www.flipkart.com/yorker-solid-men-brow...  \n",
       "...                                                  ...  \n",
       "29995  https://www.flipkart.com/okane-sleeveless-soli...  \n",
       "29996  https://www.flipkart.com/okane-printed-men-blu...  \n",
       "29997  https://www.flipkart.com/okane-checkered-singl...  \n",
       "29998  https://www.flipkart.com/okane-full-sleeve-sol...  \n",
       "29999  https://www.flipkart.com/okane-full-sleeve-sol...  \n",
       "\n",
       "[30000 rows x 17 columns]"
      ]
     },
     "execution_count": 41,
     "metadata": {},
     "output_type": "execute_result"
    }
   ],
   "source": [
    "df"
   ]
  },
  {
   "cell_type": "code",
   "execution_count": null,
   "metadata": {},
   "outputs": [],
   "source": []
  }
 ],
 "metadata": {
  "kernelspec": {
   "display_name": "base",
   "language": "python",
   "name": "python3"
  },
  "language_info": {
   "codemirror_mode": {
    "name": "ipython",
    "version": 3
   },
   "file_extension": ".py",
   "mimetype": "text/x-python",
   "name": "python",
   "nbconvert_exporter": "python",
   "pygments_lexer": "ipython3",
   "version": "3.10.10"
  },
  "orig_nbformat": 4
 },
 "nbformat": 4,
 "nbformat_minor": 2
}
