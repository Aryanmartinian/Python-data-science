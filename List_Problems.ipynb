{
 "cells": [
  {
   "cell_type": "code",
   "execution_count": 3,
   "metadata": {},
   "outputs": [
    {
     "name": "stdout",
     "output_type": "stream",
     "text": [
      "[5, 4, 3, 2, 10, 58, 98, 78, 5, 6]\n"
     ]
    }
   ],
   "source": [
    "numbers = []\n",
    "for i in range(10):\n",
    "    values = int(input(\"Enter a number:\"))\n",
    "    numbers.append(values)\n",
    "print(numbers)\n",
    "\n"
   ]
  },
  {
   "cell_type": "code",
   "execution_count": 6,
   "metadata": {},
   "outputs": [
    {
     "name": "stdout",
     "output_type": "stream",
     "text": [
      "Integer is present\n"
     ]
    }
   ],
   "source": [
    "values = [1,2,3,4,5,6,7,8,9,9,10]\n",
    "num = int(input('Enter a number to find in the list'))\n",
    "if num in values:\n",
    "    print(\"Integer is present\")\n",
    "else:\n",
    "    print(\"Integer is not present\")"
   ]
  },
  {
   "cell_type": "code",
   "execution_count": 8,
   "metadata": {},
   "outputs": [
    {
     "name": "stdout",
     "output_type": "stream",
     "text": [
      "['Aryan', 'Ashok', 'Shagun', 'Vivek']\n"
     ]
    }
   ],
   "source": [
    "name_List = ['Aryan','Vivek','Ashok','Shagun']\n",
    "name_List.sort()\n",
    "print(name_List)\n"
   ]
  },
  {
   "cell_type": "code",
   "execution_count": 14,
   "metadata": {},
   "outputs": [
    {
     "name": "stdout",
     "output_type": "stream",
     "text": [
      "Largest element is: 99\n"
     ]
    }
   ],
   "source": [
    "def myMax(list1):\n",
    "    max = list1[0]\n",
    "    for x in list1:\n",
    "        if x > max:\n",
    "            max = x\n",
    "    return max\n",
    " \n",
    "list1 = [10, 20, 4, 45, 99]\n",
    "print(\"Largest element is:\", myMax(list1))\n",
    "\n"
   ]
  },
  {
   "cell_type": "code",
   "execution_count": 15,
   "metadata": {},
   "outputs": [
    {
     "name": "stdout",
     "output_type": "stream",
     "text": [
      "Common element in two list: True\n"
     ]
    }
   ],
   "source": [
    "number1 = [11,15,17,19,23,35,47,57,68,70]\n",
    "number2 = [14,45,56,23,45,66,78,99,100]\n",
    "for x in number1:\n",
    "    for y in number2:\n",
    "        if x==y:\n",
    "            result = True\n",
    "print('Common element in two list:',result)\n"
   ]
  },
  {
   "cell_type": "code",
   "execution_count": 16,
   "metadata": {},
   "outputs": [
    {
     "name": "stdout",
     "output_type": "stream",
     "text": [
      "The original string is: ['Shamshera', 'Bhool bhulaiyaa', 'Ashoka the great']\n",
      "The new String after removing substring is ['Bhool bhulaiyaa', 'Ashoka the great']\n"
     ]
    }
   ],
   "source": [
    "name_List2 = ['Shamshera','Bhool bhulaiyaa','Ashoka the great']\n",
    "print('The original string is:',name_List2)\n",
    "name_List2.remove('Shamshera')\n",
    "print('The new String after removing substring is',name_List2)"
   ]
  },
  {
   "cell_type": "code",
   "execution_count": 18,
   "metadata": {},
   "outputs": [
    {
     "name": "stdout",
     "output_type": "stream",
     "text": [
      "[12, 13, 15, 16, 18, 19]\n"
     ]
    }
   ],
   "source": [
    "List = [12,12,13,15,16,18,19]\n",
    "List.remove(12)\n",
    "print(List)"
   ]
  },
  {
   "cell_type": "code",
   "execution_count": 21,
   "metadata": {},
   "outputs": [
    {
     "name": "stdout",
     "output_type": "stream",
     "text": [
      "The longest string present in the list: codechef\n"
     ]
    }
   ],
   "source": [
    "test_list = ['gfg','codechef','java','C++']\n",
    "max_len = -1\n",
    "for x in test_list:\n",
    "    if len(x) > max_len:\n",
    "        max_len = len(x)\n",
    "        res = x\n",
    "print(\"The longest string present in the list:\",res)\n"
   ]
  },
  {
   "cell_type": "code",
   "execution_count": 22,
   "metadata": {},
   "outputs": [
    {
     "name": "stdout",
     "output_type": "stream",
     "text": [
      "The sum of even numbers of the list are: 8\n"
     ]
    }
   ],
   "source": [
    "integer_values3 = [1,2,3,4,5,6,7,8,9,10,12,12,14]\n",
    "sum =0\n",
    "for i in integer_values3:\n",
    "    if i%2==0:\n",
    "        sum+=1\n",
    "print(\"The sum of even numbers of the list are:\",sum)"
   ]
  },
  {
   "cell_type": "code",
   "execution_count": 3,
   "metadata": {},
   "outputs": [
    {
     "name": "stdout",
     "output_type": "stream",
     "text": [
      "The list after removing element is: [1, 2, 3, 4, 6, 7, 8, 9]\n"
     ]
    }
   ],
   "source": [
    "Integer_List = [1,2,3,4,5,6,7,8,9]\n",
    "val = int(input('Enter an integer user wants to remove'))\n",
    "for x in Integer_List:\n",
    "    if val == x:\n",
    "        Integer_List.remove(x)\n",
    "\n",
    "print(\"The list after removing element is:\",Integer_List)"
   ]
  },
  {
   "cell_type": "code",
   "execution_count": 5,
   "metadata": {},
   "outputs": [
    {
     "name": "stdout",
     "output_type": "stream",
     "text": [
      "  Hello have a great day\n"
     ]
    }
   ],
   "source": [
    "#fname=['Ashok']\n",
    "#lname = ['Samrat']\n",
    "#fname+lname\n",
    "l = ['Hello','have','a','great','day']\n",
    "ans = ' '\n",
    "for i in l:\n",
    "    ans = ans+' '+i\n",
    "print(ans)"
   ]
  },
  {
   "cell_type": "code",
   "execution_count": 6,
   "metadata": {},
   "outputs": [
    {
     "name": "stdout",
     "output_type": "stream",
     "text": [
      "The original list: [1, 2, 3, 4, 5, 6, 7, 8, 9, 10]\n",
      "Median of the list =  5.5\n"
     ]
    }
   ],
   "source": [
    "test_list2 =[1,2,3,4,5,6,7,8,9,10]\n",
    "print('The original list:',str(test_list2))\n",
    "test_list2.sort()\n",
    "mid = len(test_list2)//2 \n",
    "res =(test_list2[mid]+test_list2[~mid]) /2\n",
    "print('Median of the list = ',str(res))\n"
   ]
  },
  {
   "cell_type": "code",
   "execution_count": 7,
   "metadata": {},
   "outputs": [
    {
     "name": "stdout",
     "output_type": "stream",
     "text": [
      "['Virat', 'Messi', 'Baseball', 'Ashoka']\n"
     ]
    }
   ],
   "source": [
    "String_List = ['Ashoka','Baseball','Messi','Virat']\n",
    "print(String_List[::-1])"
   ]
  },
  {
   "cell_type": "code",
   "execution_count": 9,
   "metadata": {},
   "outputs": [
    {
     "name": "stdout",
     "output_type": "stream",
     "text": [
      "['Once a upon a time in mumbai', 'Journey before destination']\n"
     ]
    }
   ],
   "source": [
    "String_List2 = ['Journey before destination','Once a upon a time in mumbai']\n",
    "print(String_List2[::-1])"
   ]
  },
  {
   "cell_type": "code",
   "execution_count": 11,
   "metadata": {},
   "outputs": [
    {
     "name": "stdout",
     "output_type": "stream",
     "text": [
      "The sum of the list is: 9\n",
      "Average of the List is: 1.0\n"
     ]
    }
   ],
   "source": [
    "Number_List=[23,45,67,78,99,100,120,24,25]\n",
    "average = 0\n",
    "sum = 0\n",
    "for i in Number_List:\n",
    "    sum+=1\n",
    "print('The sum of the list is:',sum)\n",
    "average = sum/len(Number_List)\n",
    "print('Average of the List is:',average)\n"
   ]
  },
  {
   "cell_type": "code",
   "execution_count": 13,
   "metadata": {},
   "outputs": [
    {
     "data": {
      "text/plain": [
       "5"
      ]
     },
     "execution_count": 13,
     "metadata": {},
     "output_type": "execute_result"
    }
   ],
   "source": [
    "Number_List.index(100)"
   ]
  },
  {
   "cell_type": "code",
   "execution_count": 15,
   "metadata": {},
   "outputs": [
    {
     "data": {
      "text/plain": [
       "1"
      ]
     },
     "execution_count": 15,
     "metadata": {},
     "output_type": "execute_result"
    }
   ],
   "source": [
    "num = int(input('Enter the element to find out index:'))\n",
    "Number_List.index(num)"
   ]
  },
  {
   "cell_type": "code",
   "execution_count": 28,
   "metadata": {},
   "outputs": [
    {
     "name": "stdout",
     "output_type": "stream",
     "text": [
      "None\n"
     ]
    }
   ],
   "source": [
    "integer_values4 = [1,2,3,4,5,6]\n",
    "print(integer_values4.sort(reverse=True))\n"
   ]
  },
  {
   "cell_type": "code",
   "execution_count": 36,
   "metadata": {},
   "outputs": [
    {
     "name": "stdout",
     "output_type": "stream",
     "text": [
      "[1, 2, 3, 4, 5, 6, 12, 21, 21, 21, 21, 21]\n",
      "[12, 1, 2, 3, 4, 5, 6, 12, 21, 21, 21, 21, 21]\n"
     ]
    }
   ],
   "source": [
    "\n",
    "integer_values4.sort()\n",
    "print(integer_values4)\n",
    "integer_values4.insert(0,12)\n",
    "print(integer_values4)"
   ]
  },
  {
   "cell_type": "code",
   "execution_count": null,
   "metadata": {},
   "outputs": [],
   "source": []
  },
  {
   "cell_type": "code",
   "execution_count": null,
   "metadata": {},
   "outputs": [],
   "source": []
  }
 ],
 "metadata": {
  "kernelspec": {
   "display_name": "base",
   "language": "python",
   "name": "python3"
  },
  "language_info": {
   "codemirror_mode": {
    "name": "ipython",
    "version": 3
   },
   "file_extension": ".py",
   "mimetype": "text/x-python",
   "name": "python",
   "nbconvert_exporter": "python",
   "pygments_lexer": "ipython3",
   "version": "3.10.10"
  },
  "orig_nbformat": 4
 },
 "nbformat": 4,
 "nbformat_minor": 2
}
